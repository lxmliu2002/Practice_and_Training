{
 "cells": [
  {
   "cell_type": "markdown",
   "id": "99ca8778-081d-4221-9548-6af2cd29d768",
   "metadata": {},
   "source": [
    "## 主成分分析算法（Principal Component Analysis， PCA）"
   ]
  },
  {
   "cell_type": "code",
   "execution_count": 1,
   "id": "eae550a9-250b-4ebe-b494-2a5bc4336a25",
   "metadata": {},
   "outputs": [],
   "source": [
    "# 导入numpy模块，别名为np，从sklearn.decomposition中导入PCA类。\n",
    "import numpy as np\n",
    "from sklearn.decomposition import PCA"
   ]
  },
  {
   "cell_type": "code",
   "execution_count": 2,
   "id": "746250a0-be09-4aab-be2d-26b42106cbe2",
   "metadata": {},
   "outputs": [
    {
     "data": {
      "text/plain": [
       "array([[-1, -1],\n",
       "       [-2, -1],\n",
       "       [-3, -2],\n",
       "       [ 1,  1],\n",
       "       [ 2,  1],\n",
       "       [ 3,  2]])"
      ]
     },
     "execution_count": 2,
     "metadata": {},
     "output_type": "execute_result"
    }
   ],
   "source": [
    "# 使用numpy的array函数创建一个二维数组X。\n",
    "X = np.array([[-1, -1], [-2, -1], [-3, -2], [1, 1], [2, 1], [3, 2]])\n",
    "X"
   ]
  },
  {
   "cell_type": "code",
   "execution_count": 3,
   "id": "6c6002f8-8f21-4a92-ae6e-0ec96fcf2cc8",
   "metadata": {},
   "outputs": [
    {
     "data": {
      "text/html": [
       "<style>#sk-container-id-1 {color: black;background-color: white;}#sk-container-id-1 pre{padding: 0;}#sk-container-id-1 div.sk-toggleable {background-color: white;}#sk-container-id-1 label.sk-toggleable__label {cursor: pointer;display: block;width: 100%;margin-bottom: 0;padding: 0.3em;box-sizing: border-box;text-align: center;}#sk-container-id-1 label.sk-toggleable__label-arrow:before {content: \"▸\";float: left;margin-right: 0.25em;color: #696969;}#sk-container-id-1 label.sk-toggleable__label-arrow:hover:before {color: black;}#sk-container-id-1 div.sk-estimator:hover label.sk-toggleable__label-arrow:before {color: black;}#sk-container-id-1 div.sk-toggleable__content {max-height: 0;max-width: 0;overflow: hidden;text-align: left;background-color: #f0f8ff;}#sk-container-id-1 div.sk-toggleable__content pre {margin: 0.2em;color: black;border-radius: 0.25em;background-color: #f0f8ff;}#sk-container-id-1 input.sk-toggleable__control:checked~div.sk-toggleable__content {max-height: 200px;max-width: 100%;overflow: auto;}#sk-container-id-1 input.sk-toggleable__control:checked~label.sk-toggleable__label-arrow:before {content: \"▾\";}#sk-container-id-1 div.sk-estimator input.sk-toggleable__control:checked~label.sk-toggleable__label {background-color: #d4ebff;}#sk-container-id-1 div.sk-label input.sk-toggleable__control:checked~label.sk-toggleable__label {background-color: #d4ebff;}#sk-container-id-1 input.sk-hidden--visually {border: 0;clip: rect(1px 1px 1px 1px);clip: rect(1px, 1px, 1px, 1px);height: 1px;margin: -1px;overflow: hidden;padding: 0;position: absolute;width: 1px;}#sk-container-id-1 div.sk-estimator {font-family: monospace;background-color: #f0f8ff;border: 1px dotted black;border-radius: 0.25em;box-sizing: border-box;margin-bottom: 0.5em;}#sk-container-id-1 div.sk-estimator:hover {background-color: #d4ebff;}#sk-container-id-1 div.sk-parallel-item::after {content: \"\";width: 100%;border-bottom: 1px solid gray;flex-grow: 1;}#sk-container-id-1 div.sk-label:hover label.sk-toggleable__label {background-color: #d4ebff;}#sk-container-id-1 div.sk-serial::before {content: \"\";position: absolute;border-left: 1px solid gray;box-sizing: border-box;top: 0;bottom: 0;left: 50%;z-index: 0;}#sk-container-id-1 div.sk-serial {display: flex;flex-direction: column;align-items: center;background-color: white;padding-right: 0.2em;padding-left: 0.2em;position: relative;}#sk-container-id-1 div.sk-item {position: relative;z-index: 1;}#sk-container-id-1 div.sk-parallel {display: flex;align-items: stretch;justify-content: center;background-color: white;position: relative;}#sk-container-id-1 div.sk-item::before, #sk-container-id-1 div.sk-parallel-item::before {content: \"\";position: absolute;border-left: 1px solid gray;box-sizing: border-box;top: 0;bottom: 0;left: 50%;z-index: -1;}#sk-container-id-1 div.sk-parallel-item {display: flex;flex-direction: column;z-index: 1;position: relative;background-color: white;}#sk-container-id-1 div.sk-parallel-item:first-child::after {align-self: flex-end;width: 50%;}#sk-container-id-1 div.sk-parallel-item:last-child::after {align-self: flex-start;width: 50%;}#sk-container-id-1 div.sk-parallel-item:only-child::after {width: 0;}#sk-container-id-1 div.sk-dashed-wrapped {border: 1px dashed gray;margin: 0 0.4em 0.5em 0.4em;box-sizing: border-box;padding-bottom: 0.4em;background-color: white;}#sk-container-id-1 div.sk-label label {font-family: monospace;font-weight: bold;display: inline-block;line-height: 1.2em;}#sk-container-id-1 div.sk-label-container {text-align: center;}#sk-container-id-1 div.sk-container {/* jupyter's `normalize.less` sets `[hidden] { display: none; }` but bootstrap.min.css set `[hidden] { display: none !important; }` so we also need the `!important` here to be able to override the default hidden behavior on the sphinx rendered scikit-learn.org. See: https://github.com/scikit-learn/scikit-learn/issues/21755 */display: inline-block !important;position: relative;}#sk-container-id-1 div.sk-text-repr-fallback {display: none;}</style><div id=\"sk-container-id-1\" class=\"sk-top-container\"><div class=\"sk-text-repr-fallback\"><pre>PCA(n_components=2)</pre><b>In a Jupyter environment, please rerun this cell to show the HTML representation or trust the notebook. <br />On GitHub, the HTML representation is unable to render, please try loading this page with nbviewer.org.</b></div><div class=\"sk-container\" hidden><div class=\"sk-item\"><div class=\"sk-estimator sk-toggleable\"><input class=\"sk-toggleable__control sk-hidden--visually\" id=\"sk-estimator-id-1\" type=\"checkbox\" checked><label for=\"sk-estimator-id-1\" class=\"sk-toggleable__label sk-toggleable__label-arrow\">PCA</label><div class=\"sk-toggleable__content\"><pre>PCA(n_components=2)</pre></div></div></div></div></div>"
      ],
      "text/plain": [
       "PCA(n_components=2)"
      ]
     },
     "execution_count": 3,
     "metadata": {},
     "output_type": "execute_result"
    }
   ],
   "source": [
    "# 使用PCA类创建一个主成分分析的对象pca，设置PCA算法中所要保留的主成分个数参数为n_cimponents=2，\n",
    "# 调用pca对象中的fit方法用数据X来训练PCA模型，函数返回值是调用fit方法的对象pca本身。\n",
    "pca=PCA(n_components=2)\n",
    "pca.fit(X)"
   ]
  },
  {
   "cell_type": "code",
   "execution_count": 4,
   "id": "f2f4f7a3-aea8-40cc-838d-9d060635ee7e",
   "metadata": {},
   "outputs": [
    {
     "data": {
      "text/plain": [
       "array([0.99244289, 0.00755711])"
      ]
     },
     "execution_count": 4,
     "metadata": {},
     "output_type": "execute_result"
    }
   ],
   "source": [
    "# 打印所保留的2个成分各自的方差百分比。\n",
    "pca.explained_variance_ratio_"
   ]
  },
  {
   "cell_type": "code",
   "execution_count": 5,
   "id": "ad8e3455-391b-434e-b3ab-d46684143e04",
   "metadata": {},
   "outputs": [
    {
     "data": {
      "text/html": [
       "<style>#sk-container-id-2 {color: black;background-color: white;}#sk-container-id-2 pre{padding: 0;}#sk-container-id-2 div.sk-toggleable {background-color: white;}#sk-container-id-2 label.sk-toggleable__label {cursor: pointer;display: block;width: 100%;margin-bottom: 0;padding: 0.3em;box-sizing: border-box;text-align: center;}#sk-container-id-2 label.sk-toggleable__label-arrow:before {content: \"▸\";float: left;margin-right: 0.25em;color: #696969;}#sk-container-id-2 label.sk-toggleable__label-arrow:hover:before {color: black;}#sk-container-id-2 div.sk-estimator:hover label.sk-toggleable__label-arrow:before {color: black;}#sk-container-id-2 div.sk-toggleable__content {max-height: 0;max-width: 0;overflow: hidden;text-align: left;background-color: #f0f8ff;}#sk-container-id-2 div.sk-toggleable__content pre {margin: 0.2em;color: black;border-radius: 0.25em;background-color: #f0f8ff;}#sk-container-id-2 input.sk-toggleable__control:checked~div.sk-toggleable__content {max-height: 200px;max-width: 100%;overflow: auto;}#sk-container-id-2 input.sk-toggleable__control:checked~label.sk-toggleable__label-arrow:before {content: \"▾\";}#sk-container-id-2 div.sk-estimator input.sk-toggleable__control:checked~label.sk-toggleable__label {background-color: #d4ebff;}#sk-container-id-2 div.sk-label input.sk-toggleable__control:checked~label.sk-toggleable__label {background-color: #d4ebff;}#sk-container-id-2 input.sk-hidden--visually {border: 0;clip: rect(1px 1px 1px 1px);clip: rect(1px, 1px, 1px, 1px);height: 1px;margin: -1px;overflow: hidden;padding: 0;position: absolute;width: 1px;}#sk-container-id-2 div.sk-estimator {font-family: monospace;background-color: #f0f8ff;border: 1px dotted black;border-radius: 0.25em;box-sizing: border-box;margin-bottom: 0.5em;}#sk-container-id-2 div.sk-estimator:hover {background-color: #d4ebff;}#sk-container-id-2 div.sk-parallel-item::after {content: \"\";width: 100%;border-bottom: 1px solid gray;flex-grow: 1;}#sk-container-id-2 div.sk-label:hover label.sk-toggleable__label {background-color: #d4ebff;}#sk-container-id-2 div.sk-serial::before {content: \"\";position: absolute;border-left: 1px solid gray;box-sizing: border-box;top: 0;bottom: 0;left: 50%;z-index: 0;}#sk-container-id-2 div.sk-serial {display: flex;flex-direction: column;align-items: center;background-color: white;padding-right: 0.2em;padding-left: 0.2em;position: relative;}#sk-container-id-2 div.sk-item {position: relative;z-index: 1;}#sk-container-id-2 div.sk-parallel {display: flex;align-items: stretch;justify-content: center;background-color: white;position: relative;}#sk-container-id-2 div.sk-item::before, #sk-container-id-2 div.sk-parallel-item::before {content: \"\";position: absolute;border-left: 1px solid gray;box-sizing: border-box;top: 0;bottom: 0;left: 50%;z-index: -1;}#sk-container-id-2 div.sk-parallel-item {display: flex;flex-direction: column;z-index: 1;position: relative;background-color: white;}#sk-container-id-2 div.sk-parallel-item:first-child::after {align-self: flex-end;width: 50%;}#sk-container-id-2 div.sk-parallel-item:last-child::after {align-self: flex-start;width: 50%;}#sk-container-id-2 div.sk-parallel-item:only-child::after {width: 0;}#sk-container-id-2 div.sk-dashed-wrapped {border: 1px dashed gray;margin: 0 0.4em 0.5em 0.4em;box-sizing: border-box;padding-bottom: 0.4em;background-color: white;}#sk-container-id-2 div.sk-label label {font-family: monospace;font-weight: bold;display: inline-block;line-height: 1.2em;}#sk-container-id-2 div.sk-label-container {text-align: center;}#sk-container-id-2 div.sk-container {/* jupyter's `normalize.less` sets `[hidden] { display: none; }` but bootstrap.min.css set `[hidden] { display: none !important; }` so we also need the `!important` here to be able to override the default hidden behavior on the sphinx rendered scikit-learn.org. See: https://github.com/scikit-learn/scikit-learn/issues/21755 */display: inline-block !important;position: relative;}#sk-container-id-2 div.sk-text-repr-fallback {display: none;}</style><div id=\"sk-container-id-2\" class=\"sk-top-container\"><div class=\"sk-text-repr-fallback\"><pre>PCA(n_components=&#x27;mle&#x27;)</pre><b>In a Jupyter environment, please rerun this cell to show the HTML representation or trust the notebook. <br />On GitHub, the HTML representation is unable to render, please try loading this page with nbviewer.org.</b></div><div class=\"sk-container\" hidden><div class=\"sk-item\"><div class=\"sk-estimator sk-toggleable\"><input class=\"sk-toggleable__control sk-hidden--visually\" id=\"sk-estimator-id-2\" type=\"checkbox\" checked><label for=\"sk-estimator-id-2\" class=\"sk-toggleable__label sk-toggleable__label-arrow\">PCA</label><div class=\"sk-toggleable__content\"><pre>PCA(n_components=&#x27;mle&#x27;)</pre></div></div></div></div></div>"
      ],
      "text/plain": [
       "PCA(n_components='mle')"
      ]
     },
     "execution_count": 5,
     "metadata": {},
     "output_type": "execute_result"
    }
   ],
   "source": [
    "# 使用PCA类创建一个主成分分析的对象pca，设置使用MLE算法计算降维后维度数量，\n",
    "# 调用pca对象中的fit方法用数据X来训练PCA模型，函数返回值是调用fit方法的对象pca本身。\n",
    "pca=PCA(n_components='mle')\n",
    "pca.fit(X)"
   ]
  },
  {
   "cell_type": "code",
   "execution_count": 6,
   "id": "8dfa6e51-1ea8-487e-a678-0d8bde412a7d",
   "metadata": {},
   "outputs": [
    {
     "data": {
      "text/plain": [
       "array([7.93954312])"
      ]
     },
     "execution_count": 6,
     "metadata": {},
     "output_type": "execute_result"
    }
   ],
   "source": [
    "# 打印各维度的方差\n",
    "pca.explained_variance_"
   ]
  },
  {
   "cell_type": "code",
   "execution_count": 7,
   "id": "6e8450d8-1336-432d-9072-773da43d1240",
   "metadata": {},
   "outputs": [
    {
     "data": {
      "text/plain": [
       "array([0.99244289])"
      ]
     },
     "execution_count": 7,
     "metadata": {},
     "output_type": "execute_result"
    }
   ],
   "source": [
    "# 各维度的方差值占总方差值的比例\n",
    "pca.explained_variance_ratio_"
   ]
  },
  {
   "cell_type": "code",
   "execution_count": 8,
   "id": "c08ce33d-4b57-460e-8896-3ab39fd1ac14",
   "metadata": {},
   "outputs": [
    {
     "data": {
      "text/plain": [
       "1"
      ]
     },
     "execution_count": 8,
     "metadata": {},
     "output_type": "execute_result"
    }
   ],
   "source": [
    "# 降维后的维度数量\n",
    "pca.n_components_"
   ]
  },
  {
   "cell_type": "code",
   "execution_count": 9,
   "id": "98a1e81a-43b4-4f09-91cc-b31e9ddf778b",
   "metadata": {},
   "outputs": [
    {
     "data": {
      "text/html": [
       "<style>#sk-container-id-3 {color: black;background-color: white;}#sk-container-id-3 pre{padding: 0;}#sk-container-id-3 div.sk-toggleable {background-color: white;}#sk-container-id-3 label.sk-toggleable__label {cursor: pointer;display: block;width: 100%;margin-bottom: 0;padding: 0.3em;box-sizing: border-box;text-align: center;}#sk-container-id-3 label.sk-toggleable__label-arrow:before {content: \"▸\";float: left;margin-right: 0.25em;color: #696969;}#sk-container-id-3 label.sk-toggleable__label-arrow:hover:before {color: black;}#sk-container-id-3 div.sk-estimator:hover label.sk-toggleable__label-arrow:before {color: black;}#sk-container-id-3 div.sk-toggleable__content {max-height: 0;max-width: 0;overflow: hidden;text-align: left;background-color: #f0f8ff;}#sk-container-id-3 div.sk-toggleable__content pre {margin: 0.2em;color: black;border-radius: 0.25em;background-color: #f0f8ff;}#sk-container-id-3 input.sk-toggleable__control:checked~div.sk-toggleable__content {max-height: 200px;max-width: 100%;overflow: auto;}#sk-container-id-3 input.sk-toggleable__control:checked~label.sk-toggleable__label-arrow:before {content: \"▾\";}#sk-container-id-3 div.sk-estimator input.sk-toggleable__control:checked~label.sk-toggleable__label {background-color: #d4ebff;}#sk-container-id-3 div.sk-label input.sk-toggleable__control:checked~label.sk-toggleable__label {background-color: #d4ebff;}#sk-container-id-3 input.sk-hidden--visually {border: 0;clip: rect(1px 1px 1px 1px);clip: rect(1px, 1px, 1px, 1px);height: 1px;margin: -1px;overflow: hidden;padding: 0;position: absolute;width: 1px;}#sk-container-id-3 div.sk-estimator {font-family: monospace;background-color: #f0f8ff;border: 1px dotted black;border-radius: 0.25em;box-sizing: border-box;margin-bottom: 0.5em;}#sk-container-id-3 div.sk-estimator:hover {background-color: #d4ebff;}#sk-container-id-3 div.sk-parallel-item::after {content: \"\";width: 100%;border-bottom: 1px solid gray;flex-grow: 1;}#sk-container-id-3 div.sk-label:hover label.sk-toggleable__label {background-color: #d4ebff;}#sk-container-id-3 div.sk-serial::before {content: \"\";position: absolute;border-left: 1px solid gray;box-sizing: border-box;top: 0;bottom: 0;left: 50%;z-index: 0;}#sk-container-id-3 div.sk-serial {display: flex;flex-direction: column;align-items: center;background-color: white;padding-right: 0.2em;padding-left: 0.2em;position: relative;}#sk-container-id-3 div.sk-item {position: relative;z-index: 1;}#sk-container-id-3 div.sk-parallel {display: flex;align-items: stretch;justify-content: center;background-color: white;position: relative;}#sk-container-id-3 div.sk-item::before, #sk-container-id-3 div.sk-parallel-item::before {content: \"\";position: absolute;border-left: 1px solid gray;box-sizing: border-box;top: 0;bottom: 0;left: 50%;z-index: -1;}#sk-container-id-3 div.sk-parallel-item {display: flex;flex-direction: column;z-index: 1;position: relative;background-color: white;}#sk-container-id-3 div.sk-parallel-item:first-child::after {align-self: flex-end;width: 50%;}#sk-container-id-3 div.sk-parallel-item:last-child::after {align-self: flex-start;width: 50%;}#sk-container-id-3 div.sk-parallel-item:only-child::after {width: 0;}#sk-container-id-3 div.sk-dashed-wrapped {border: 1px dashed gray;margin: 0 0.4em 0.5em 0.4em;box-sizing: border-box;padding-bottom: 0.4em;background-color: white;}#sk-container-id-3 div.sk-label label {font-family: monospace;font-weight: bold;display: inline-block;line-height: 1.2em;}#sk-container-id-3 div.sk-label-container {text-align: center;}#sk-container-id-3 div.sk-container {/* jupyter's `normalize.less` sets `[hidden] { display: none; }` but bootstrap.min.css set `[hidden] { display: none !important; }` so we also need the `!important` here to be able to override the default hidden behavior on the sphinx rendered scikit-learn.org. See: https://github.com/scikit-learn/scikit-learn/issues/21755 */display: inline-block !important;position: relative;}#sk-container-id-3 div.sk-text-repr-fallback {display: none;}</style><div id=\"sk-container-id-3\" class=\"sk-top-container\"><div class=\"sk-text-repr-fallback\"><pre>PCA(n_components=2, svd_solver=&#x27;full&#x27;)</pre><b>In a Jupyter environment, please rerun this cell to show the HTML representation or trust the notebook. <br />On GitHub, the HTML representation is unable to render, please try loading this page with nbviewer.org.</b></div><div class=\"sk-container\" hidden><div class=\"sk-item\"><div class=\"sk-estimator sk-toggleable\"><input class=\"sk-toggleable__control sk-hidden--visually\" id=\"sk-estimator-id-3\" type=\"checkbox\" checked><label for=\"sk-estimator-id-3\" class=\"sk-toggleable__label sk-toggleable__label-arrow\">PCA</label><div class=\"sk-toggleable__content\"><pre>PCA(n_components=2, svd_solver=&#x27;full&#x27;)</pre></div></div></div></div></div>"
      ],
      "text/plain": [
       "PCA(n_components=2, svd_solver='full')"
      ]
     },
     "execution_count": 9,
     "metadata": {},
     "output_type": "execute_result"
    }
   ],
   "source": [
    "# 使用PCA类创建一个主成分分析的对象pca，\n",
    "#设置PCA算法中所要保留的主成分个数参数为n_components=2，指定奇异值分解SVD的方法参数svd_solver='full'，\n",
    "# 调用pca对象中的fit方法用数据X来训练PCA模型，函数返回值是调用fit方法的对象pca本身。\n",
    "pca = PCA(n_components=2, svd_solver='full')\n",
    "pca.fit(X)"
   ]
  },
  {
   "cell_type": "code",
   "execution_count": 10,
   "id": "dcd6ef98-bfb2-4116-900a-9594aa22a4c4",
   "metadata": {},
   "outputs": [
    {
     "data": {
      "text/plain": [
       "array([0.99244289, 0.00755711])"
      ]
     },
     "execution_count": 10,
     "metadata": {},
     "output_type": "execute_result"
    }
   ],
   "source": [
    "# 打印所保留的2个成分各自的方差百分比。\n",
    "pca.explained_variance_ratio_"
   ]
  },
  {
   "cell_type": "markdown",
   "id": "16a1f09a-02d5-4147-a141-fc1138856a6c",
   "metadata": {},
   "source": [
    "## 非负矩阵分解(NonnegativeMatrixFactorization, NMF)"
   ]
  },
  {
   "cell_type": "code",
   "execution_count": 11,
   "id": "0f2446b5-c2cd-4548-af97-11939a1004a9",
   "metadata": {},
   "outputs": [
    {
     "data": {
      "text/plain": [
       "array([[1. , 1. ],\n",
       "       [2. , 1. ],\n",
       "       [3. , 1.2],\n",
       "       [4. , 1. ],\n",
       "       [5. , 0.8],\n",
       "       [6. , 1. ]])"
      ]
     },
     "execution_count": 11,
     "metadata": {},
     "output_type": "execute_result"
    }
   ],
   "source": [
    "# 使用numpy的array函数创建一个二维数组X。\n",
    "X = np.array([[1, 1], [2, 1], [3, 1.2], [4, 1], [5, 0.8], [6, 1]])\n",
    "X"
   ]
  },
  {
   "cell_type": "code",
   "execution_count": 12,
   "id": "80abe740-ec7e-480c-8b2e-4c3e7640bae6",
   "metadata": {},
   "outputs": [
    {
     "data": {
      "text/plain": [
       "array([[0.        , 0.46880684],\n",
       "       [0.55699523, 0.3894146 ],\n",
       "       [1.00331638, 0.41925352],\n",
       "       [1.6733999 , 0.22926926],\n",
       "       [2.34349311, 0.03927954],\n",
       "       [2.78981512, 0.06911798]])"
      ]
     },
     "execution_count": 12,
     "metadata": {},
     "output_type": "execute_result"
    }
   ],
   "source": [
    "# 导入sklearn.decomposition的NMF类，使用NMF类创建一个非负矩阵因子分解实例对象，\n",
    "# 使用fit_transform方法训练模型并用模型对数据X进行非负矩阵因子分解，\n",
    "from sklearn.decomposition import NMF\n",
    "model = NMF(n_components=2, init='random', random_state=0)\n",
    "model.fit_transform(X)"
   ]
  },
  {
   "cell_type": "code",
   "execution_count": 13,
   "id": "a9477f47-e97e-421a-8725-dd9881dbd0bf",
   "metadata": {},
   "outputs": [
    {
     "data": {
      "text/plain": [
       "array([[2.09783018, 0.30560234],\n",
       "       [2.13443044, 2.13171694]])"
      ]
     },
     "execution_count": 13,
     "metadata": {},
     "output_type": "execute_result"
    }
   ],
   "source": [
    "# 最后查看分解后数据的因子数量。\n",
    "model.components_"
   ]
  },
  {
   "cell_type": "markdown",
   "id": "2f8c0caa-fa15-4e2f-a525-bae989f738de",
   "metadata": {},
   "source": [
    "## 核主成分分析(Kernel Principal Component Analysis, KPCA)"
   ]
  },
  {
   "cell_type": "code",
   "execution_count": 14,
   "id": "ad7f3717-7da2-4ee4-882a-190f0a4c8e65",
   "metadata": {},
   "outputs": [
    {
     "data": {
      "text/plain": [
       "(100, 2)"
      ]
     },
     "execution_count": 14,
     "metadata": {},
     "output_type": "execute_result"
    }
   ],
   "source": [
    "# 导入sklearn.decomposition中的KernelPCA类，sklearn.datasets中的make_moons，\n",
    "# 使用make_moons函数创建样本数为50的训练数据X，y。\n",
    "from sklearn.decomposition import KernelPCA\n",
    "from sklearn.datasets import make_moons\n",
    "X,y=make_moons(n_samples=100,random_state=123)\n",
    "X.shape"
   ]
  },
  {
   "cell_type": "code",
   "execution_count": 15,
   "id": "107cd66f-b022-4f63-b8ba-f6b76d7805dd",
   "metadata": {},
   "outputs": [
    {
     "data": {
      "text/plain": [
       "array([[-0.19813012, -0.32893502],\n",
       "       [ 0.35038479, -0.18363537],\n",
       "       [ 0.33278344,  0.27303406],\n",
       "       [-0.35861834,  0.13787481],\n",
       "       [ 0.27947114, -0.34646117],\n",
       "       [-0.03231269, -0.09992664],\n",
       "       [-0.1402958 , -0.26393352],\n",
       "       [ 0.03231269, -0.09992664],\n",
       "       [ 0.34107928,  0.24384492],\n",
       "       [-0.11997571, -0.23460267],\n",
       "       [-0.36284598, -0.06785758],\n",
       "       [ 0.30536789, -0.32022674],\n",
       "       [ 0.36407185,  0.05708143],\n",
       "       [ 0.23323782, -0.35027498],\n",
       "       [-0.36450698, -0.02649036],\n",
       "       [-0.19110122,  0.31758295],\n",
       "       [ 0.3619725 ,  0.09811911],\n",
       "       [-0.25930323,  0.35789694],\n",
       "       [ 0.16016551, -0.28967584],\n",
       "       [ 0.36491625,  0.01534889],\n",
       "       [-0.30089306,  0.33640228],\n",
       "       [ 0.25930323,  0.35789694],\n",
       "       [-0.34376065, -0.21775298],\n",
       "       [-0.35401236,  0.17577444],\n",
       "       [-0.34107928,  0.24384492],\n",
       "       [ 0.20934501,  0.33483988],\n",
       "       [ 0.30089306,  0.33640228],\n",
       "       [-0.21607303, -0.34193845],\n",
       "       [ 0.09932993, -0.20228953],\n",
       "       [-0.20934501,  0.33483988],\n",
       "       [-0.35577988, -0.14695458],\n",
       "       [ 0.22683311,  0.34741261],\n",
       "       [-0.3232991 ,  0.29841965],\n",
       "       [ 0.34376065, -0.21775298],\n",
       "       [ 0.31265694,  0.31964198],\n",
       "       [ 0.27416866,  0.35566406],\n",
       "       [ 0.13245717,  0.2402938 ],\n",
       "       [ 0.09146283,  0.17247526],\n",
       "       [ 0.2649936 , -0.35255318],\n",
       "       [-0.2649936 , -0.35255318],\n",
       "       [-0.35038479, -0.18363537],\n",
       "       [ 0.2435057 ,  0.35513358],\n",
       "       [-0.27416866,  0.35566406],\n",
       "       [ 0.21607303, -0.34193845],\n",
       "       [-0.05656415, -0.13318112],\n",
       "       [ 0.36450698, -0.02649036],\n",
       "       [-0.24956408, -0.35382994],\n",
       "       [ 0.35401236,  0.17577444],\n",
       "       [-0.29294509, -0.33563662],\n",
       "       [ 0.11997571, -0.23460267],\n",
       "       [-0.31669638, -0.30044048],\n",
       "       [-0.36407185,  0.05708143],\n",
       "       [ 0.05656415, -0.13318112],\n",
       "       [-0.13245717,  0.2402938 ],\n",
       "       [-0.16016551, -0.28967584],\n",
       "       [ 0.07156393,  0.13691659],\n",
       "       [-0.3481618 ,  0.2112689 ],\n",
       "       [-0.1525819 ,  0.26997043],\n",
       "       [ 0.3599357 , -0.10819164],\n",
       "       [-0.17215982,  0.29586483],\n",
       "       [-0.30536789, -0.32022674],\n",
       "       [ 0.1525819 ,  0.26997043],\n",
       "       [-0.33592278, -0.24885957],\n",
       "       [-0.27947114, -0.34646117],\n",
       "       [-0.3599357 , -0.10819164],\n",
       "       [-0.23323782, -0.35027498],\n",
       "       [ 0.19813012, -0.32893502],\n",
       "       [ 0.35577988, -0.14695458],\n",
       "       [ 0.29294509, -0.33563662],\n",
       "       [-0.09932993, -0.20228953],\n",
       "       [-0.22683311,  0.34741261],\n",
       "       [-0.31265694,  0.31964198],\n",
       "       [-0.3619725 ,  0.09811911],\n",
       "       [ 0.07835894, -0.16798017],\n",
       "       [-0.17947161, -0.31143848],\n",
       "       [-0.07156393,  0.13691659],\n",
       "       [ 0.24956408, -0.35382994],\n",
       "       [ 0.17215982,  0.29586483],\n",
       "       [ 0.05311441,  0.10282916],\n",
       "       [-0.2435057 ,  0.35513358],\n",
       "       [-0.07835894, -0.16798017],\n",
       "       [ 0.32689231, -0.27654473],\n",
       "       [ 0.1402958 , -0.26393352],\n",
       "       [-0.05311441,  0.10282916],\n",
       "       [ 0.33592278, -0.24885957],\n",
       "       [ 0.3481618 ,  0.2112689 ],\n",
       "       [-0.28804847,  0.34846578],\n",
       "       [ 0.35861834,  0.13787481],\n",
       "       [ 0.11196462,  0.207455  ],\n",
       "       [-0.36491625,  0.01534889],\n",
       "       [-0.11196462,  0.207455  ],\n",
       "       [-0.33278344,  0.27303406],\n",
       "       [ 0.36284598, -0.06785758],\n",
       "       [-0.09146283,  0.17247526],\n",
       "       [ 0.28804847,  0.34846578],\n",
       "       [ 0.17947161, -0.31143848],\n",
       "       [ 0.3232991 ,  0.29841965],\n",
       "       [-0.32689231, -0.27654473],\n",
       "       [ 0.19110122,  0.31758295],\n",
       "       [ 0.31669638, -0.30044048]])"
      ]
     },
     "execution_count": 15,
     "metadata": {},
     "output_type": "execute_result"
    }
   ],
   "source": [
    "# 使用KernelPCA类创建一个核主成分分析的对象scikit_kpca，\n",
    "# 设置要保留的主成分个数参数n_components=2，核函数使用径向基核函数kernel='rbf'，内核系数参数gamma=15，\n",
    "# 然后使用对象的fit_transform方法通过X数据训练模型，并用模型对X数据进行核主成分分析。\n",
    "scikit_kpca = KernelPCA(n_components=2,kernel='rbf',gamma=15)\n",
    "kpca_X = scikit_kpca.fit_transform(X)\n",
    "kpca_X"
   ]
  },
  {
   "cell_type": "code",
   "execution_count": 16,
   "id": "7aaf114d-dba1-4fef-95c2-bf6b76a13c86",
   "metadata": {},
   "outputs": [
    {
     "data": {
      "text/plain": [
       "<matplotlib.collections.PathCollection at 0x2a424f0f910>"
      ]
     },
     "execution_count": 16,
     "metadata": {},
     "output_type": "execute_result"
    },
    {
     "data": {
      "text/plain": [
       "<matplotlib.collections.PathCollection at 0x2a424f23c70>"
      ]
     },
     "execution_count": 16,
     "metadata": {},
     "output_type": "execute_result"
    },
    {
     "data": {
      "text/plain": [
       "Text(0.5, 0, 'PC1')"
      ]
     },
     "execution_count": 16,
     "metadata": {},
     "output_type": "execute_result"
    },
    {
     "data": {
      "text/plain": [
       "Text(0, 0.5, 'PC2')"
      ]
     },
     "execution_count": 16,
     "metadata": {},
     "output_type": "execute_result"
    },
    {
     "data": {
      "text/plain": [
       "<matplotlib.collections.PathCollection at 0x2a424eb1f70>"
      ]
     },
     "execution_count": 16,
     "metadata": {},
     "output_type": "execute_result"
    },
    {
     "data": {
      "text/plain": [
       "<matplotlib.collections.PathCollection at 0x2a424f7db80>"
      ]
     },
     "execution_count": 16,
     "metadata": {},
     "output_type": "execute_result"
    },
    {
     "data": {
      "text/plain": [
       "Text(0.5, 0, 'PC1 of KPCA')"
      ]
     },
     "execution_count": 16,
     "metadata": {},
     "output_type": "execute_result"
    },
    {
     "data": {
      "text/plain": [
       "Text(0, 0.5, 'PC2 of KPCA')"
      ]
     },
     "execution_count": 16,
     "metadata": {},
     "output_type": "execute_result"
    },
    {
     "data": {
      "image/png": "[encoded data removed]",
      "text/plain": [
       "<Figure size 432x288 with 2 Axes>"
      ]
     },
     "metadata": {
      "needs_background": "light"
     },
     "output_type": "display_data"
    }
   ],
   "source": [
    "# 导入matplotlib.pyplot模块，别名为plt，使用plt绘制训练数据X,y的散点图，与kpca_X,y核主成分分析返回数据的散点图。\n",
    "%matplotlib inline\n",
    "import matplotlib.pyplot as plt\n",
    "fig=plt.figure()\n",
    "ax1=fig.add_subplot(211)\n",
    "ax1.scatter(X[y==0,0],X[y==0,1],color='red',marker='^',alpha=0.5)\n",
    "ax1.scatter(X[y==1,0],X[y==1,1],color='blue',marker='o',alpha=0.5)\n",
    "ax1.set_xlabel('PC1')\n",
    "ax1.set_ylabel('PC2') \n",
    "ax2=fig.add_subplot(212)\n",
    "ax2.scatter(kpca_X[y==0,0],kpca_X[y==0,1],color='red',marker='^',alpha=0.5)\n",
    "ax2.scatter(kpca_X[y==1,0],kpca_X[y==1,1],color='green',marker='*',alpha=0.5)\n",
    "ax2.set_xlabel('PC1 of KPCA')\n",
    "ax2.set_ylabel('PC2 of KPCA')\n",
    "plt.show()"
   ]
  },
  {
   "cell_type": "markdown",
   "id": "04886d8c-2ab4-4d70-9578-2b98e94df469",
   "metadata": {},
   "source": [
    "# 以上！"
   ]
  }
 ],
 "metadata": {
  "kernelspec": {
   "display_name": "Python 3 (ipykernel)",
   "language": "python",
   "name": "python3"
  },
  "language_info": {
   "codemirror_mode": {
    "name": "ipython",
    "version": 3
   },
   "file_extension": ".py",
   "mimetype": "text/x-python",
   "name": "python",
   "nbconvert_exporter": "python",
   "pygments_lexer": "ipython3",
   "version": "3.9.0"
  }
 },
 "nbformat": 4,
 "nbformat_minor": 5
}
