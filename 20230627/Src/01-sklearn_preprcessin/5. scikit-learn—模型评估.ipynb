{
 "cells": [
  {
   "cell_type": "markdown",
   "id": "4c91a225-e67f-47fb-9f16-45ff57f8bd84",
   "metadata": {},
   "source": [
    "## 1.分类模型评估"
   ]
  },
  {
   "cell_type": "markdown",
   "id": "e8e0e09e-befc-4a88-b697-c1824b303870",
   "metadata": {},
   "source": [
    "### 1.1 准确率"
   ]
  },
  {
   "cell_type": "code",
   "execution_count": 1,
   "id": "ce77c059-104a-4395-befb-a45de2b4dedd",
   "metadata": {},
   "outputs": [
    {
     "data": {
      "text/plain": [
       "0.5"
      ]
     },
     "execution_count": 1,
     "metadata": {},
     "output_type": "execute_result"
    }
   ],
   "source": [
    "# 准确率sklearn.metrics.accuracy_score(y_true, y_pred, normalize=True, sample_weight=None)：预测值与真实值相同的数量比上样本总数。\n",
    "import numpy as np  \n",
    "from sklearn.metrics import accuracy_score  \n",
    "y_pred = [0, 2, 1, 3]  \n",
    "y_true = [0, 1, 2, 3]  \n",
    "accuracy_score(y_true, y_pred)"
   ]
  },
  {
   "cell_type": "code",
   "execution_count": 2,
   "id": "c8de735a-2483-46ff-8b39-9898ee34371c",
   "metadata": {},
   "outputs": [
    {
     "data": {
      "text/plain": [
       "2"
      ]
     },
     "execution_count": 2,
     "metadata": {},
     "output_type": "execute_result"
    }
   ],
   "source": [
    "# 设置accuracy_score函数的参数normalize=False，返回真实值与预测值相同的个数。\n",
    "accuracy_score(y_true, y_pred, normalize=False)"
   ]
  },
  {
   "cell_type": "markdown",
   "id": "e5c29d1e-a042-4eaf-a546-afd421fc022a",
   "metadata": {},
   "source": [
    "### 1.2 平均准确率"
   ]
  },
  {
   "cell_type": "code",
   "execution_count": 3,
   "id": "e9974565-017c-4cb4-8ea3-df465ea09508",
   "metadata": {},
   "outputs": [
    {
     "data": {
      "text/plain": [
       "0.8333333333333333"
      ]
     },
     "execution_count": 3,
     "metadata": {},
     "output_type": "execute_result"
    }
   ],
   "source": [
    "# 平均准确率average_precision_score：针对不平衡数据，对n个类，计算每个类别i的准确率，然后求平均\n",
    "import numpy as np  \n",
    "from sklearn.metrics import average_precision_score  \n",
    "y_true = np.array([0, 0, 1, 1])  \n",
    "y_scores = np.array([0.1, 0.4, 0.35, 0.8])  \n",
    "average_precision_score(y_true, y_scores)"
   ]
  },
  {
   "cell_type": "markdown",
   "id": "5f0f9c6d-4628-4671-be6e-9933d5fcfc0d",
   "metadata": {},
   "source": [
    "### 1.3 f1_score"
   ]
  },
  {
   "cell_type": "code",
   "execution_count": 4,
   "id": "d35f1ddc-d46f-4386-8288-45c991f1f614",
   "metadata": {},
   "outputs": [
    {
     "data": {
      "text/plain": [
       "0.3333333333333333"
      ]
     },
     "execution_count": 4,
     "metadata": {},
     "output_type": "execute_result"
    }
   ],
   "source": [
    "# f1_score值：F1-score = 2 * (precision * recall) / (precision + recall)，其中，precision（精确率）：所有分正确的正样本比上所有预测为正类的样本数，recall（召回率）：所有分正确的正样本比上所有的正类样本数。函数f1_score中的参数average=’micro'，\n",
    "# 表示通过先计算总体的TP，FP和FN的数量，然后计算F1 score。\n",
    "from sklearn.metrics import f1_score  \n",
    "y_true = [0, 1, 2, 0, 1, 2]  \n",
    "y_pred = [0, 2, 1, 0, 0, 1]  \n",
    "f1_score(y_true, y_pred, average='micro')"
   ]
  },
  {
   "cell_type": "code",
   "execution_count": 5,
   "id": "4f0be633-a2f8-42b2-9d24-5f6b00863f63",
   "metadata": {},
   "outputs": [
    {
     "data": {
      "text/plain": [
       "0.26666666666666666"
      ]
     },
     "execution_count": 5,
     "metadata": {},
     "output_type": "execute_result"
    }
   ],
   "source": [
    "# 设置参数average=‘ macro'：表示分布计算每个类别的F1，然后做平均（各类别F1的权重相同）\n",
    "f1_score(y_true, y_pred, average='macro')"
   ]
  },
  {
   "cell_type": "code",
   "execution_count": 6,
   "id": "718311a4-b2dd-4d6b-b6ab-411d3bdb6abe",
   "metadata": {},
   "outputs": [
    {
     "data": {
      "text/plain": [
       "0.26666666666666666"
      ]
     },
     "execution_count": 6,
     "metadata": {},
     "output_type": "execute_result"
    }
   ],
   "source": [
    "# 设置参数average=‘ weighted'：表示分布计算每个类别的F1，然后做平均(各类别F1的权重为该类别样本数占总样本数的比例)。\n",
    "f1_score(y_true, y_pred, average='weighted')"
   ]
  },
  {
   "cell_type": "code",
   "execution_count": 7,
   "id": "7ee9db13-9830-42bf-9bef-9d0461065e18",
   "metadata": {},
   "outputs": [
    {
     "data": {
      "text/plain": [
       "array([0.8, 0. , 0. ])"
      ]
     },
     "execution_count": 7,
     "metadata": {},
     "output_type": "execute_result"
    }
   ],
   "source": [
    "# 设置参数average=None：表示返回每个类别的F1值。\n",
    "f1_score(y_true, y_pred, average=None)"
   ]
  },
  {
   "cell_type": "markdown",
   "id": "ef7a051e-afc4-4845-a146-1496a8b929c6",
   "metadata": {},
   "source": [
    "### 1.4 对数损失"
   ]
  },
  {
   "cell_type": "code",
   "execution_count": 8,
   "id": "b01cb9ae-547f-44f6-941a-0aae5e30630d",
   "metadata": {},
   "outputs": [
    {
     "data": {
      "text/plain": [
       "0.21616187468057912"
      ]
     },
     "execution_count": 8,
     "metadata": {},
     "output_type": "execute_result"
    }
   ],
   "source": [
    "# 对数损失（Log-loss）：针对分类输出的不是类别而是类别的概率，使用对数损失函数进行评价类别的概率。\n",
    "from sklearn.metrics import log_loss  \n",
    "log_loss([\"spam\", \"ham\", \"ham\", \"spam\"],[[.1, .9], [.9, .1], [.8, .2], [.35, .65]])"
   ]
  },
  {
   "cell_type": "markdown",
   "id": "95664f2a-9ed6-40e5-ab7d-4bb12b10128d",
   "metadata": {},
   "source": [
    "## 1.5 精确率"
   ]
  },
  {
   "cell_type": "code",
   "execution_count": 9,
   "id": "3fd6cfb8-eeef-499a-b185-3e7610284bde",
   "metadata": {},
   "outputs": [
    {
     "data": {
      "text/plain": [
       "0.2222222222222222"
      ]
     },
     "execution_count": 9,
     "metadata": {},
     "output_type": "execute_result"
    }
   ],
   "source": [
    "# 精确率(precision_score)：所有分正确的正样本/所有预测为正类的样本数，即Precision=TP/(TP+FP)。\n",
    "# 设置参数average=’macro'，表示先计算每个类别的精确率，然后求平均（权重相等）。\n",
    "from sklearn.metrics import precision_score  \n",
    "y_true = [0, 1, 2, 0, 1, 2]  \n",
    "y_pred = [0, 2, 1, 0, 0, 1]  \n",
    "precision_score(y_true, y_pred, average='macro')"
   ]
  },
  {
   "cell_type": "code",
   "execution_count": 10,
   "id": "8171a16e-7186-4931-af38-c91205448e10",
   "metadata": {},
   "outputs": [
    {
     "data": {
      "text/plain": [
       "0.3333333333333333"
      ]
     },
     "execution_count": 10,
     "metadata": {},
     "output_type": "execute_result"
    }
   ],
   "source": [
    "# 设置参数average=‘micro'，表示通过先计算总体的TP，FP和FN的数量，然后计算精确率。\n",
    "precision_score(y_true, y_pred, average='micro')"
   ]
  },
  {
   "cell_type": "code",
   "execution_count": 11,
   "id": "eaabbd11-e62e-40fe-8ebc-0a0c9cb1e15a",
   "metadata": {},
   "outputs": [
    {
     "data": {
      "text/plain": [
       "0.2222222222222222"
      ]
     },
     "execution_count": 11,
     "metadata": {},
     "output_type": "execute_result"
    }
   ],
   "source": [
    "# 设置参数average=‘weighted’，表示先计算每个类别的精确率，然后求平均（各个类别精确度的权重为该类别样本数占总样本数的比例）\n",
    "precision_score(y_true, y_pred, average='weighted')"
   ]
  },
  {
   "cell_type": "code",
   "execution_count": 12,
   "id": "8d8bc95f-cf88-48de-afe9-6bad3f35fc84",
   "metadata": {},
   "outputs": [
    {
     "data": {
      "text/plain": [
       "array([0.66666667, 0.        , 0.        ])"
      ]
     },
     "execution_count": 12,
     "metadata": {},
     "output_type": "execute_result"
    }
   ],
   "source": [
    "# 设置参数average=None：表示返回每个类别的精确率值。\n",
    "precision_score(y_true, y_pred, average=None)"
   ]
  },
  {
   "cell_type": "markdown",
   "id": "0f16749f-3fd7-4d88-9bf8-f79b5d0f53f2",
   "metadata": {},
   "source": [
    "### 1.6 召回率"
   ]
  },
  {
   "cell_type": "code",
   "execution_count": 13,
   "id": "083962b3-03ee-4fbf-91ca-1ade162a5c3a",
   "metadata": {},
   "outputs": [
    {
     "data": {
      "text/plain": [
       "0.3333333333333333"
      ]
     },
     "execution_count": 13,
     "metadata": {},
     "output_type": "execute_result"
    }
   ],
   "source": [
    "# 召回率（recall）：所有分正确的正样本/所有正类的样本数，即Precision=TP/(TP+FN)。\n",
    "# 设置参数average=’macro'，表示先计算每个类别的召回率，然后求平均（权重相等）。\n",
    "from sklearn.metrics import recall_score  \n",
    "y_true = [0, 1, 2, 0, 1, 2]  \n",
    "y_pred = [0, 2, 1, 0, 0, 1]  \n",
    "recall_score(y_true, y_pred, average='macro')"
   ]
  },
  {
   "cell_type": "code",
   "execution_count": 14,
   "id": "f85195ac-f210-4632-a3c2-eeca0cd3c3e0",
   "metadata": {},
   "outputs": [
    {
     "data": {
      "text/plain": [
       "0.3333333333333333"
      ]
     },
     "execution_count": 14,
     "metadata": {},
     "output_type": "execute_result"
    }
   ],
   "source": [
    "# 设置参数average=‘micro'，表示通过先计算总体的TP，FP和FN的数量，然后计算召回率。\n",
    "recall_score(y_true, y_pred, average='micro')"
   ]
  },
  {
   "cell_type": "code",
   "execution_count": 15,
   "id": "38241ef9-ea65-4bcf-9936-3a834a8cf416",
   "metadata": {},
   "outputs": [
    {
     "data": {
      "text/plain": [
       "0.3333333333333333"
      ]
     },
     "execution_count": 15,
     "metadata": {},
     "output_type": "execute_result"
    }
   ],
   "source": [
    "# 设置参数average=‘weighted'，表示先计算每个类别的召回率，然后求平均（各个类别精确度的权重为该类别样本数占总样本数的比例）\n",
    "recall_score(y_true, y_pred, average='weighted')"
   ]
  },
  {
   "cell_type": "markdown",
   "id": "a8980116-8b3b-4fe4-8e91-9495bc62ae03",
   "metadata": {},
   "source": [
    "### 1.7 混合矩阵/混淆矩阵"
   ]
  },
  {
   "cell_type": "code",
   "execution_count": 16,
   "id": "b60f44d0-619f-4efc-9a6d-3d2c5f95c74f",
   "metadata": {},
   "outputs": [
    {
     "data": {
      "text/plain": [
       "array([[2, 0, 0],\n",
       "       [0, 0, 1],\n",
       "       [1, 0, 2]], dtype=int64)"
      ]
     },
     "execution_count": 16,
     "metadata": {},
     "output_type": "execute_result"
    }
   ],
   "source": [
    "# 混合矩阵(confusion_matrix)：被称为错误矩阵，通过它可以直观地观察到算法的效果。\n",
    "# 它的每一列是样本的预测分类，每一行是样本的真实分类（反过来也可以），\n",
    "# 它反映了分类结果的混淆程度。混淆矩阵i行j列的原本是类别i却被分为类别j的样本个数，计算完之后还可以对之进行可视化。\n",
    "from sklearn.metrics import confusion_matrix  \n",
    "y_true=[2,0,2,2,0,1]  \n",
    "y_pred=[0,0,2,2,0,2]  \n",
    "confusion_matrix(y_true,y_pred)"
   ]
  },
  {
   "cell_type": "code",
   "execution_count": 17,
   "id": "4c635f5b-495a-42cd-938e-6b632f7196c1",
   "metadata": {},
   "outputs": [
    {
     "name": "stdout",
     "output_type": "stream",
     "text": [
      "              precision    recall  f1-score   support\n",
      "\n",
      "     class 0       0.50      1.00      0.67         1\n",
      "     class 1       0.00      0.00      0.00         1\n",
      "     class 2       1.00      0.67      0.80         3\n",
      "\n",
      "    accuracy                           0.60         5\n",
      "   macro avg       0.50      0.56      0.49         5\n",
      "weighted avg       0.70      0.60      0.61         5\n",
      "\n"
     ]
    }
   ],
   "source": [
    "# 分类报告（classification_report）：返回precision/recall/fi-score/均值/分类个数。\n",
    "from sklearn.metrics import classification_report  \n",
    "y_true = [0, 1, 2, 2, 2]  \n",
    "y_pred = [0, 0, 2, 2, 1]  \n",
    "target_names = ['class 0', 'class 1', 'class 2']  \n",
    "print(classification_report(y_true, y_pred, target_names=target_names))"
   ]
  },
  {
   "cell_type": "markdown",
   "id": "dfb0d892-e877-47aa-b40b-cf02cb2c01d9",
   "metadata": {},
   "source": [
    "### 1.8 受试者工作特征曲线"
   ]
  },
  {
   "cell_type": "code",
   "execution_count": 18,
   "id": "808ec20d-86cc-413b-b3b6-e324c2a25dc9",
   "metadata": {},
   "outputs": [
    {
     "name": "stdout",
     "output_type": "stream",
     "text": [
      "[0.  0.  0.5 0.5 1. ] [0.  0.5 0.5 1.  1. ] [1.8  0.8  0.4  0.35 0.1 ]\n"
     ]
    }
   ],
   "source": [
    "# 受试者工作特征曲线（roc_curve）：其实是多个混淆矩阵的结果组合，这里的roc_curve函数只适合做二分类模型评估。\n",
    "import numpy as np  \n",
    "from sklearn import metrics  \n",
    "y=np.array([1,1,2,2])  \n",
    "scores=np.array([0.1,0.4,0.35,0.8])  \n",
    "fpr, tpr, thresholds = metrics.roc_curve(y, scores, pos_label=2)  \n",
    "# 返回fpr，tpr，阀值这三个值：\n",
    "print(fpr,tpr,thresholds)"
   ]
  },
  {
   "cell_type": "markdown",
   "id": "c52aaf97-3c0a-4283-8a2f-a77d1e88dc03",
   "metadata": {},
   "source": [
    "### 1.9 ROC曲线下面的面积(roc_auc_score)"
   ]
  },
  {
   "cell_type": "code",
   "execution_count": 19,
   "id": "f1d927ab-a64e-4ff9-95d9-d312f7c68b7f",
   "metadata": {},
   "outputs": [
    {
     "data": {
      "text/plain": [
       "0.75"
      ]
     },
     "execution_count": 19,
     "metadata": {},
     "output_type": "execute_result"
    }
   ],
   "source": [
    "# ROC曲线下面的面积(roc_auc_score)：面积值越大，模型越精确，在二分类和多分类模型评估中可以用。\n",
    "import numpy as np  \n",
    "from sklearn.metrics import roc_auc_score  \n",
    "y_true = np.array([0, 0, 1, 1])  \n",
    "y_scores = np.array([0.1, 0.4, 0.35, 0.8])  \n",
    "roc_auc_score(y_true, y_scores)"
   ]
  },
  {
   "cell_type": "markdown",
   "id": "55428760-6211-4dc2-a178-5a3c8cd242cd",
   "metadata": {},
   "source": [
    "### 1.10 Cohen’s kappa统计量"
   ]
  },
  {
   "cell_type": "code",
   "execution_count": 20,
   "id": "c5265ace-bddd-471d-a851-edc572c80ab7",
   "metadata": {},
   "outputs": [
    {
     "data": {
      "text/plain": [
       "0.4285714285714286"
      ]
     },
     "execution_count": 20,
     "metadata": {},
     "output_type": "execute_result"
    }
   ],
   "source": [
    "# Cohen’s kappa统计量（cohen_kappa_score）：值是介于-1—1之间，当值大于0.8时，普遍认为模型很好，、\n",
    "# 一般可用在二分类和多分类问题中，但不能用在多标签问题。\n",
    "from sklearn.metrics import cohen_kappa_score  \n",
    "y_true = [2, 0, 2, 2, 0, 1]  \n",
    "y_pred = [0, 0, 2, 2, 0, 2]  \n",
    "cohen_kappa_score(y_true,y_pred)"
   ]
  },
  {
   "cell_type": "markdown",
   "id": "12512810-35f5-4689-9f3a-1f3f3bb0c862",
   "metadata": {},
   "source": [
    "### 1.11 Hamming Loss"
   ]
  },
  {
   "cell_type": "code",
   "execution_count": 21,
   "id": "551f5dc6-82d9-47b8-95b8-c6596ee8e3d4",
   "metadata": {},
   "outputs": [
    {
     "name": "stdout",
     "output_type": "stream",
     "text": [
      "0.25\n"
     ]
    }
   ],
   "source": [
    "# Hamming Loss：计算两个样本集合之间的平均汉明损失\n",
    "from sklearn.metrics import hamming_loss  \n",
    "y_pred=[1,2,3,4]  \n",
    "y_true=[2,2,3,4]  \n",
    "print(hamming_loss(y_true,y_pred))"
   ]
  },
  {
   "cell_type": "markdown",
   "id": "0336d163-616a-4c50-952c-58b92b4dd775",
   "metadata": {},
   "source": [
    "### 1.12 0-1损失"
   ]
  },
  {
   "cell_type": "code",
   "execution_count": 22,
   "id": "caa8be0b-391a-4821-b8ad-44988eccc408",
   "metadata": {},
   "outputs": [
    {
     "name": "stdout",
     "output_type": "stream",
     "text": [
      "0.25\n",
      "1\n",
      "0.5\n",
      "1\n"
     ]
    }
   ],
   "source": [
    "# 0-1损失（zero_one_loss）：该函数计算nsample个样本上的0-1分类损失（L0-1)的和或者平均值。\n",
    "# 默认情况下，返回的是所以样本上的损失的平均损失，把参数normalize设置为False，就可以返回损失值的和。\n",
    "from sklearn.metrics import zero_one_loss  \n",
    "import numpy as np  \n",
    "#二分类问题  \n",
    "y_pred=[1,2,3,4]  \n",
    "y_true=[2,2,3,4]  \n",
    "print(zero_one_loss(y_true,y_pred))  \n",
    "print(zero_one_loss(y_true,y_pred,normalize=False))  \n",
    "#多分类标签问题  \n",
    "print(zero_one_loss(np.array([[0,1],[1,1]]),np.ones((2,2))))  \n",
    "print(zero_one_loss(np.array([[0,1],[1,1]]),np.ones((2,2)),normalize=False))"
   ]
  },
  {
   "cell_type": "markdown",
   "id": "78c29901-44a1-4a15-8002-b2ddfb271c5b",
   "metadata": {},
   "source": [
    "### 1.13 杰卡德相似系数"
   ]
  },
  {
   "cell_type": "code",
   "execution_count": 23,
   "id": "60b4be73-53c4-4c97-9cbf-478d771e9590",
   "metadata": {},
   "outputs": [
    {
     "data": {
      "text/plain": [
       "array([1., 0., 0., 1., 1.])"
      ]
     },
     "execution_count": 23,
     "metadata": {},
     "output_type": "execute_result"
    }
   ],
   "source": [
    "# 杰卡德相似系数（Jaccard）:Jaccard相似度分函数jaccard_similarity_score，计算平均（默认）或Jaccard相似系数的总和，也称为Jaccard指数，在一对(两个)标签集之间。\n",
    "import numpy as np  \n",
    "# from sklearn.metrics import jaccard_similarity_score\n",
    "from sklearn.metrics import jaccard_score\n",
    "y_pred = [0, 2, 1, 3, 4]  \n",
    "y_true = [0, 1, 2, 3, 4]  \n",
    "# jaccard_similarity_score(y_true, y_pred)\n",
    "# 二分类时average参数默认是binary；多分类时，可选参数有None,binary、micro、macro、weighted 和 samples。\n",
    "# 修改：将jaccard_score(y_true, y_pred)改为jaccard_score(y_true, y_pred,average='macro')\n",
    "# jaccard_score(y_true, y_pred)\n",
    "# 输出每一个系数\n",
    "jaccard_score_array = jaccard_score(y_true, y_pred,average=None)\n",
    "jaccard_score_array"
   ]
  },
  {
   "cell_type": "code",
   "execution_count": 24,
   "id": "2f65856c-22b3-4bb3-a191-23c997a92a28",
   "metadata": {},
   "outputs": [
    {
     "data": {
      "text/plain": [
       "0.6"
      ]
     },
     "execution_count": 24,
     "metadata": {},
     "output_type": "execute_result"
    },
    {
     "data": {
      "text/plain": [
       "3.0"
      ]
     },
     "execution_count": 24,
     "metadata": {},
     "output_type": "execute_result"
    }
   ],
   "source": [
    "# 计算杰卡德相似系数的平均值\n",
    "jaccard_score_array.mean()\n",
    "# 设置jaccard_similarity_score函数的参数normalize=False，表示计算样本集中jaccard相似度的和。\n",
    "# jaccard_score(y_true, y_pred, normalize=False)\n",
    "# 计算杰卡德相似系数的和\n",
    "jaccard_score_array.sum()"
   ]
  },
  {
   "cell_type": "markdown",
   "id": "7bc5eff5-7443-499d-ae1e-637de88ab6c8",
   "metadata": {},
   "source": [
    "## 2. 回归评价指标"
   ]
  },
  {
   "cell_type": "markdown",
   "id": "fc726afb-8d7f-4ca4-8281-1428a8c173a7",
   "metadata": {},
   "source": [
    "### 2.1 可释方差值"
   ]
  },
  {
   "cell_type": "code",
   "execution_count": 25,
   "id": "07180467-ca02-4e37-8306-ac668af01d59",
   "metadata": {},
   "outputs": [
    {
     "data": {
      "text/plain": [
       "0.9571734475374732"
      ]
     },
     "execution_count": 25,
     "metadata": {},
     "output_type": "execute_result"
    }
   ],
   "source": [
    "# 可释方差值（Explained variance score），值取1时回归效果最好，取值越小回归模型效果越差。\n",
    "from sklearn.metrics import explained_variance_score  \n",
    "y_true = [3, -0.5, 2, 7]  \n",
    "y_pred = [2.5, 0.0, 2, 8]  \n",
    "explained_variance_score(y_true, y_pred)"
   ]
  },
  {
   "cell_type": "code",
   "execution_count": 26,
   "id": "662b024d-d636-4466-9727-a09c4d651cce",
   "metadata": {},
   "outputs": [
    {
     "data": {
      "text/plain": [
       "array([0.96774194, 1.        ])"
      ]
     },
     "execution_count": 26,
     "metadata": {},
     "output_type": "execute_result"
    }
   ],
   "source": [
    "# 当输入数据为多维时，设置explained_variance_score函数中参数multioutput=‘raw_values’，表示在多输出多输入的情况下返回一组完整的方差值。\n",
    "y_true = [[0.5, 1], [-1, 1], [7, -6]]  \n",
    "y_pred = [[0, 2], [-1, 2], [8, -5]]  \n",
    "explained_variance_score(y_true, y_pred, multioutput='raw_values')"
   ]
  },
  {
   "cell_type": "code",
   "execution_count": 27,
   "id": "43eb9b7b-c819-4ba0-bf3d-0fc4c0b1ceb6",
   "metadata": {},
   "outputs": [
    {
     "data": {
      "text/plain": [
       "0.9838709677419355"
      ]
     },
     "execution_count": 27,
     "metadata": {},
     "output_type": "execute_result"
    }
   ],
   "source": [
    "# 设置explained_variance_score函数中参数multioutput=‘uniform_average’，表示先计算每个的可解释方差值，然后求平均。\n",
    "explained_variance_score(y_true, y_pred, multioutput='uniform_average')"
   ]
  },
  {
   "cell_type": "code",
   "execution_count": 28,
   "id": "06002990-6edf-48b0-8cb3-cbb930db2d92",
   "metadata": {},
   "outputs": [
    {
     "data": {
      "text/plain": [
       "0.9830508474576269"
      ]
     },
     "execution_count": 28,
     "metadata": {},
     "output_type": "execute_result"
    }
   ],
   "source": [
    "# 设置explained_variance_score函数中参数multioutput=‘variance_weighted’，表示在先计算每个的可解释方差值，然后由每个单独的输出的方差来加权平均。\n",
    "explained_variance_score(y_true, y_pred, multioutput='variance_weighted')"
   ]
  },
  {
   "cell_type": "markdown",
   "id": "c374dbda-c4b4-4636-b64f-0d433fee23ee",
   "metadata": {},
   "source": [
    "### 2.2 平均绝对误差"
   ]
  },
  {
   "cell_type": "code",
   "execution_count": 29,
   "id": "640be7bb-e294-4e00-93c6-78f48fd91ae4",
   "metadata": {},
   "outputs": [
    {
     "data": {
      "text/plain": [
       "0.5"
      ]
     },
     "execution_count": 29,
     "metadata": {},
     "output_type": "execute_result"
    }
   ],
   "source": [
    "# 平均绝对误差（Mean absolute error）：平均绝对误差函数计算的是绝对误差，\n",
    "# 这是一种与绝对误差损失或1-范数损失的期望值相对应的风险指标。\n",
    "from sklearn.metrics import mean_absolute_error  \n",
    "y_true = [3, -0.5, 2, 7]  \n",
    "y_pred = [2.5, 0.0, 2, 8]  \n",
    "mean_absolute_error(y_true, y_pred)"
   ]
  },
  {
   "cell_type": "code",
   "execution_count": 30,
   "id": "a8b34045-2c49-474e-9c0f-ea7b84b2a3f0",
   "metadata": {},
   "outputs": [
    {
     "data": {
      "text/plain": [
       "array([0.5, 1. ])"
      ]
     },
     "execution_count": 30,
     "metadata": {},
     "output_type": "execute_result"
    }
   ],
   "source": [
    "# 在多输出多输入的情况下，设置mean_absolute_error函数中参数multioutput=‘raw_values’，表示在多输出多输入的情况下返回一组完整的误差值。\n",
    "y_true = [[0.5, 1], [-1, 1], [7, -6]]  \n",
    "y_pred = [[0, 2], [-1, 2], [8, -5]]  \n",
    "mean_absolute_error(y_true,y_pred,multioutput='raw_values')"
   ]
  },
  {
   "cell_type": "code",
   "execution_count": 31,
   "id": "f60c3513-3a53-43e0-950f-12960ebf0f6a",
   "metadata": {},
   "outputs": [
    {
     "data": {
      "text/plain": [
       "0.75"
      ]
     },
     "execution_count": 31,
     "metadata": {},
     "output_type": "execute_result"
    }
   ],
   "source": [
    "# 在多输出多输入的情况下，设置mean_absolute_error函数中参数multioutput=‘uniform_average’，表示先计算各自的平均绝对误差值，然后求平均。\n",
    "mean_absolute_error(y_true,y_pred,multioutput='uniform_average')"
   ]
  },
  {
   "cell_type": "code",
   "execution_count": 32,
   "id": "3f4d5e9b-dae1-4422-99ce-9fdc620379cc",
   "metadata": {},
   "outputs": [
    {
     "data": {
      "text/plain": [
       "0.85"
      ]
     },
     "execution_count": 32,
     "metadata": {},
     "output_type": "execute_result"
    }
   ],
   "source": [
    "# 在多输出多输入的情况下，设置mean_absolute_error函数中参数multioutput=[0.3, 0.7]，表示先计算各自的平均绝对误差值，然后求按参数multioutput中的值进行加权求平均。\n",
    "mean_absolute_error(y_true,y_pred,multioutput=[0.3,0.7])"
   ]
  },
  {
   "cell_type": "markdown",
   "id": "7ba0491a-a219-4018-bc00-46c8de2eaa73",
   "metadata": {},
   "source": [
    "### 2.3 均方误差"
   ]
  },
  {
   "cell_type": "code",
   "execution_count": 33,
   "id": "812f8a68-7aee-4640-8004-b6da5889bf88",
   "metadata": {},
   "outputs": [
    {
     "data": {
      "text/plain": [
       "0.375"
      ]
     },
     "execution_count": 33,
     "metadata": {},
     "output_type": "execute_result"
    }
   ],
   "source": [
    "# 均方误差（Mean squared error）：均方误差函数计算均方误差，这是与平方（二次）误差或损失的期望值相对应的风险度规。\n",
    "from sklearn.metrics import mean_squared_error  \n",
    "y_true = [3, -0.5, 2, 7]  \n",
    "y_pred = [2.5, 0.0, 2, 8]  \n",
    "mean_squared_error(y_true, y_pred)"
   ]
  },
  {
   "cell_type": "code",
   "execution_count": 34,
   "id": "0bd1ff0e-319f-4299-b8d3-8383e06e3290",
   "metadata": {},
   "outputs": [
    {
     "data": {
      "text/plain": [
       "array([0.41666667, 1.        ])"
      ]
     },
     "execution_count": 34,
     "metadata": {},
     "output_type": "execute_result"
    }
   ],
   "source": [
    "# 在多输出多输入的情况下，mean_squared_error函数中参数multioutput='raw_values'，表示在多输出多输入的情况下返回一组完整的误差值。\n",
    "y_true = [[0.5, 1],[-1, 1],[7, -6]]  \n",
    "y_pred = [[0, 2],[-1, 2],[8, -5]]  \n",
    "mean_squared_error(y_true,y_pred,multioutput='raw_values')"
   ]
  },
  {
   "cell_type": "code",
   "execution_count": 35,
   "id": "ab120749-5800-43c8-bc5b-bfa849b285f5",
   "metadata": {},
   "outputs": [
    {
     "data": {
      "text/plain": [
       "0.825"
      ]
     },
     "execution_count": 35,
     "metadata": {},
     "output_type": "execute_result"
    }
   ],
   "source": [
    "# 在多输出多输入的情况下，mean_squared_error函数中参数multioutput=[0.3, 0.7]，表示先计算各自的均方误差值，然后求按参数multioutput中的值进行加权求平均。\n",
    "mean_squared_error(y_true, y_pred, multioutput=[0.3, 0.7])"
   ]
  },
  {
   "cell_type": "markdown",
   "id": "d8af4855-e8b5-4e0f-aba8-b3bcc1fbc3db",
   "metadata": {},
   "source": [
    "### 2.4 中值绝对误差"
   ]
  },
  {
   "cell_type": "code",
   "execution_count": 36,
   "id": "b1ae2810-2abd-4002-87df-05b77000b444",
   "metadata": {},
   "outputs": [
    {
     "data": {
      "text/plain": [
       "0.5"
      ]
     },
     "execution_count": 36,
     "metadata": {},
     "output_type": "execute_result"
    }
   ],
   "source": [
    "# 中值绝对误差（Median absolute error）：中值绝对误差特别有趣，因为它对异常值很健壮。损失是通过计算目标和预测之间的所有绝对差异的中值来计算的。\n",
    "from sklearn.metrics import median_absolute_error  \n",
    "y_true = [3, -0.5, 2, 7]  \n",
    "y_pred = [2.5, 0.0, 2, 8]  \n",
    "median_absolute_error(y_true, y_pred)"
   ]
  },
  {
   "cell_type": "markdown",
   "id": "c18b39a5-5154-4b7d-bcfa-03c1f4955112",
   "metadata": {},
   "source": [
    "### 2.5 R2方值"
   ]
  },
  {
   "cell_type": "code",
   "execution_count": 37,
   "id": "e000047e-f3b8-4d5a-aaa3-8ca6cae3a83c",
   "metadata": {},
   "outputs": [
    {
     "data": {
      "text/plain": [
       "0.9486081370449679"
      ]
     },
     "execution_count": 37,
     "metadata": {},
     "output_type": "execute_result"
    }
   ],
   "source": [
    "# R2方值：r2_score函数计算R的值，即确定系数。\n",
    "# 它提供了一种衡量未来样本可能被模型预测的程度的方法。最好的分数是1.0，它可以是负的（因为模型可能会更糟）。\n",
    "# 一个总是预测y的期望值的常数模型，不管输入的特征是什么，都会得到R2的0.0。\n",
    "from sklearn.metrics import r2_score  \n",
    "y_true = [3, -0.5, 2, 7]  \n",
    "y_pred = [2.5, 0.0, 2, 8]  \n",
    "r2_score(y_true, y_pred)"
   ]
  },
  {
   "cell_type": "markdown",
   "id": "a8ee3a0f-b36a-4f29-bd9f-5291f8d80f82",
   "metadata": {},
   "source": [
    "## 3. 聚类指标"
   ]
  },
  {
   "cell_type": "markdown",
   "id": "23953a63-ad43-4598-89e3-65b227c77a28",
   "metadata": {},
   "source": [
    "### 3.1 兰德指数（adjusted_rand_score）"
   ]
  },
  {
   "cell_type": "code",
   "execution_count": 38,
   "id": "70b2a7ae-2b04-440c-b446-e2b6df0195b2",
   "metadata": {},
   "outputs": [
    {
     "data": {
      "text/plain": [
       "1.0"
      ]
     },
     "execution_count": 38,
     "metadata": {},
     "output_type": "execute_result"
    }
   ],
   "source": [
    "from sklearn.metrics.cluster import adjusted_rand_score  \n",
    "adjusted_rand_score([0, 0, 1, 1], [0, 0, 1, 1])"
   ]
  },
  {
   "cell_type": "code",
   "execution_count": 39,
   "id": "1277ebcd-1e39-4b80-bdf1-5b280f6c4425",
   "metadata": {},
   "outputs": [
    {
     "data": {
      "text/plain": [
       "1.0"
      ]
     },
     "execution_count": 39,
     "metadata": {},
     "output_type": "execute_result"
    }
   ],
   "source": [
    "# ARI是一个对称的测量方法：adjusted_rand_score(a, b) == adjusted_rand_score(b, a)\n",
    "adjusted_rand_score([0, 0, 1, 1], [1, 1, 0, 0])"
   ]
  },
  {
   "cell_type": "code",
   "execution_count": 40,
   "id": "0daf1bcf-095f-499f-8fb4-0fc3c4e7eb10",
   "metadata": {},
   "outputs": [
    {
     "data": {
      "text/plain": [
       "0.0"
      ]
     },
     "execution_count": 40,
     "metadata": {},
     "output_type": "execute_result"
    }
   ],
   "source": [
    "# 如果类成员在不同的集群中完全分开，那么分配是完全不完整的，因此ARI非常低\n",
    "adjusted_rand_score([0, 0, 0, 0], [0, 1, 2, 3])"
   ]
  },
  {
   "cell_type": "markdown",
   "id": "5e41c550-6336-4b4a-8448-d68005aac200",
   "metadata": {},
   "source": [
    "### 3.2 调整互信息（Adjusted mutual information）"
   ]
  },
  {
   "cell_type": "code",
   "execution_count": 41,
   "id": "57e031dc-1895-4fec-8fd1-d18fcb1da2ec",
   "metadata": {},
   "outputs": [
    {
     "data": {
      "text/plain": [
       "1.0"
      ]
     },
     "execution_count": 41,
     "metadata": {},
     "output_type": "execute_result"
    }
   ],
   "source": [
    "from sklearn.metrics.cluster import adjusted_mutual_info_score  \n",
    "adjusted_mutual_info_score([0, 0, 1, 1], [0, 0, 1, 1])"
   ]
  },
  {
   "cell_type": "code",
   "execution_count": 42,
   "id": "e4a384e0-d7b0-408c-83de-afa6479f9a63",
   "metadata": {},
   "outputs": [
    {
     "data": {
      "text/plain": [
       "0.0"
      ]
     },
     "execution_count": 42,
     "metadata": {},
     "output_type": "execute_result"
    }
   ],
   "source": [
    "# 如果类成员在不同的集群中完全分裂，那么分配是完全不完整的，因此AMI非常低。\n",
    "adjusted_mutual_info_score([0, 0, 0, 0], [0, 1, 2, 3])"
   ]
  },
  {
   "cell_type": "markdown",
   "id": "5921c5a6-376e-4e90-adbc-9bb95596d408",
   "metadata": {},
   "source": [
    "### 3.3 轮廓系数（Silhouette Coefficient）"
   ]
  },
  {
   "cell_type": "code",
   "execution_count": 43,
   "id": "7dabfdaf-b747-4544-9387-1223c74c0bd9",
   "metadata": {},
   "outputs": [
    {
     "data": {
      "text/plain": [
       "0.5528190123564095"
      ]
     },
     "execution_count": 43,
     "metadata": {},
     "output_type": "execute_result"
    }
   ],
   "source": [
    "# 轮廓系数（Silhouette Coefficient）：一组样本的轮廓系数作为每个样本的轮廓系数的平均值\n",
    "from sklearn import metrics  \n",
    "from sklearn.metrics import pairwise_distances  \n",
    "from sklearn import datasets  \n",
    "import numpy as np  \n",
    "from sklearn.cluster import KMeans  \n",
    " \n",
    "#导入iris数据  \n",
    "dataset = datasets.load_iris()  \n",
    "X = dataset.data  \n",
    "y = dataset.target  \n",
    " \n",
    "#创建k-means聚类模型  \n",
    "kmeans_model = KMeans(n_clusters=3, random_state=1).fit(X)  \n",
    "labels = kmeans_model.labels_  \n",
    " \n",
    "#模型评估：在正常使用中，轮廓系数应用于集群分析的结果。  \n",
    "metrics.silhouette_score(X, labels, metric='euclidean')"
   ]
  },
  {
   "cell_type": "markdown",
   "id": "d554a613-8eb7-484c-869e-2f96f5237083",
   "metadata": {},
   "source": [
    "### 3.4 Homogeneity, completeness and V-measure"
   ]
  },
  {
   "cell_type": "code",
   "execution_count": 44,
   "id": "80517d5a-d4c6-47c6-9272-b8f0cb24d236",
   "metadata": {},
   "outputs": [
    {
     "data": {
      "text/plain": [
       "0.6666666666666669"
      ]
     },
     "execution_count": 44,
     "metadata": {},
     "output_type": "execute_result"
    }
   ],
   "source": [
    "# 同质性homogeneity：每个群集只包含单个类的成员。\n",
    "from sklearn import metrics  \n",
    "labels_true = [0, 0, 0, 1, 1, 1]  \n",
    "labels_pred = [0, 0, 1, 1, 2, 2]  \n",
    "  \n",
    "metrics.homogeneity_score(labels_true, labels_pred)"
   ]
  },
  {
   "cell_type": "code",
   "execution_count": 45,
   "id": "acf111a3-7763-4869-83a7-c4381f7783f7",
   "metadata": {},
   "outputs": [
    {
     "data": {
      "text/plain": [
       "0.420619835714305"
      ]
     },
     "execution_count": 45,
     "metadata": {},
     "output_type": "execute_result"
    }
   ],
   "source": [
    "# 完整性completeness：给定类的所有成员都分配给同一个群集。\n",
    "metrics.completeness_score(labels_true, labels_pred)"
   ]
  },
  {
   "cell_type": "code",
   "execution_count": 46,
   "id": "e98c1c69-90eb-4524-bd32-00d3c4249460",
   "metadata": {},
   "outputs": [
    {
     "data": {
      "text/plain": [
       "0.5158037429793889"
      ]
     },
     "execution_count": 46,
     "metadata": {},
     "output_type": "execute_result"
    }
   ],
   "source": [
    "# 两者的调和平均V-measure：\n",
    "metrics.v_measure_score(labels_true, labels_pred)  "
   ]
  },
  {
   "cell_type": "markdown",
   "id": "b25a658f-9c7b-4ad9-9a0d-ce2e81816003",
   "metadata": {},
   "source": [
    "### 3.5 Fowlkes-Mallows指数（fowlkes_mallows_score）"
   ]
  },
  {
   "cell_type": "code",
   "execution_count": 47,
   "id": "9e00f8ed-ea90-4615-b504-2076bba2d99c",
   "metadata": {},
   "outputs": [
    {
     "data": {
      "text/plain": [
       "0.4714045207910317"
      ]
     },
     "execution_count": 47,
     "metadata": {},
     "output_type": "execute_result"
    }
   ],
   "source": [
    "# Fowlkes-Mallows指数（fowlkes_mallows_score）：是针对训练集和验证集数据之间求得的查全率和查准率的几何平均值\n",
    "from sklearn import metrics  \n",
    "labels_true = [0, 0, 0, 1, 1, 1]  \n",
    "labels_pred = [0, 0, 1, 1, 2, 2]  \n",
    "metrics.fowlkes_mallows_score(labels_true, labels_pred)"
   ]
  },
  {
   "cell_type": "markdown",
   "id": "99ddb897-5f92-4ad4-86f4-089ed4d6c908",
   "metadata": {},
   "source": [
    "# 以上！"
   ]
  }
 ],
 "metadata": {
  "kernelspec": {
   "display_name": "Python 3 (ipykernel)",
   "language": "python",
   "name": "python3"
  },
  "language_info": {
   "codemirror_mode": {
    "name": "ipython",
    "version": 3
   },
   "file_extension": ".py",
   "mimetype": "text/x-python",
   "name": "python",
   "nbconvert_exporter": "python",
   "pygments_lexer": "ipython3",
   "version": "3.9.0"
  }
 },
 "nbformat": 4,
 "nbformat_minor": 5
}
