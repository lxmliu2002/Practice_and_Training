{
 "cells": [
  {
   "cell_type": "code",
   "execution_count": 1,
   "id": "a6d07f9b-8a12-40bd-8e94-f0e61d7daaab",
   "metadata": {},
   "outputs": [
    {
     "data": {
      "text/plain": [
       "[[0, 0, 1], [0, 1, 0], [1, 0, 0], [0, 1, 1], [0, 1, 0], [0, 1, 1]]"
      ]
     },
     "execution_count": 1,
     "metadata": {},
     "output_type": "execute_result"
    }
   ],
   "source": [
    "# 导入sklearn库中feature_select模块的VarianceThreshold类，创建一个二维列表X。\n",
    "from sklearn.feature_selection import VarianceThreshold\n",
    "X=[[0, 0, 1], [0, 1, 0], [1, 0, 0], [0, 1, 1], [0, 1, 0], [0, 1, 1]]\n",
    "X"
   ]
  },
  {
   "cell_type": "markdown",
   "id": "a0642a77-6951-40e5-b305-a6d2c6e8f4b5",
   "metadata": {},
   "source": [
    "## 去掉取值变化小的特征"
   ]
  },
  {
   "cell_type": "code",
   "execution_count": 2,
   "id": "b03aa190-adbe-41ae-a413-0fd53df87e2e",
   "metadata": {},
   "outputs": [
    {
     "data": {
      "text/plain": [
       "array([[0, 1],\n",
       "       [1, 0],\n",
       "       [0, 0],\n",
       "       [1, 1],\n",
       "       [1, 0],\n",
       "       [1, 1]])"
      ]
     },
     "execution_count": 2,
     "metadata": {},
     "output_type": "execute_result"
    }
   ],
   "source": [
    "# 使用VarianceThreshold函数创建一个方差选择对象sel，设置阀值参数threshold=(0.8*(1-0.8))，\n",
    "# 使用sel对象的fit_transform方法，删除X中每个特征值的方差小于阀值的特征。\n",
    "sel=VarianceThreshold(threshold=(0.8*(1-0.8)))\n",
    "sel.fit_transform(X)"
   ]
  },
  {
   "cell_type": "markdown",
   "id": "a7bba3a2-80f1-45f7-9e06-109c0760311f",
   "metadata": {},
   "source": [
    "## 单变量特征选择"
   ]
  },
  {
   "cell_type": "code",
   "execution_count": 3,
   "id": "3f7f913a-ccd0-4537-b05c-d119ab2b12ee",
   "metadata": {},
   "outputs": [],
   "source": [
    "# 导入sklearn库中feature_select模块的SelectKBest、chi2，\n",
    "# 导入sklearn库中datasets模块的load_iris，\n",
    "from sklearn.datasets import load_iris\n",
    "from sklearn.feature_selection import SelectKBest\n",
    "from sklearn.feature_selection import chi2"
   ]
  },
  {
   "cell_type": "code",
   "execution_count": 4,
   "id": "6f90df90-41a7-4141-ba34-ca25015d1eb9",
   "metadata": {},
   "outputs": [
    {
     "data": {
      "text/plain": [
       "(150, 4)"
      ]
     },
     "execution_count": 4,
     "metadata": {},
     "output_type": "execute_result"
    }
   ],
   "source": [
    "# 使用load_iris类创建一个iris数据的实例化对象iris，将iris对象的数据与标签分别赋值给X,y，并查看X的形状。\n",
    "iris=load_iris()\n",
    "X,y=iris.data,iris.target\n",
    "X.shape"
   ]
  },
  {
   "cell_type": "code",
   "execution_count": 5,
   "id": "3a3a9791-6d17-48ee-b8c8-b4d1e21e1c92",
   "metadata": {},
   "outputs": [
    {
     "data": {
      "text/plain": [
       "(150, 2)"
      ]
     },
     "execution_count": 5,
     "metadata": {},
     "output_type": "execute_result"
    }
   ],
   "source": [
    "# 使用SelectKBase函数创建一个自定义特征评分选择对象，\n",
    "# 设置评分参数score_func=chi2，选择评分最高特征数量参数k=2，\n",
    "# 然后使用fir_transform方法，通过卡方检验选择法选择X,y数据中评分最高的2的特征，并检查返回数据的形状。\n",
    "X_new=SelectKBest(chi2,k=2).fit_transform(X,y)\n",
    "X_new.shape"
   ]
  },
  {
   "cell_type": "markdown",
   "id": "e8b0a63a-5592-47ad-ae95-938cc5b7aee3",
   "metadata": {},
   "source": [
    "## 基于树的特征选择(Tree-based Feature Selection)"
   ]
  },
  {
   "cell_type": "code",
   "execution_count": 6,
   "id": "51bc53db-07c7-4f82-83f0-090cf5c9c142",
   "metadata": {},
   "outputs": [],
   "source": [
    "# 导入sklearn库中ensemble模块的ExtraTreesClassifier\n",
    "from sklearn.ensemble import ExtraTreesClassifier"
   ]
  },
  {
   "cell_type": "code",
   "execution_count": 7,
   "id": "0fb9881f-5b71-4308-9194-bd7ee23774cf",
   "metadata": {},
   "outputs": [
    {
     "data": {
      "text/plain": [
       "array([0.09330055, 0.06052559, 0.39970508, 0.44646878])"
      ]
     },
     "execution_count": 7,
     "metadata": {},
     "output_type": "execute_result"
    }
   ],
   "source": [
    "# 使用ExtraTreesClassifier函数创建一个基于树的特征选择对象clf，\n",
    "# 使用clf对象的fit方法通过X,y数据创建基于树的特征选择模型，查看每个特征的重要性.\n",
    "clf=ExtraTreesClassifier()\n",
    "X_new=clf.fit(X,y)\n",
    "clf.feature_importances_"
   ]
  },
  {
   "cell_type": "markdown",
   "id": "056ddb86-04d7-46eb-8aba-6183713b0043",
   "metadata": {},
   "source": [
    "## 递归特征消除"
   ]
  },
  {
   "cell_type": "code",
   "execution_count": 8,
   "id": "e0473c98-2eb9-4852-b1b7-34e1245f7148",
   "metadata": {},
   "outputs": [],
   "source": [
    "# 导入sklearn库中feature_selection模块的RFE，\n",
    "# 导入sklearn库中datasets模块的 make_friedman1，\n",
    "# 导入sklearn库中svm模块的 SVR，\n",
    "from sklearn.datasets import make_friedman1\n",
    "from sklearn.feature_selection import RFE\n",
    "from sklearn.svm import SVR"
   ]
  },
  {
   "cell_type": "code",
   "execution_count": 9,
   "id": "3adff8a4-eb05-460d-a7f4-a95d308c9997",
   "metadata": {},
   "outputs": [],
   "source": [
    "# 使用make_friendman1函数创建训练数据X，标签数据y，\n",
    "# 设置样本个数参数n_samples=50，特征个数参数n_features=10，随机状态参数random_state=42。\n",
    "X, y = make_friedman1(n_samples=50, n_features=10, random_state=0)"
   ]
  },
  {
   "cell_type": "code",
   "execution_count": 10,
   "id": "ec7b4f8c-f63c-4910-a821-d2d4209ceb10",
   "metadata": {},
   "outputs": [],
   "source": [
    "# 使用SVR函数创建一个支持向量机回归模型实例对象，设置核函数参数为kernel=linear，\n",
    "estimator=SVR(kernel='linear')"
   ]
  },
  {
   "cell_type": "code",
   "execution_count": 11,
   "id": "d344c1db-bc18-46db-9464-0038bc7b5f24",
   "metadata": {},
   "outputs": [],
   "source": [
    "# 使用RFE函数创建一个递归消除对象selector，设置 估计量参数estimator=estimator，n_features_to_select=5，\n",
    "# 使用对象的fit方法通过X,y数据创建递归特征消除模型。\n",
    "selector = RFE(estimator=estimator, n_features_to_select=5, step=1)\n",
    "selector=selector.fit(X,y)"
   ]
  },
  {
   "cell_type": "code",
   "execution_count": 12,
   "id": "2dfec3fe-2a98-4809-9ea2-5bc00f6874ee",
   "metadata": {},
   "outputs": [
    {
     "data": {
      "text/plain": [
       "array([ True,  True,  True,  True,  True, False, False, False, False,\n",
       "       False])"
      ]
     },
     "execution_count": 12,
     "metadata": {},
     "output_type": "execute_result"
    }
   ],
   "source": [
    "# 使用support_获取训练数据X中特征是否被选择的布尔值。\n",
    "selector.support_"
   ]
  },
  {
   "cell_type": "markdown",
   "id": "2c61c4a3-26a5-46d3-89ee-4ea9edf3429c",
   "metadata": {},
   "source": [
    "## 自定义模型训练选择法"
   ]
  },
  {
   "cell_type": "code",
   "execution_count": 13,
   "id": "9cd3ffa5-8e73-4cb0-b7e5-82b8c41f6759",
   "metadata": {},
   "outputs": [
    {
     "data": {
      "text/plain": [
       "(150, 4)"
      ]
     },
     "execution_count": 13,
     "metadata": {},
     "output_type": "execute_result"
    }
   ],
   "source": [
    "# 导入sklearn库中feature_selection模块的SelectFromModel，\n",
    "# 导入sklearn库中datasets模块的 load_iris，\n",
    "# 导入sklearn库中svm模块的LinearSVC，\n",
    "# 使用load_iris类创建一个iris数据的实例化对象iris，将iris对象的数据与标签分别赋值给X,y，并查看X的形状。\n",
    "from sklearn.svm import LinearSVC\n",
    "from sklearn.datasets import load_iris\n",
    "from sklearn.feature_selection import SelectFromModel\n",
    "iris = load_iris()\n",
    "X, y = iris.data, iris.target\n",
    "X.shape"
   ]
  },
  {
   "cell_type": "code",
   "execution_count": 14,
   "id": "50441e68-5867-4976-bd83-10a6364da1b6",
   "metadata": {},
   "outputs": [
    {
     "data": {
      "text/plain": [
       "(150, 3)"
      ]
     },
     "execution_count": 14,
     "metadata": {},
     "output_type": "execute_result"
    }
   ],
   "source": [
    "# 使用LinearSVC函数创建一个实例对象，设置误差项的惩罚参数C=0.01，正则化参数penalty='l1'，对偶参数dual=False，\n",
    "# 然后使用fit方法通过训练数据X，y\n",
    "# 创建线性支持向量机模型lsvc，然后使用SelectFromModel函数，设置自定义函数参数为lsvc，预适应模型是否会直接传递到构造函数中的参数prefit=True，\n",
    "# 创建自定义选择模型model，然后使用transform方法将X数据进行特征选择，返回结果X_new，并查看X_new的形状。\n",
    "# 说明：解决 ConvergenceWarning: Liblinear failed to converge, increase the number of iterations. 错误\n",
    "# 问题原因： Liblinear 无法收敛，请增加迭代次数。\n",
    "# 问题解决： \n",
    "# 还未收敛\n",
    "#    规范化数据。利用sklearn中的StandScaler函数规范化特征，这不仅可能可以使得结果更好，更可能可以加快训练速度。但需要注意的是，若有离散数据，需要确保它们被正确转换\n",
    "#    确保C等其他参数设置正确，可以调用Optimize等包来调整参数。\n",
    "#    如果特征数大于样本数，则需要设置dual=True\n",
    "#    设置max_iter为更大的值，默认为1000。\n",
    "# lsvc = LinearSVC(C=0.01, penalty=\"l1\", dual=False).fit(X, y)\n",
    "lsvc = LinearSVC(C=0.01, penalty=\"l1\", dual=False, max_iter=5000).fit(X, y)\n",
    "# 或者：此例不适合~~\n",
    "# lsvc = LinearSVC(C=0.01, penalty=\"l1\", dual=True).fit(X, y)\n",
    "model = SelectFromModel(lsvc, prefit=True)\n",
    "X_new = model.transform(X)\n",
    "X_new.shape"
   ]
  },
  {
   "cell_type": "markdown",
   "id": "050561c6-af20-4e1f-8523-6a5882f46825",
   "metadata": {},
   "source": [
    "# 以上！"
   ]
  }
 ],
 "metadata": {
  "kernelspec": {
   "display_name": "Python 3 (ipykernel)",
   "language": "python",
   "name": "python3"
  },
  "language_info": {
   "codemirror_mode": {
    "name": "ipython",
    "version": 3
   },
   "file_extension": ".py",
   "mimetype": "text/x-python",
   "name": "python",
   "nbconvert_exporter": "python",
   "pygments_lexer": "ipython3",
   "version": "3.9.0"
  }
 },
 "nbformat": 4,
 "nbformat_minor": 5
}
