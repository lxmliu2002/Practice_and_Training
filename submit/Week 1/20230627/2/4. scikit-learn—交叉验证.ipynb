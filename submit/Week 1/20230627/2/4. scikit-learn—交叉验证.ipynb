{
 "cells": [
  {
   "cell_type": "markdown",
   "id": "f68e0892-6d19-41d0-b3a1-b67592e57b64",
   "metadata": {},
   "source": [
    "## 交叉验证迭代器"
   ]
  },
  {
   "cell_type": "code",
   "execution_count": 1,
   "id": "52e53151-3efd-4599-98ce-a0a0cf01169b",
   "metadata": {},
   "outputs": [],
   "source": [
    "# K折交叉验证（KFold）：将样例划分为K份，若K=len(样例)，即为留一交叉验证，K-1份作为训练，剩余样例作为测试集，\n",
    "# 在有4个样本的数据集上进行2折交叉验证。\n",
    "# 首先导入numpy模块，别名为np，导入sklearn.model_selection中的KFold类。\n",
    "import numpy as np\n",
    "from sklearn.model_selection import KFold"
   ]
  },
  {
   "cell_type": "code",
   "execution_count": 2,
   "id": "aa0dad29-c75f-49f6-9a46-c78182ba983f",
   "metadata": {},
   "outputs": [
    {
     "name": "stdout",
     "output_type": "stream",
     "text": [
      "[2 3] [0 1]\n",
      "[0 1] [2 3]\n"
     ]
    }
   ],
   "source": [
    "# 创建由\"a\", \"b\", \"c\", \"d\"组成的列表X，\n",
    "# 再使用KFold类，传入参数n_splits=2创建2-fold对象kf，\n",
    "# 最后调用kf中的split方法，\n",
    "# 对X进行2折交叉验证迭代，\n",
    "# 并用for循坏遍历2折交叉验证迭代结果，每一个折叠都由两个数组组成：第一个是与训练集相关的，第二个是与测试集相关的。\n",
    "X = [\"a\", \"b\", \"c\", \"d\"]\n",
    "kf = KFold(n_splits=2)\n",
    "for train_index, test_index in kf.split(X):\n",
    "    print(\"%s %s\" % (train_index, test_index))"
   ]
  },
  {
   "cell_type": "markdown",
   "id": "ff94220e-23b9-4b74-a02e-e51ceb370b42",
   "metadata": {},
   "source": [
    "## 重复K-折交叉验证"
   ]
  },
  {
   "cell_type": "code",
   "execution_count": 3,
   "id": "12541b34-87fa-41ef-be96-c9d8d6722264",
   "metadata": {},
   "outputs": [],
   "source": [
    "# 重复K-折交叉验证（RepeatedKFold）：重复 K-折交叉验证n次，每次重复产生不同的分裂，\n",
    "# KFold 方法采用的是不放回的抽样方法，RepeatedKFold 可以进行有放回的抽取。\n",
    "# 在有4个样本的数据集上进行重复2次的2折交叉验证。\n",
    "# 首先，导入numpy模块，别名为np，导入sklearn.model_selection中的RepeatedKFold。\n",
    "import numpy as np\n",
    "from sklearn.model_selection import RepeatedKFold"
   ]
  },
  {
   "cell_type": "code",
   "execution_count": 4,
   "id": "a4fc31b4-aeb4-4858-9d7b-2559b4b180b0",
   "metadata": {},
   "outputs": [],
   "source": [
    "# 然后，使用np.array创建二维数组X，一维数组y，\n",
    "X = np.array([[1, 2], [3, 4], [1, 2], [3, 4]])\n",
    "y = np.array([0, 0, 1, 1])"
   ]
  },
  {
   "cell_type": "code",
   "execution_count": 5,
   "id": "8f1865da-c084-44d7-9aa0-e364b01c01be",
   "metadata": {},
   "outputs": [
    {
     "name": "stdout",
     "output_type": "stream",
     "text": [
      "TRAIN: [0 1] TEST: [2 3]\n",
      "TRAIN: [2 3] TEST: [0 1]\n",
      "TRAIN: [1 2] TEST: [0 3]\n",
      "TRAIN: [0 3] TEST: [1 2]\n"
     ]
    }
   ],
   "source": [
    "#最后，使用RepeatedKFold类，传入参数n_splits=2, n_repeats=2, random_state=2652124，\n",
    "# 创建重复2次的2-fold对象rkf，调用rkf中的split方法，对X进行折叠，\n",
    "# 并用for循坏遍历折叠结果，每一个折叠都由两个数组组成：第一个是与训练集相关的，第二个是与测试集相关的。\n",
    "rkf = RepeatedKFold(n_splits=2, n_repeats=2, random_state=2652124)\n",
    "for train_index, test_index in rkf.split(X):\n",
    "    print(\"TRAIN:\", train_index, \"TEST:\", test_index)\n",
    "    X_train, X_test = X[train_index], X[test_index]\n",
    "    y_train, y_test = y[train_index], y[test_index]"
   ]
  },
  {
   "cell_type": "markdown",
   "id": "5bf53ba8-0b96-473c-b9a3-364e8e80fd40",
   "metadata": {},
   "source": [
    "## 留一交叉验证"
   ]
  },
  {
   "cell_type": "code",
   "execution_count": 6,
   "id": "72275344-b995-4809-91d0-02b158b3a6ed",
   "metadata": {},
   "outputs": [
    {
     "data": {
      "text/plain": [
       "2"
      ]
     },
     "execution_count": 6,
     "metadata": {},
     "output_type": "execute_result"
    },
    {
     "name": "stdout",
     "output_type": "stream",
     "text": [
      "LeaveOneOut()\n",
      "TRAIN: [1] TEST: [0]\n",
      "[[3 4]] [[1 2]] [2] [1]\n",
      "TRAIN: [0] TEST: [1]\n",
      "[[1 2]] [[3 4]] [1] [2]\n"
     ]
    }
   ],
   "source": [
    "# 留一交叉验证 (LeaveOneOut，LOO)：其实相当于KFold(n_splits=n)，或LeavePOut(p=1)，这里的n是样本数。\n",
    "# 是 KFold 的特殊情况，它的 k 值等于数据集实例的个数。\n",
    "# 留一交叉验证的优点是每次训练的训练集都包含除了一个样本之外的所有样本，所以保证了训练集尽可能大。\n",
    "# 在有2个样本的数据集上进行留一交叉验证。\n",
    "import numpy as np\n",
    "from sklearn.model_selection import LeaveOneOut\n",
    "X = np.array([[1, 2], [3, 4]])\n",
    "y = np.array([1, 2])\n",
    "loo = LeaveOneOut()\n",
    "loo.get_n_splits(X)\n",
    "  \n",
    "print(loo)  \n",
    "  \n",
    "for train_index, test_index in loo.split(X):\n",
    "   print(\"TRAIN:\", train_index, \"TEST:\", test_index)\n",
    "   X_train, X_test = X[train_index], X[test_index]\n",
    "   y_train, y_test = y[train_index], y[test_index]\n",
    "   print(X_train, X_test, y_train, y_test)"
   ]
  },
  {
   "cell_type": "markdown",
   "id": "eec9a391-b1cc-4cea-8305-b28d6945469f",
   "metadata": {},
   "source": [
    "## 留P交叉验证"
   ]
  },
  {
   "cell_type": "code",
   "execution_count": 7,
   "id": "7c410025-e32f-40b8-9d52-5c4fbe57438c",
   "metadata": {},
   "outputs": [
    {
     "data": {
      "text/plain": [
       "4"
      ]
     },
     "execution_count": 7,
     "metadata": {},
     "output_type": "execute_result"
    },
    {
     "name": "stdout",
     "output_type": "stream",
     "text": [
      "LeavePOut(p=1)\n",
      "TRAIN: [1 2 3] TEST: [0]\n",
      "TRAIN: [0 2 3] TEST: [1]\n",
      "TRAIN: [0 1 3] TEST: [2]\n",
      "TRAIN: [0 1 2] TEST: [3]\n"
     ]
    }
   ],
   "source": [
    "# 留P交叉验证（LeavePOut）： 是从数据集中随机的选取p个样本作为测试集，剩下的样本作为训练集，重复抽样，直到把所有结果都取到，\n",
    "# 选定 P个样本作测试集，然后输出所有可能的训练-测试集对。\n",
    "# 与 LeaveOneOut 和 KFold 不同的地方是，当 P>1 时，当p>1时，测试集数据有重叠。\n",
    "# 留P交叉验证例子。\n",
    "import numpy as np  \n",
    "from sklearn.model_selection import LeavePOut  \n",
    "X = np.array([[1, 2], [3, 4], [5, 6], [7, 8]])  \n",
    "y = np.array([1, 2, 3, 4])  \n",
    "lpo = LeavePOut(1)  \n",
    "lpo.get_n_splits(X)  \n",
    "print(lpo)  \n",
    "for train_index, test_index in lpo.split(X):  \n",
    "   print(\"TRAIN:\", train_index, \"TEST:\", test_index)  \n",
    "   X_train, X_test = X[train_index], X[test_index]  \n",
    "   y_train, y_test = y[train_index], y[test_index]"
   ]
  },
  {
   "cell_type": "markdown",
   "id": "82280762-d364-4133-92b3-0607a2c4a66e",
   "metadata": {},
   "source": [
    "## 随机排列交叉抽样"
   ]
  },
  {
   "cell_type": "code",
   "execution_count": 8,
   "id": "a8f0d101-76fb-4f65-b61a-e282cc653d48",
   "metadata": {},
   "outputs": [
    {
     "name": "stdout",
     "output_type": "stream",
     "text": [
      "[1 3 4] [2 0]\n",
      "[1 4 3] [0 2]\n",
      "[4 0 2] [1 3]\n"
     ]
    }
   ],
   "source": [
    "# 随机排列交叉抽样（ShuffleSplit ）：首先将样本随机打乱，然后根据设置参数划分训练数据集与测试数据集，\n",
    "# 其中参数n_splits：设置重新洗牌和分裂迭代次数，参数test_size=0.25：设置测试集的比例，参数random_state：设置随机抽样的状态。\n",
    "# 随机排列交叉抽样的例子。\n",
    "import numpy as np  \n",
    "from sklearn.model_selection import ShuffleSplit  \n",
    "X = np.arange(5)  \n",
    "ss = ShuffleSplit(n_splits=3, test_size=0.25,  \n",
    "    random_state=0)  \n",
    "for train_index, test_index in ss.split(X):  \n",
    "    print(\"%s %s\" % (train_index, test_index))"
   ]
  },
  {
   "cell_type": "markdown",
   "id": "decae3e7-6a1b-4b75-a667-4e51115aaf30",
   "metadata": {},
   "source": [
    "## 分层k折"
   ]
  },
  {
   "cell_type": "code",
   "execution_count": 9,
   "id": "1fe02182-43e4-44b3-a6b4-6e0787d2bb2b",
   "metadata": {},
   "outputs": [
    {
     "name": "stdout",
     "output_type": "stream",
     "text": [
      "TRAIN: [2 3 6 7 8 9] TEST: [0 1 4 5]\n",
      "TRAIN: [0 1 3 4 5 8 9] TEST: [2 6 7]\n",
      "TRAIN: [0 1 2 4 5 6 7] TEST: [3 8 9]\n"
     ]
    }
   ],
   "source": [
    "# 分层k折（StratifiedKFold）： 是 k-fold 的变种，会返回分层的折叠，\n",
    "# 即每个小集合中， 各个类别的样例比例大致和完整数据集中相同，通过指定分组，对测试集进行无放回抽样。\n",
    "# 分层k折交叉抽样的例子。\n",
    "import numpy as np  \n",
    "from sklearn.model_selection import StratifiedKFold  \n",
    "  \n",
    "X = np.ones(10)  \n",
    "labels = [0, 0, 0, 0, 1, 1, 1, 1, 1, 1]  \n",
    "skf = StratifiedKFold(n_splits=3)  \n",
    "for train_index, test_index in skf.split(X, labels):  \n",
    "    print(\"TRAIN:\", train_index, \"TEST:\", test_index)"
   ]
  },
  {
   "cell_type": "markdown",
   "id": "cb488e96-04d2-4d14-a75b-655a24883118",
   "metadata": {},
   "source": [
    "## 分组K折交叉验证"
   ]
  },
  {
   "cell_type": "code",
   "execution_count": 10,
   "id": "c3c53a39-7da5-4685-b789-e513bb1f454c",
   "metadata": {},
   "outputs": [
    {
     "name": "stdout",
     "output_type": "stream",
     "text": [
      "GroupKFold(n_splits=2)\n",
      "TRAIN: [0 1] TEST: [2 3]\n",
      "[[1 2]\n",
      " [3 4]] [[5 6]\n",
      " [7 8]] [1 2] [3 4]\n",
      "TRAIN: [2 3] TEST: [0 1]\n",
      "[[5 6]\n",
      " [7 8]] [[1 2]\n",
      " [3 4]] [3 4] [1 2]\n"
     ]
    }
   ],
   "source": [
    "# 分组K折交叉验证（GroupKFold）：先分组，然后把所有组划分为K份，随机取K-1份作为训练，剩余一份作为测试集，这里K 小于分组的组数。\n",
    "# 分组k折交叉抽样的例子。\n",
    "import numpy as np  \n",
    "from sklearn.model_selection import GroupKFold  \n",
    "X = np.array([[1, 2], [3, 4], [5, 6], [7, 8]])  \n",
    "y = np.array([1, 2, 3, 4])  \n",
    "groups = np.array([0, 0, 2, 2])  \n",
    "group_kfold = GroupKFold(n_splits=2)  \n",
    "print(group_kfold)  \n",
    "for train_index, test_index in group_kfold.split(X, y, groups):  \n",
    "    print(\"TRAIN:\", train_index, \"TEST:\", test_index)  \n",
    "    X_train, X_test = X[train_index], X[test_index]  \n",
    "    y_train, y_test = y[train_index], y[test_index]  \n",
    "    print(X_train, X_test, y_train, y_test)"
   ]
  },
  {
   "cell_type": "markdown",
   "id": "38911a60-b3c9-4a0f-9015-20c569c3cf20",
   "metadata": {},
   "source": [
    "## 分组留一交叉验证"
   ]
  },
  {
   "cell_type": "code",
   "execution_count": 11,
   "id": "d729acc6-86ff-4c25-8fe7-714bb471fcea",
   "metadata": {},
   "outputs": [
    {
     "data": {
      "text/plain": [
       "2"
      ]
     },
     "execution_count": 11,
     "metadata": {},
     "output_type": "execute_result"
    },
    {
     "name": "stdout",
     "output_type": "stream",
     "text": [
      "LeaveOneGroupOut()\n",
      "TRAIN: [2 3] TEST: [0 1]\n",
      "[[5 6]\n",
      " [7 8]] [[1 2]\n",
      " [3 4]] [1 2] [1 2]\n",
      "TRAIN: [0 1] TEST: [2 3]\n",
      "[[1 2]\n",
      " [3 4]] [[5 6]\n",
      " [7 8]] [1 2] [1 2]\n"
     ]
    }
   ],
   "source": [
    "# 分组留一交叉验证LeaveOneGroupOut：先分组，然后随机取一组做测试集，剩下组做训练数据集，\n",
    "# 这个是在GroupKFold 的基础上混乱度又减小了。\n",
    "# 分组k折交叉抽样的例子。\n",
    "import numpy as np  \n",
    "from sklearn.model_selection import LeaveOneGroupOut  \n",
    "X = np.array([[1, 2], [3, 4], [5, 6], [7, 8]])  \n",
    "y = np.array([1, 2, 1, 2])  \n",
    "groups = np.array([1, 1, 2, 2])  \n",
    "logo = LeaveOneGroupOut()  \n",
    "logo.get_n_splits(X, y, groups)  \n",
    "print(logo)  \n",
    "for train_index, test_index in logo.split(X, y, groups):  \n",
    "   print(\"TRAIN:\", train_index, \"TEST:\", test_index)  \n",
    "   X_train, X_test = X[train_index], X[test_index]  \n",
    "   y_train, y_test = y[train_index], y[test_index]  \n",
    "   print(X_train, X_test, y_train, y_test)"
   ]
  },
  {
   "cell_type": "markdown",
   "id": "1f09881b-1f27-48cd-b26f-6af01892be45",
   "metadata": {},
   "source": [
    "## 分组留P交叉验证"
   ]
  },
  {
   "cell_type": "code",
   "execution_count": 12,
   "id": "106c87bb-3577-4b0d-abb2-c74abc7e31d5",
   "metadata": {},
   "outputs": [
    {
     "data": {
      "text/plain": [
       "3"
      ]
     },
     "execution_count": 12,
     "metadata": {},
     "output_type": "execute_result"
    },
    {
     "data": {
      "text/plain": [
       "3"
      ]
     },
     "execution_count": 12,
     "metadata": {},
     "output_type": "execute_result"
    },
    {
     "name": "stdout",
     "output_type": "stream",
     "text": [
      "LeavePGroupsOut(n_groups=2)\n",
      "TRAIN: [2] TEST: [0 1]\n",
      "[[5 6]] [[1 2]\n",
      " [3 4]] [1] [1 2]\n",
      "TRAIN: [1] TEST: [0 2]\n",
      "[[3 4]] [[1 2]\n",
      " [5 6]] [2] [1 1]\n",
      "TRAIN: [0] TEST: [1 2]\n",
      "[[1 2]] [[3 4]\n",
      " [5 6]] [1] [2 1]\n"
     ]
    }
   ],
   "source": [
    "# 分组留P交叉验证LeavePGroupsOut：先分组，然后随机取P组做测试集，剩下组做训练数据集，\n",
    "# 分组留P交叉验证抽样的例子。\n",
    "import numpy as np  \n",
    "from sklearn.model_selection import LeavePGroupsOut  \n",
    "X = np.array([[1, 2], [3, 4], [5, 6]])  \n",
    "y = np.array([1, 2, 1])  \n",
    "groups = np.array([1, 2, 3])  \n",
    "lpgo = LeavePGroupsOut(n_groups=2)  \n",
    "lpgo.get_n_splits(X, y, groups)  \n",
    "  \n",
    "lpgo.get_n_splits(groups=groups)  # 'groups' is always required  \n",
    "  \n",
    "print(lpgo)  \n",
    "  \n",
    "for train_index, test_index in lpgo.split(X, y, groups):  \n",
    "   print(\"TRAIN:\", train_index, \"TEST:\", test_index)  \n",
    "   X_train, X_test = X[train_index], X[test_index]  \n",
    "   y_train, y_test = y[train_index], y[test_index]  \n",
    "   print(X_train, X_test, y_train, y_test)"
   ]
  },
  {
   "cell_type": "markdown",
   "id": "caf58b7a-0eb7-47bc-a321-bafb04e2d0ce",
   "metadata": {},
   "source": [
    "## 分组随机排序交叉验证"
   ]
  },
  {
   "cell_type": "code",
   "execution_count": 13,
   "id": "22b0ba59-a0be-4d90-ba17-85e5170880c8",
   "metadata": {},
   "outputs": [
    {
     "name": "stdout",
     "output_type": "stream",
     "text": [
      "TRAIN: [0 1 2 3] TEST: [4 5 6 7]\n",
      "TRAIN: [2 3 6 7] TEST: [0 1 4 5]\n",
      "TRAIN: [2 3 4 5] TEST: [0 1 6 7]\n",
      "TRAIN: [4 5 6 7] TEST: [0 1 2 3]\n"
     ]
    }
   ],
   "source": [
    "# 分组随机排序交叉验证GroupShuffleSplit：先分组，然后将组排序随机打乱，最后根据设置参数划分训练数据集与测试数据集，\n",
    "# 分组随机排序交叉验证的例子。\n",
    "import numpy as np  \n",
    "from sklearn.model_selection import GroupShuffleSplit  \n",
    "X = [0.1, 0.2, 2.2, 2.4, 2.3, 4.55, 5.8, 0.001]  \n",
    "y = [\"a\", \"b\", \"b\", \"b\", \"c\", \"c\", \"c\", \"a\"]  \n",
    "groups = [1, 1, 2, 2, 3, 3, 4, 4]  \n",
    "gss = GroupShuffleSplit(n_splits=4, test_size=0.5, random_state=0)  \n",
    "for train_index, test_index in gss.split(X, y, groups=groups):  \n",
    "    print(\"TRAIN:\", train_index, \"TEST:\", test_index)"
   ]
  },
  {
   "cell_type": "markdown",
   "id": "efb6f2fc-8a21-4732-802b-41115c385a63",
   "metadata": {},
   "source": [
    "# 以上！"
   ]
  }
 ],
 "metadata": {
  "kernelspec": {
   "display_name": "Python 3 (ipykernel)",
   "language": "python",
   "name": "python3"
  },
  "language_info": {
   "codemirror_mode": {
    "name": "ipython",
    "version": 3
   },
   "file_extension": ".py",
   "mimetype": "text/x-python",
   "name": "python",
   "nbconvert_exporter": "python",
   "pygments_lexer": "ipython3",
   "version": "3.9.0"
  }
 },
 "nbformat": 4,
 "nbformat_minor": 5
}
