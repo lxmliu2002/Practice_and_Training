{
 "cells": [
  {
   "cell_type": "code",
   "execution_count": 24,
   "metadata": {},
   "outputs": [],
   "source": [
    "from py2neo import Graph\n",
    "graph = Graph(\"bolt: // localhost:7474\", auth=(\"neo4j\", \"12345678\"))\n",
    "from IPython.core.interactiveshell import InteractiveShell\n",
    "InteractiveShell.ast_node_interactivity = \"all\""
   ]
  },
  {
   "cell_type": "code",
   "execution_count": 13,
   "metadata": {},
   "outputs": [
    {
     "data": {
      "text/plain": [
       "(Node('角色', name='郭靖', sex='男'),\n",
       " Node('角色', name='黄蓉', sex='女'),\n",
       " Node('作品', author='金庸', name='射雕英雄传'))"
      ]
     },
     "execution_count": 13,
     "metadata": {},
     "output_type": "execute_result"
    }
   ],
   "source": [
    "from py2neo import Node\n",
    "# 创建 角色 节点 郭靖，拥有属性 姓名-郭靖，性别-男\n",
    "guojing = Node('角色',name='郭靖',sex='男')\n",
    "# 创建 角色 节点 黄蓉，拥有属性 姓名-黄蓉，性别-女\n",
    "huangrong = Node('角色',name='黄蓉',sex='女')\n",
    "# 创建 作品 节点 射雕英雄传，拥有属性 名称-射雕英雄传，作者-金庸\n",
    "shediao = Node('作品',name='射雕英雄传',author='金庸')\n",
    "# 打印结果\n",
    "guojing,huangrong,shediao\n"
   ]
  },
  {
   "cell_type": "code",
   "execution_count": 14,
   "metadata": {},
   "outputs": [
    {
     "data": {
      "text/plain": [
       "2"
      ]
     },
     "execution_count": 14,
     "metadata": {},
     "output_type": "execute_result"
    }
   ],
   "source": [
    "# 获取 key 对应的属性\n",
    "guojing['name']\n",
    "# 设置 key 对应属性的 value，如果 key 不存在就创建\n",
    "huangrong['born'] = '桃花岛'\n",
    "huangrong\n",
    "# 删除某个属性\n",
    "del huangrong['born']\n",
    "huangrong\n",
    "# 返回节点中 property 的个数\n",
    "len(huangrong)\n"
   ]
  },
  {
   "cell_type": "code",
   "execution_count": 15,
   "metadata": {},
   "outputs": [
    {
     "data": {
      "text/plain": [
       "(Node('角色', name='郭靖', sex='男'),\n",
       " Node('角色', name='黄蓉', sex='女'),\n",
       " Node('作品', author='金庸', name='射雕英雄传'))"
      ]
     },
     "execution_count": 15,
     "metadata": {},
     "output_type": "execute_result"
    }
   ],
   "source": [
    "# 在 Neo4j 数据库中创建 郭靖 节点\n",
    "graph.create(guojing)\n",
    "# 在 Neo4j 数据库中创建 黄蓉 节点\n",
    "graph.create(huangrong)\n",
    "# 在 Neo4j 数据库中创建 射雕英雄传 节点\n",
    "graph.create(shediao)\n",
    "# 打印结果\n",
    "guojing,huangrong,shediao\n"
   ]
  },
  {
   "cell_type": "code",
   "execution_count": 16,
   "metadata": {},
   "outputs": [],
   "source": [
    "# 反复执行此命令来创建 郭靖 节点\n",
    "graph.create(guojing)\n"
   ]
  },
  {
   "cell_type": "code",
   "execution_count": 17,
   "metadata": {},
   "outputs": [
    {
     "data": {
      "text/plain": [
       "Node('角色', name='郭靖', sex='男')"
      ]
     },
     "execution_count": 17,
     "metadata": {},
     "output_type": "execute_result"
    }
   ],
   "source": [
    "# 重新 guojing 变量赋值\n",
    "guojing = Node('角色',name='郭靖',sex='男')\n",
    "guojing"
   ]
  },
  {
   "cell_type": "code",
   "execution_count": 18,
   "metadata": {},
   "outputs": [
    {
     "data": {
      "text/plain": [
       "(配偶(Node('角色', name='郭靖', sex='男'), Node('角色', name='黄蓉', sex='女')),\n",
       " 配偶(Node('角色', name='黄蓉', sex='女'), Node('角色', name='郭靖', sex='男')),\n",
       " 所在作品(Node('角色', name='郭靖', sex='男'), Node('作品', author='金庸', name='射雕英雄传')),\n",
       " 所在作品(Node('角色', name='黄蓉', sex='女'), Node('作品', author='金庸', name='射雕英雄传')))"
      ]
     },
     "execution_count": 18,
     "metadata": {},
     "output_type": "execute_result"
    }
   ],
   "source": [
    "from py2neo import Relationship\n",
    "# 创建郭靖与黄蓉的配偶关系\n",
    "spouse1 = Relationship(guojing,'配偶',huangrong)\n",
    "# 创建黄蓉与郭靖的配偶关系\n",
    "spouse2 = Relationship(huangrong,'配偶',guojing)\n",
    "# 创建郭靖与射雕英雄传的所在作品关系\n",
    "inbook1 = Relationship(guojing,'所在作品',shediao)\n",
    "# 创建黄蓉与射雕英雄传的所在作品关系\n",
    "inbook2 = Relationship(huangrong,'所在作品',shediao)\n",
    "# 打印结果\n",
    "spouse1,spouse2,inbook1,inbook2\n"
   ]
  },
  {
   "cell_type": "code",
   "execution_count": 26,
   "metadata": {},
   "outputs": [
    {
     "data": {
      "text/plain": [
       "所在作品(Node('角色', name='郭靖', sex='男'), Node('作品', author='金庸', name='射雕英雄传'), role='男主角')"
      ]
     },
     "execution_count": 26,
     "metadata": {},
     "output_type": "execute_result"
    },
    {
     "data": {
      "text/plain": [
       "所在作品(Node('角色', name='郭靖', sex='男'), Node('作品', author='金庸', name='射雕英雄传'))"
      ]
     },
     "execution_count": 26,
     "metadata": {},
     "output_type": "execute_result"
    }
   ],
   "source": [
    "# 设置 key 对应属性的 value\n",
    "inbook1['role'] = '男主角'\n",
    "inbook1\n",
    "# 删除某个属性\n",
    "del inbook1['role']\n",
    "inbook1\n"
   ]
  },
  {
   "cell_type": "code",
   "execution_count": 20,
   "metadata": {},
   "outputs": [],
   "source": [
    "# 创建郭靖与黄蓉的配偶关系\n",
    "graph.create(spouse1)\n",
    "# 创建黄蓉与郭靖的配偶关系\n",
    "graph.create(spouse2)\n",
    "# 创建郭靖与射雕英雄传的所在作品关系\n",
    "graph.create(inbook1)\n",
    "# 创建黄蓉与射雕英雄传的所在作品关系\n",
    "graph.create(inbook2)\n"
   ]
  },
  {
   "cell_type": "code",
   "execution_count": 25,
   "metadata": {},
   "outputs": [
    {
     "data": {
      "text/plain": [
       "Node('角色', name='郭靖', sex='男')"
      ]
     },
     "execution_count": 25,
     "metadata": {},
     "output_type": "execute_result"
    },
    {
     "data": {
      "text/plain": [
       "[Node('角色', name='郭靖', sex='男'), Node('角色', name='郭靖', sex='男')]"
      ]
     },
     "execution_count": 25,
     "metadata": {},
     "output_type": "execute_result"
    }
   ],
   "source": [
    "from py2neo import NodeMatcher\n",
    "# 初始化一个 matcher 实例\n",
    "matcher = NodeMatcher(graph)\n",
    "# 用 match 方法查找 角色 中 name 为郭靖的节点，返回一个 NodeMatch 对象\n",
    "result = matcher.match(\"角色\", name=\"郭靖\")\n",
    "# first 方法返回查询结果的第一个\n",
    "result.first()\n",
    "# 通过 list 来把所有结果显示出来\n",
    "list(result)\n"
   ]
  },
  {
   "cell_type": "code",
   "execution_count": 27,
   "metadata": {},
   "outputs": [
    {
     "data": {
      "text/html": [
       "(No data)"
      ],
      "text/plain": [
       "(No data)"
      ]
     },
     "execution_count": 27,
     "metadata": {},
     "output_type": "execute_result"
    }
   ],
   "source": [
    "# cypher 语句，对已存在的 郭靖 节点，创建节点和关系 (郭靖)-[父]->(郭啸天)\n",
    "query = \"match (n) where n.name = '郭靖' create (n)-[:父]->(:角色{name:'郭啸天'})\"\n",
    "# 执行 cypher 语句\n",
    "graph.run(query)\n"
   ]
  },
  {
   "cell_type": "code",
   "execution_count": 28,
   "metadata": {},
   "outputs": [
    {
     "name": "stdout",
     "output_type": "stream",
     "text": [
      "Node('角色', name='郭靖', sex='男')\n",
      "Node('角色', name='黄蓉', sex='女')\n",
      "Node('作品', author='金庸', name='射雕英雄传')\n",
      "Node('角色', name='郭靖', sex='男')\n",
      "Node('角色', name='郭啸天')\n",
      "Node('角色', name='郭啸天')\n"
     ]
    }
   ],
   "source": [
    "# cypher 语句，查询并返回所有的节点\n",
    "query = \"match (n) return n\"\n",
    "# 执行 cypher 语句，获得返回结果\n",
    "cursors = graph.run(query)\n",
    "# 通过遍历的方式取出所有结果\n",
    "for i in cursors:\n",
    "    print(i)\n"
   ]
  },
  {
   "cell_type": "code",
   "execution_count": 30,
   "metadata": {},
   "outputs": [],
   "source": [
    "\n",
    "\n",
    "# 定义人物关系三元组列表\n",
    "person_list = [('杨过', '配偶', '小龙女'), ('杨过', '父', '杨康'), ('杨康', '父', '杨铁心'), ('小龙女', '配偶', '杨过')]\n",
    "\n",
    "# 创建人物节点和关系\n",
    "for triple in person_list:\n",
    "    person1 = Node(\"Person\", name=triple[0])\n",
    "    person2 = Node(\"Person\", name=triple[2])\n",
    "    relationship = Relationship(person1, triple[1], person2)\n",
    "    graph.create(person1 | person2 | relationship)\n"
   ]
  },
  {
   "cell_type": "code",
   "execution_count": null,
   "metadata": {},
   "outputs": [],
   "source": []
  }
 ],
 "metadata": {
  "kernelspec": {
   "display_name": ".venv",
   "language": "python",
   "name": "python3"
  },
  "language_info": {
   "codemirror_mode": {
    "name": "ipython",
    "version": 3
   },
   "file_extension": ".py",
   "mimetype": "text/x-python",
   "name": "python",
   "nbconvert_exporter": "python",
   "pygments_lexer": "ipython3",
   "version": "3.11.4"
  },
  "orig_nbformat": 4
 },
 "nbformat": 4,
 "nbformat_minor": 2
}
