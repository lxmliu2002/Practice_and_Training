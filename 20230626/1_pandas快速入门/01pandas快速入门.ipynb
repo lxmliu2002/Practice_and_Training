{
 "cells": [
  {
   "cell_type": "markdown",
   "id": "4b45a032-2e38-4580-98b5-fb6af8bfeb23",
   "metadata": {
    "tags": []
   },
   "source": [
    "# pandas快速入门\n",
    "## 学习目标\n",
    "+ 能够知道 DataFrame 和 Series 数据结构\n",
    "+ 能够加载 csv 和 tsv 数据集\n",
    "+ 能够区分 DataFrame 的行列标签和行列位置编号\n",
    "+ 能够获取 DataFrame 指定行列的数据\n",
    "\n",
    "## 1.DataFrame 和 Series 简介\n",
    "pandas是用于数据分析的开源Python库，可以实现数据加载，清洗，转换，统计处理，可视化等功能。\n",
    "\n",
    "pandas最基本的两种数据结构：\n",
    "\n",
    "1. DataFrame\n",
    "\n",
    "    + 用来处理结构化数据（SQL数据表，Excel表格）\n",
    "    + 可以简单理解为一张数据表(带有行标签和列标签)\n",
    "    \n",
    "2. Series\n",
    "\n",
    "    + 用来处理单列数据，也可以以把DataFrame看作由Series对象组成的字典或集合\n",
    "    + 可以简单理解为数据表的一行或一列\n",
    "    \n",
    "    ![Pandas数据结构](./pic/chapter02-01.png)\n",
    "    \n",
    "## 2.加载数据集(csv和tsv)\n",
    "\n",
    "### 2.1 csv和tsv文件格式简介\n",
    "csv 和 tsv 文件都是存储一个二维表数据的文件类型。\n",
    ">注意：其中csv文件每一列的列元素之间以逗号进行分割，tsv文件每一行的列元素之间以\\t进行分割。\n",
    "\n",
    " ![csv和tsv对比](./pic/chapter02-02.png)\n",
    " \n",
    " ### 2.2 加载数据集(tsv和csv)\n",
    " 1. 导入pandas包"
   ]
  },
  {
   "cell_type": "code",
   "execution_count": 2,
   "id": "d38f2df5-6ef5-4d44-9657-635135fa3489",
   "metadata": {},
   "outputs": [],
   "source": [
    "# 在 ipynb 文件中导入 pandas\n",
    "import pandas as pd"
   ]
  },
  {
   "cell_type": "markdown",
   "id": "9e6389d9-fa69-488a-8b51-a737f999ba2b",
   "metadata": {},
   "source": [
    "2. 加载 csv 文件数据集"
   ]
  },
  {
   "cell_type": "code",
   "execution_count": null,
   "id": "971b43c4-f463-4934-855b-d03111071aa1",
   "metadata": {},
   "outputs": [],
   "source": [
    "tips = pd.read_csv('./data/tips.csv')\n",
    "print(tips)"
   ]
  },
  {
   "cell_type": "markdown",
   "id": "6440a5b2-6da5-4b14-b486-e8f34547c727",
   "metadata": {},
   "source": [
    "3. 加载 tsv 文件数据集"
   ]
  },
  {
   "cell_type": "code",
   "execution_count": null,
   "id": "aeba7a3a-8b1d-46c8-a9c6-15d8f97b11a5",
   "metadata": {},
   "outputs": [],
   "source": [
    "# sep参数指定tsv文件的列元素分隔符为\\t，默认sep参数是,\n",
    "china = pd.read_csv('./data/china.tsv', sep='\\t')\n",
    "china"
   ]
  },
  {
   "cell_type": "code",
   "execution_count": null,
   "id": "370f1e71-b63f-4cf9-945f-1a87f0c87642",
   "metadata": {},
   "outputs": [],
   "source": [
    "type(china)"
   ]
  },
  {
   "cell_type": "markdown",
   "id": "ec56737d-4780-40af-94cc-5bedd57cd51d",
   "metadata": {},
   "source": [
    "## 3. DataFrame 的行列标签和行列位置编号\n",
    "### 3.1 DataFrame 的行标签和列标签\n",
    "1. 如果所示，分别是 DataFrame 的行标签和列标签\n",
    " ![DataFrame行列标签](./pic/chapter02-06.png)"
   ]
  },
  {
   "cell_type": "markdown",
   "id": "1d4185bd-1317-4cdd-9804-c89b93587b4f",
   "metadata": {},
   "source": [
    "2. 获取 DataFrame 的行标签"
   ]
  },
  {
   "cell_type": "code",
   "execution_count": null,
   "id": "ebf4ac00-4d56-4cc0-a494-71da6cbdc541",
   "metadata": {},
   "outputs": [],
   "source": [
    "# 获取 DataFrame 的行标签\n",
    "china.index"
   ]
  },
  {
   "cell_type": "markdown",
   "id": "3fd0fd7a-76d8-4766-943b-79ed716c3c77",
   "metadata": {},
   "source": [
    "3. 获取 DataFrame 的列标签"
   ]
  },
  {
   "cell_type": "code",
   "execution_count": null,
   "id": "1ef80f73-1b35-49c0-b992-b1aaf173f7ad",
   "metadata": {},
   "outputs": [],
   "source": [
    "# 获取 DataFrame 的列标签\n",
    "china.columns"
   ]
  },
  {
   "cell_type": "markdown",
   "id": "3f49fb98-74d0-4351-8d9f-1037dd0ee0e2",
   "metadata": {},
   "source": [
    "4. 设置 DataFrame 的行标签"
   ]
  },
  {
   "cell_type": "code",
   "execution_count": null,
   "id": "3b5692a8-180f-45ec-adf8-de266a9bd6b7",
   "metadata": {},
   "outputs": [],
   "source": [
    "# 注意：DataFrame设置行标签时，并不会改变原来的DataFrame，而是返回的副本\n",
    "china_df = china.set_index('year')\n",
    "china_df"
   ]
  },
  {
   "cell_type": "markdown",
   "id": "1121d84a-c330-4c8b-84e0-fb7d80ea43aa",
   "metadata": {
    "tags": []
   },
   "source": [
    "### 3.2DataFrame 的行位置编号和列位置编号\n",
    "DataFrame 除了行标签和列标签之外，还具有行列位置编号。\n",
    ">行位置编号：从上到下，第1行编号为0，第二行编号为1，…，第n行编号为n-1\n",
    "\n",
    ">列位置编号：从左到右，第1列编号为0，第二列编号为1，…，第n列编号为n-1\n",
    "\n",
    "![行列位置编号](./pic/chapter02-10.png)\n",
    "\n",
    ">注意：默认情况下，行标签和行位置编号是一样的。\n",
    "## 4. DataFrame 获取指定行列的数据\n",
    "以下示例都使用加载的 gapminder.tsv 数据集进行操作，注意将 year 这一列设置为行标签。"
   ]
  },
  {
   "cell_type": "code",
   "execution_count": 3,
   "id": "0232749e-7d40-46ff-9900-103ae140df15",
   "metadata": {},
   "outputs": [
    {
     "data": {
      "text/html": [
       "<div>\n",
       "<style scoped>\n",
       "    .dataframe tbody tr th:only-of-type {\n",
       "        vertical-align: middle;\n",
       "    }\n",
       "\n",
       "    .dataframe tbody tr th {\n",
       "        vertical-align: top;\n",
       "    }\n",
       "\n",
       "    .dataframe thead th {\n",
       "        text-align: right;\n",
       "    }\n",
       "</style>\n",
       "<table border=\"1\" class=\"dataframe\">\n",
       "  <thead>\n",
       "    <tr style=\"text-align: right;\">\n",
       "      <th></th>\n",
       "      <th>country</th>\n",
       "      <th>continent</th>\n",
       "      <th>lifeExp</th>\n",
       "      <th>pop</th>\n",
       "      <th>gdpPercap</th>\n",
       "    </tr>\n",
       "    <tr>\n",
       "      <th>year</th>\n",
       "      <th></th>\n",
       "      <th></th>\n",
       "      <th></th>\n",
       "      <th></th>\n",
       "      <th></th>\n",
       "    </tr>\n",
       "  </thead>\n",
       "  <tbody>\n",
       "    <tr>\n",
       "      <th>1952</th>\n",
       "      <td>China</td>\n",
       "      <td>Asia</td>\n",
       "      <td>44.00000</td>\n",
       "      <td>556263527</td>\n",
       "      <td>400.448611</td>\n",
       "    </tr>\n",
       "    <tr>\n",
       "      <th>1957</th>\n",
       "      <td>China</td>\n",
       "      <td>Asia</td>\n",
       "      <td>50.54896</td>\n",
       "      <td>637408000</td>\n",
       "      <td>575.987001</td>\n",
       "    </tr>\n",
       "    <tr>\n",
       "      <th>1962</th>\n",
       "      <td>China</td>\n",
       "      <td>Asia</td>\n",
       "      <td>44.50136</td>\n",
       "      <td>665770000</td>\n",
       "      <td>487.674018</td>\n",
       "    </tr>\n",
       "    <tr>\n",
       "      <th>1967</th>\n",
       "      <td>China</td>\n",
       "      <td>Asia</td>\n",
       "      <td>58.38112</td>\n",
       "      <td>754550000</td>\n",
       "      <td>612.705693</td>\n",
       "    </tr>\n",
       "    <tr>\n",
       "      <th>1972</th>\n",
       "      <td>China</td>\n",
       "      <td>Asia</td>\n",
       "      <td>63.11888</td>\n",
       "      <td>862030000</td>\n",
       "      <td>676.900092</td>\n",
       "    </tr>\n",
       "    <tr>\n",
       "      <th>1977</th>\n",
       "      <td>China</td>\n",
       "      <td>Asia</td>\n",
       "      <td>63.96736</td>\n",
       "      <td>943455000</td>\n",
       "      <td>741.237470</td>\n",
       "    </tr>\n",
       "    <tr>\n",
       "      <th>1982</th>\n",
       "      <td>China</td>\n",
       "      <td>Asia</td>\n",
       "      <td>65.52500</td>\n",
       "      <td>1000281000</td>\n",
       "      <td>962.421380</td>\n",
       "    </tr>\n",
       "    <tr>\n",
       "      <th>1987</th>\n",
       "      <td>China</td>\n",
       "      <td>Asia</td>\n",
       "      <td>67.27400</td>\n",
       "      <td>1084035000</td>\n",
       "      <td>1378.904018</td>\n",
       "    </tr>\n",
       "    <tr>\n",
       "      <th>1992</th>\n",
       "      <td>China</td>\n",
       "      <td>Asia</td>\n",
       "      <td>68.69000</td>\n",
       "      <td>1164970000</td>\n",
       "      <td>1655.784158</td>\n",
       "    </tr>\n",
       "    <tr>\n",
       "      <th>1997</th>\n",
       "      <td>China</td>\n",
       "      <td>Asia</td>\n",
       "      <td>70.42600</td>\n",
       "      <td>1230075000</td>\n",
       "      <td>2289.234136</td>\n",
       "    </tr>\n",
       "    <tr>\n",
       "      <th>2002</th>\n",
       "      <td>China</td>\n",
       "      <td>Asia</td>\n",
       "      <td>72.02800</td>\n",
       "      <td>1280400000</td>\n",
       "      <td>3119.280896</td>\n",
       "    </tr>\n",
       "    <tr>\n",
       "      <th>2007</th>\n",
       "      <td>China</td>\n",
       "      <td>Asia</td>\n",
       "      <td>72.96100</td>\n",
       "      <td>1318683096</td>\n",
       "      <td>4959.114854</td>\n",
       "    </tr>\n",
       "  </tbody>\n",
       "</table>\n",
       "</div>"
      ],
      "text/plain": [
       "     country continent   lifeExp         pop    gdpPercap\n",
       "year                                                     \n",
       "1952   China      Asia  44.00000   556263527   400.448611\n",
       "1957   China      Asia  50.54896   637408000   575.987001\n",
       "1962   China      Asia  44.50136   665770000   487.674018\n",
       "1967   China      Asia  58.38112   754550000   612.705693\n",
       "1972   China      Asia  63.11888   862030000   676.900092\n",
       "1977   China      Asia  63.96736   943455000   741.237470\n",
       "1982   China      Asia  65.52500  1000281000   962.421380\n",
       "1987   China      Asia  67.27400  1084035000  1378.904018\n",
       "1992   China      Asia  68.69000  1164970000  1655.784158\n",
       "1997   China      Asia  70.42600  1230075000  2289.234136\n",
       "2002   China      Asia  72.02800  1280400000  3119.280896\n",
       "2007   China      Asia  72.96100  1318683096  4959.114854"
      ]
     },
     "execution_count": 3,
     "metadata": {},
     "output_type": "execute_result"
    }
   ],
   "source": [
    "gapminder = pd.read_csv('./data/gapminder.tsv', sep='\\t')\n",
    "gapminder_df = gapminder.set_index('year')\n",
    "gapminder_df\n",
    "china_df = gapminder_df[gapminder_df['country']=='China']\n",
    "china_df"
   ]
  },
  {
   "cell_type": "markdown",
   "id": "17a987cf-c4e1-400f-b1a5-449aeec02a11",
   "metadata": {
    "tags": []
   },
   "source": [
    "### 4.1 loc函数获取指定行列的数据\n",
    "基本格式：\n",
    "\n",
    "| 语法 | 说明 |\n",
    "| ---- | ---- |\n",
    "| df.loc[[行标签1, ...], [列标签1, ...]] | 根据行标签和列标签获取对应行的对应列的数据，结果为：DataFrame |\n",
    "| df.loc[[行标签1, ...]] | 根据行标签获取对应行的所有列的数据结果为：DataFrame |\n",
    "| df.loc[:, [列标签1, ...]] | 根据列标签获取所有行的对应列的数据结果为：DataFrame |\n",
    "| df.loc[行标签] | 1）如果结果只有一行，结果为：Series 2）如果结果有多行，结果为：DataFrame |\n",
    "| df.loc[[行标签]] | 无论结果是一行还是多行，结果为DataFrame |\n",
    "| df.loc[[行标签], 列标签] | 1）如果结果只有一列，结果为：Series，行标签作为 Series 的索引标签 2）如果结果有多列，结果为：DataFrame |\n",
    "| df.loc[行标签, [列标签]] | 1）如果结果只有一行，结果为：Series，列标签作为 Series 的索引标签 2）如果结果有多行，结果为DataFrame |\n",
    "| df.loc[行标签, 列标签] | 1）如果结果只有一行一列，结果为单个值 2）如果结果有多行一列，结果为：Series，行标签作为 Series 的索引标签 3）如果结果有一行多列，结果为：Series，列标签作为 Series 的索引标签 4）如果结果有多行多列，结果为：DataFrame |\n",
    "\n",
    "\n",
    "#### 演示示例：\n",
    "1. 示例1：获取行标签为 1952, 1962, 1972 行的 country、pop、gdpPercap 列的数据\n",
    "2. 示例2：获取行标签为 1952, 1962, 1972 行的所有列的数据\n",
    "3. 示例3：获取所有行的 country、pop、gdpPercap 列的数据\n",
    "4. 示例4：获取行标签为 1957 行的所有列的数据\n",
    "5. 示例5：获取行标签为 1957 行的 lifeExp 列的数据\n",
    "\n",
    "\n",
    "\n",
    "#### 示例实现："
   ]
  },
  {
   "cell_type": "code",
   "execution_count": 4,
   "id": "7fe96c3e-cef7-4868-9c83-c68c662e4d71",
   "metadata": {},
   "outputs": [
    {
     "data": {
      "text/html": [
       "<div>\n",
       "<style scoped>\n",
       "    .dataframe tbody tr th:only-of-type {\n",
       "        vertical-align: middle;\n",
       "    }\n",
       "\n",
       "    .dataframe tbody tr th {\n",
       "        vertical-align: top;\n",
       "    }\n",
       "\n",
       "    .dataframe thead th {\n",
       "        text-align: right;\n",
       "    }\n",
       "</style>\n",
       "<table border=\"1\" class=\"dataframe\">\n",
       "  <thead>\n",
       "    <tr style=\"text-align: right;\">\n",
       "      <th></th>\n",
       "      <th>country</th>\n",
       "      <th>pop</th>\n",
       "      <th>gdpPercap</th>\n",
       "    </tr>\n",
       "    <tr>\n",
       "      <th>year</th>\n",
       "      <th></th>\n",
       "      <th></th>\n",
       "      <th></th>\n",
       "    </tr>\n",
       "  </thead>\n",
       "  <tbody>\n",
       "    <tr>\n",
       "      <th>1952</th>\n",
       "      <td>China</td>\n",
       "      <td>556263527</td>\n",
       "      <td>400.448611</td>\n",
       "    </tr>\n",
       "    <tr>\n",
       "      <th>1962</th>\n",
       "      <td>China</td>\n",
       "      <td>665770000</td>\n",
       "      <td>487.674018</td>\n",
       "    </tr>\n",
       "    <tr>\n",
       "      <th>1972</th>\n",
       "      <td>China</td>\n",
       "      <td>862030000</td>\n",
       "      <td>676.900092</td>\n",
       "    </tr>\n",
       "  </tbody>\n",
       "</table>\n",
       "</div>"
      ],
      "text/plain": [
       "     country        pop   gdpPercap\n",
       "year                               \n",
       "1952   China  556263527  400.448611\n",
       "1962   China  665770000  487.674018\n",
       "1972   China  862030000  676.900092"
      ]
     },
     "execution_count": 4,
     "metadata": {},
     "output_type": "execute_result"
    }
   ],
   "source": [
    "# 示例1：获取行标签为 1952, 1962, 1972 行的 country、pop、gdpPercap 列的数据\n",
    "china_df.loc[[1952, 1962, 1972], ['country', 'pop', 'gdpPercap']]"
   ]
  },
  {
   "cell_type": "code",
   "execution_count": 5,
   "id": "4a147b44-7d46-46ee-b574-60d225f3431c",
   "metadata": {},
   "outputs": [
    {
     "data": {
      "text/html": [
       "<div>\n",
       "<style scoped>\n",
       "    .dataframe tbody tr th:only-of-type {\n",
       "        vertical-align: middle;\n",
       "    }\n",
       "\n",
       "    .dataframe tbody tr th {\n",
       "        vertical-align: top;\n",
       "    }\n",
       "\n",
       "    .dataframe thead th {\n",
       "        text-align: right;\n",
       "    }\n",
       "</style>\n",
       "<table border=\"1\" class=\"dataframe\">\n",
       "  <thead>\n",
       "    <tr style=\"text-align: right;\">\n",
       "      <th></th>\n",
       "      <th>country</th>\n",
       "      <th>continent</th>\n",
       "      <th>lifeExp</th>\n",
       "      <th>pop</th>\n",
       "      <th>gdpPercap</th>\n",
       "    </tr>\n",
       "    <tr>\n",
       "      <th>year</th>\n",
       "      <th></th>\n",
       "      <th></th>\n",
       "      <th></th>\n",
       "      <th></th>\n",
       "      <th></th>\n",
       "    </tr>\n",
       "  </thead>\n",
       "  <tbody>\n",
       "    <tr>\n",
       "      <th>1952</th>\n",
       "      <td>China</td>\n",
       "      <td>Asia</td>\n",
       "      <td>44.00000</td>\n",
       "      <td>556263527</td>\n",
       "      <td>400.448611</td>\n",
       "    </tr>\n",
       "    <tr>\n",
       "      <th>1962</th>\n",
       "      <td>China</td>\n",
       "      <td>Asia</td>\n",
       "      <td>44.50136</td>\n",
       "      <td>665770000</td>\n",
       "      <td>487.674018</td>\n",
       "    </tr>\n",
       "    <tr>\n",
       "      <th>1972</th>\n",
       "      <td>China</td>\n",
       "      <td>Asia</td>\n",
       "      <td>63.11888</td>\n",
       "      <td>862030000</td>\n",
       "      <td>676.900092</td>\n",
       "    </tr>\n",
       "  </tbody>\n",
       "</table>\n",
       "</div>"
      ],
      "text/plain": [
       "     country continent   lifeExp        pop   gdpPercap\n",
       "year                                                   \n",
       "1952   China      Asia  44.00000  556263527  400.448611\n",
       "1962   China      Asia  44.50136  665770000  487.674018\n",
       "1972   China      Asia  63.11888  862030000  676.900092"
      ]
     },
     "execution_count": 5,
     "metadata": {},
     "output_type": "execute_result"
    }
   ],
   "source": [
    "# 示例2：获取行标签为 1952, 1962, 1972 行的所有列的数据\n",
    "china_df.loc[[1952, 1962, 1972]]"
   ]
  },
  {
   "cell_type": "code",
   "execution_count": 6,
   "id": "edb3e903-6fc8-4b1c-a259-e55b5bdcccbb",
   "metadata": {},
   "outputs": [
    {
     "data": {
      "text/html": [
       "<div>\n",
       "<style scoped>\n",
       "    .dataframe tbody tr th:only-of-type {\n",
       "        vertical-align: middle;\n",
       "    }\n",
       "\n",
       "    .dataframe tbody tr th {\n",
       "        vertical-align: top;\n",
       "    }\n",
       "\n",
       "    .dataframe thead th {\n",
       "        text-align: right;\n",
       "    }\n",
       "</style>\n",
       "<table border=\"1\" class=\"dataframe\">\n",
       "  <thead>\n",
       "    <tr style=\"text-align: right;\">\n",
       "      <th></th>\n",
       "      <th>country</th>\n",
       "      <th>pop</th>\n",
       "      <th>gdpPercap</th>\n",
       "    </tr>\n",
       "    <tr>\n",
       "      <th>year</th>\n",
       "      <th></th>\n",
       "      <th></th>\n",
       "      <th></th>\n",
       "    </tr>\n",
       "  </thead>\n",
       "  <tbody>\n",
       "    <tr>\n",
       "      <th>1952</th>\n",
       "      <td>China</td>\n",
       "      <td>556263527</td>\n",
       "      <td>400.448611</td>\n",
       "    </tr>\n",
       "    <tr>\n",
       "      <th>1957</th>\n",
       "      <td>China</td>\n",
       "      <td>637408000</td>\n",
       "      <td>575.987001</td>\n",
       "    </tr>\n",
       "    <tr>\n",
       "      <th>1962</th>\n",
       "      <td>China</td>\n",
       "      <td>665770000</td>\n",
       "      <td>487.674018</td>\n",
       "    </tr>\n",
       "    <tr>\n",
       "      <th>1967</th>\n",
       "      <td>China</td>\n",
       "      <td>754550000</td>\n",
       "      <td>612.705693</td>\n",
       "    </tr>\n",
       "    <tr>\n",
       "      <th>1972</th>\n",
       "      <td>China</td>\n",
       "      <td>862030000</td>\n",
       "      <td>676.900092</td>\n",
       "    </tr>\n",
       "    <tr>\n",
       "      <th>1977</th>\n",
       "      <td>China</td>\n",
       "      <td>943455000</td>\n",
       "      <td>741.237470</td>\n",
       "    </tr>\n",
       "    <tr>\n",
       "      <th>1982</th>\n",
       "      <td>China</td>\n",
       "      <td>1000281000</td>\n",
       "      <td>962.421380</td>\n",
       "    </tr>\n",
       "    <tr>\n",
       "      <th>1987</th>\n",
       "      <td>China</td>\n",
       "      <td>1084035000</td>\n",
       "      <td>1378.904018</td>\n",
       "    </tr>\n",
       "    <tr>\n",
       "      <th>1992</th>\n",
       "      <td>China</td>\n",
       "      <td>1164970000</td>\n",
       "      <td>1655.784158</td>\n",
       "    </tr>\n",
       "    <tr>\n",
       "      <th>1997</th>\n",
       "      <td>China</td>\n",
       "      <td>1230075000</td>\n",
       "      <td>2289.234136</td>\n",
       "    </tr>\n",
       "    <tr>\n",
       "      <th>2002</th>\n",
       "      <td>China</td>\n",
       "      <td>1280400000</td>\n",
       "      <td>3119.280896</td>\n",
       "    </tr>\n",
       "    <tr>\n",
       "      <th>2007</th>\n",
       "      <td>China</td>\n",
       "      <td>1318683096</td>\n",
       "      <td>4959.114854</td>\n",
       "    </tr>\n",
       "  </tbody>\n",
       "</table>\n",
       "</div>"
      ],
      "text/plain": [
       "     country         pop    gdpPercap\n",
       "year                                 \n",
       "1952   China   556263527   400.448611\n",
       "1957   China   637408000   575.987001\n",
       "1962   China   665770000   487.674018\n",
       "1967   China   754550000   612.705693\n",
       "1972   China   862030000   676.900092\n",
       "1977   China   943455000   741.237470\n",
       "1982   China  1000281000   962.421380\n",
       "1987   China  1084035000  1378.904018\n",
       "1992   China  1164970000  1655.784158\n",
       "1997   China  1230075000  2289.234136\n",
       "2002   China  1280400000  3119.280896\n",
       "2007   China  1318683096  4959.114854"
      ]
     },
     "execution_count": 6,
     "metadata": {},
     "output_type": "execute_result"
    }
   ],
   "source": [
    "# 示例3：获取所有行的 country、pop、gdpPercap 列的数据\n",
    "china_df.loc[:, ['country', 'pop', 'gdpPercap']]"
   ]
  },
  {
   "cell_type": "code",
   "execution_count": 7,
   "id": "c03f911b-8c7a-49a9-ace0-81b7c603d601",
   "metadata": {},
   "outputs": [
    {
     "data": {
      "text/plain": [
       "country          China\n",
       "continent         Asia\n",
       "lifeExp         50.549\n",
       "pop          637408000\n",
       "gdpPercap      575.987\n",
       "Name: 1957, dtype: object"
      ]
     },
     "execution_count": 7,
     "metadata": {},
     "output_type": "execute_result"
    }
   ],
   "source": [
    "# 示例4：获取行标签为 1957 行的所有列的数据\n",
    "china_df.loc[1957]"
   ]
  },
  {
   "cell_type": "code",
   "execution_count": 8,
   "id": "b5037f30-be09-476c-853b-94b19a3e2a0b",
   "metadata": {},
   "outputs": [
    {
     "data": {
      "text/html": [
       "<div>\n",
       "<style scoped>\n",
       "    .dataframe tbody tr th:only-of-type {\n",
       "        vertical-align: middle;\n",
       "    }\n",
       "\n",
       "    .dataframe tbody tr th {\n",
       "        vertical-align: top;\n",
       "    }\n",
       "\n",
       "    .dataframe thead th {\n",
       "        text-align: right;\n",
       "    }\n",
       "</style>\n",
       "<table border=\"1\" class=\"dataframe\">\n",
       "  <thead>\n",
       "    <tr style=\"text-align: right;\">\n",
       "      <th></th>\n",
       "      <th>country</th>\n",
       "      <th>continent</th>\n",
       "      <th>lifeExp</th>\n",
       "      <th>pop</th>\n",
       "      <th>gdpPercap</th>\n",
       "    </tr>\n",
       "    <tr>\n",
       "      <th>year</th>\n",
       "      <th></th>\n",
       "      <th></th>\n",
       "      <th></th>\n",
       "      <th></th>\n",
       "      <th></th>\n",
       "    </tr>\n",
       "  </thead>\n",
       "  <tbody>\n",
       "    <tr>\n",
       "      <th>1957</th>\n",
       "      <td>China</td>\n",
       "      <td>Asia</td>\n",
       "      <td>50.54896</td>\n",
       "      <td>637408000</td>\n",
       "      <td>575.987001</td>\n",
       "    </tr>\n",
       "  </tbody>\n",
       "</table>\n",
       "</div>"
      ],
      "text/plain": [
       "     country continent   lifeExp        pop   gdpPercap\n",
       "year                                                   \n",
       "1957   China      Asia  50.54896  637408000  575.987001"
      ]
     },
     "execution_count": 8,
     "metadata": {},
     "output_type": "execute_result"
    }
   ],
   "source": [
    "# 示例4：获取行标签为 1957 行的所有列的数据\n",
    "china_df.loc[[1957]]"
   ]
  },
  {
   "cell_type": "code",
   "execution_count": 31,
   "id": "7c22da65-bd92-4b72-91f1-c08a9c40d31d",
   "metadata": {},
   "outputs": [
    {
     "data": {
      "text/plain": [
       "50.54896"
      ]
     },
     "execution_count": 31,
     "metadata": {},
     "output_type": "execute_result"
    }
   ],
   "source": [
    "# 示例5：获取行标签为 1957 行的 lifeExp 列的数据\n",
    "# china_df.loc[[1957], 'lifeExp']\n",
    "#或\n",
    "# china_df.loc[1957, ['lifeExp']]\n",
    "#或\n",
    "china_df.loc[1957, 'lifeExp']"
   ]
  },
  {
   "cell_type": "code",
   "execution_count": 40,
   "id": "7650b5da-11d3-440a-8349-a8a6f1296a29",
   "metadata": {},
   "outputs": [
    {
     "data": {
      "text/plain": [
       "<pandas.core.indexing._LocIndexer at 0x1e5576326d8>"
      ]
     },
     "execution_count": 40,
     "metadata": {},
     "output_type": "execute_result"
    }
   ],
   "source": [
    "china_df.loc()"
   ]
  },
  {
   "cell_type": "markdown",
   "id": "47d0afb3-27fd-42c1-a2ad-744c498dc361",
   "metadata": {},
   "source": [
    "### 4.2 iloc函数获取指定行列的数据\n",
    "基本格式：\n",
    "\n",
    "|语法|说明|\n",
    "|----|----|\n",
    "|df.iloc[[行位置1, ...], [列位置1, ...]]|根据行位置和列位置获取对应行的对应列的数据，结果为：DataFrame|\n",
    "|df.iloc[[行位置1, ...]]|根据行位置获取对应行的所有列的数据结果为：DataFrame|\n",
    "|df.iloc[:, [列位置1, ...]]|根据列位置获取所有行的对应列的数据结果为：DataFrame|\n",
    "|df.iloc[行位置]|结果只有一行，结果为：Series|\n",
    "|df.iloc[[行位置]]|结果只有一行，结果为：DataFrame|\n",
    "|df.iloc[[行位置], 列位置]|结果只有一行一列，结果为：Series，行标签作为 Series 的索引标签|\n",
    "|df.iloc[行位置, [行位置]]|结果只有一行一列，结果为：Series，列标签作为 Series 的索引标签|\n",
    "|df.iloc[行位置, 行位置]|结果只有一行一列，结果为单个值|\n",
    "\n",
    "#### 演示示例：\n",
    "1. 示例1：获取行位置为 0, 2, 4 行的 0、1、2 列的数据\n",
    "2. 示例2：获取行位置为 0, 2, 4 行的所有列的数据\n",
    "3. 示例3：获取所有行的列位置为 0、1、2 列的数据\n",
    "4. 示例4：获取行位置为 1 行的所有列的数据\n",
    "5. 示例5：获取行位置为 1 行的列位置为 2 列的数据\n",
    "\n",
    "#### 示例实现："
   ]
  },
  {
   "cell_type": "code",
   "execution_count": 12,
   "id": "acabd501-eebc-4400-83df-8a5c70eb513b",
   "metadata": {},
   "outputs": [
    {
     "data": {
      "text/html": [
       "<div>\n",
       "<style scoped>\n",
       "    .dataframe tbody tr th:only-of-type {\n",
       "        vertical-align: middle;\n",
       "    }\n",
       "\n",
       "    .dataframe tbody tr th {\n",
       "        vertical-align: top;\n",
       "    }\n",
       "\n",
       "    .dataframe thead th {\n",
       "        text-align: right;\n",
       "    }\n",
       "</style>\n",
       "<table border=\"1\" class=\"dataframe\">\n",
       "  <thead>\n",
       "    <tr style=\"text-align: right;\">\n",
       "      <th></th>\n",
       "      <th>country</th>\n",
       "      <th>continent</th>\n",
       "      <th>lifeExp</th>\n",
       "    </tr>\n",
       "    <tr>\n",
       "      <th>year</th>\n",
       "      <th></th>\n",
       "      <th></th>\n",
       "      <th></th>\n",
       "    </tr>\n",
       "  </thead>\n",
       "  <tbody>\n",
       "    <tr>\n",
       "      <th>1952</th>\n",
       "      <td>China</td>\n",
       "      <td>Asia</td>\n",
       "      <td>44.00000</td>\n",
       "    </tr>\n",
       "    <tr>\n",
       "      <th>1962</th>\n",
       "      <td>China</td>\n",
       "      <td>Asia</td>\n",
       "      <td>44.50136</td>\n",
       "    </tr>\n",
       "    <tr>\n",
       "      <th>1972</th>\n",
       "      <td>China</td>\n",
       "      <td>Asia</td>\n",
       "      <td>63.11888</td>\n",
       "    </tr>\n",
       "  </tbody>\n",
       "</table>\n",
       "</div>"
      ],
      "text/plain": [
       "     country continent   lifeExp\n",
       "year                            \n",
       "1952   China      Asia  44.00000\n",
       "1962   China      Asia  44.50136\n",
       "1972   China      Asia  63.11888"
      ]
     },
     "execution_count": 12,
     "metadata": {},
     "output_type": "execute_result"
    }
   ],
   "source": [
    "# 示例1：获取行位置为 0, 2, 4 行的 0、1、2 列的数据\n",
    "china_df.iloc[[0, 2, 4], [0, 1, 2]]"
   ]
  },
  {
   "cell_type": "code",
   "execution_count": 13,
   "id": "29a6d289-a274-434f-8dcb-90484b49d6d2",
   "metadata": {},
   "outputs": [
    {
     "data": {
      "text/html": [
       "<div>\n",
       "<style scoped>\n",
       "    .dataframe tbody tr th:only-of-type {\n",
       "        vertical-align: middle;\n",
       "    }\n",
       "\n",
       "    .dataframe tbody tr th {\n",
       "        vertical-align: top;\n",
       "    }\n",
       "\n",
       "    .dataframe thead th {\n",
       "        text-align: right;\n",
       "    }\n",
       "</style>\n",
       "<table border=\"1\" class=\"dataframe\">\n",
       "  <thead>\n",
       "    <tr style=\"text-align: right;\">\n",
       "      <th></th>\n",
       "      <th>country</th>\n",
       "      <th>continent</th>\n",
       "      <th>lifeExp</th>\n",
       "      <th>pop</th>\n",
       "      <th>gdpPercap</th>\n",
       "    </tr>\n",
       "    <tr>\n",
       "      <th>year</th>\n",
       "      <th></th>\n",
       "      <th></th>\n",
       "      <th></th>\n",
       "      <th></th>\n",
       "      <th></th>\n",
       "    </tr>\n",
       "  </thead>\n",
       "  <tbody>\n",
       "    <tr>\n",
       "      <th>1952</th>\n",
       "      <td>China</td>\n",
       "      <td>Asia</td>\n",
       "      <td>44.00000</td>\n",
       "      <td>556263527</td>\n",
       "      <td>400.448611</td>\n",
       "    </tr>\n",
       "    <tr>\n",
       "      <th>1962</th>\n",
       "      <td>China</td>\n",
       "      <td>Asia</td>\n",
       "      <td>44.50136</td>\n",
       "      <td>665770000</td>\n",
       "      <td>487.674018</td>\n",
       "    </tr>\n",
       "    <tr>\n",
       "      <th>1972</th>\n",
       "      <td>China</td>\n",
       "      <td>Asia</td>\n",
       "      <td>63.11888</td>\n",
       "      <td>862030000</td>\n",
       "      <td>676.900092</td>\n",
       "    </tr>\n",
       "  </tbody>\n",
       "</table>\n",
       "</div>"
      ],
      "text/plain": [
       "     country continent   lifeExp        pop   gdpPercap\n",
       "year                                                   \n",
       "1952   China      Asia  44.00000  556263527  400.448611\n",
       "1962   China      Asia  44.50136  665770000  487.674018\n",
       "1972   China      Asia  63.11888  862030000  676.900092"
      ]
     },
     "execution_count": 13,
     "metadata": {},
     "output_type": "execute_result"
    }
   ],
   "source": [
    "# 示例2：获取行位置为 0, 2, 4 行的所有列的数据\n",
    "china_df.iloc[[0, 2, 4]]"
   ]
  },
  {
   "cell_type": "code",
   "execution_count": 14,
   "id": "ccd69ecb-e4a2-4c91-aba5-80f855d1e770",
   "metadata": {},
   "outputs": [
    {
     "data": {
      "text/html": [
       "<div>\n",
       "<style scoped>\n",
       "    .dataframe tbody tr th:only-of-type {\n",
       "        vertical-align: middle;\n",
       "    }\n",
       "\n",
       "    .dataframe tbody tr th {\n",
       "        vertical-align: top;\n",
       "    }\n",
       "\n",
       "    .dataframe thead th {\n",
       "        text-align: right;\n",
       "    }\n",
       "</style>\n",
       "<table border=\"1\" class=\"dataframe\">\n",
       "  <thead>\n",
       "    <tr style=\"text-align: right;\">\n",
       "      <th></th>\n",
       "      <th>country</th>\n",
       "      <th>continent</th>\n",
       "      <th>lifeExp</th>\n",
       "    </tr>\n",
       "    <tr>\n",
       "      <th>year</th>\n",
       "      <th></th>\n",
       "      <th></th>\n",
       "      <th></th>\n",
       "    </tr>\n",
       "  </thead>\n",
       "  <tbody>\n",
       "    <tr>\n",
       "      <th>1952</th>\n",
       "      <td>China</td>\n",
       "      <td>Asia</td>\n",
       "      <td>44.00000</td>\n",
       "    </tr>\n",
       "    <tr>\n",
       "      <th>1957</th>\n",
       "      <td>China</td>\n",
       "      <td>Asia</td>\n",
       "      <td>50.54896</td>\n",
       "    </tr>\n",
       "    <tr>\n",
       "      <th>1962</th>\n",
       "      <td>China</td>\n",
       "      <td>Asia</td>\n",
       "      <td>44.50136</td>\n",
       "    </tr>\n",
       "    <tr>\n",
       "      <th>1967</th>\n",
       "      <td>China</td>\n",
       "      <td>Asia</td>\n",
       "      <td>58.38112</td>\n",
       "    </tr>\n",
       "    <tr>\n",
       "      <th>1972</th>\n",
       "      <td>China</td>\n",
       "      <td>Asia</td>\n",
       "      <td>63.11888</td>\n",
       "    </tr>\n",
       "    <tr>\n",
       "      <th>1977</th>\n",
       "      <td>China</td>\n",
       "      <td>Asia</td>\n",
       "      <td>63.96736</td>\n",
       "    </tr>\n",
       "    <tr>\n",
       "      <th>1982</th>\n",
       "      <td>China</td>\n",
       "      <td>Asia</td>\n",
       "      <td>65.52500</td>\n",
       "    </tr>\n",
       "    <tr>\n",
       "      <th>1987</th>\n",
       "      <td>China</td>\n",
       "      <td>Asia</td>\n",
       "      <td>67.27400</td>\n",
       "    </tr>\n",
       "    <tr>\n",
       "      <th>1992</th>\n",
       "      <td>China</td>\n",
       "      <td>Asia</td>\n",
       "      <td>68.69000</td>\n",
       "    </tr>\n",
       "    <tr>\n",
       "      <th>1997</th>\n",
       "      <td>China</td>\n",
       "      <td>Asia</td>\n",
       "      <td>70.42600</td>\n",
       "    </tr>\n",
       "    <tr>\n",
       "      <th>2002</th>\n",
       "      <td>China</td>\n",
       "      <td>Asia</td>\n",
       "      <td>72.02800</td>\n",
       "    </tr>\n",
       "    <tr>\n",
       "      <th>2007</th>\n",
       "      <td>China</td>\n",
       "      <td>Asia</td>\n",
       "      <td>72.96100</td>\n",
       "    </tr>\n",
       "  </tbody>\n",
       "</table>\n",
       "</div>"
      ],
      "text/plain": [
       "     country continent   lifeExp\n",
       "year                            \n",
       "1952   China      Asia  44.00000\n",
       "1957   China      Asia  50.54896\n",
       "1962   China      Asia  44.50136\n",
       "1967   China      Asia  58.38112\n",
       "1972   China      Asia  63.11888\n",
       "1977   China      Asia  63.96736\n",
       "1982   China      Asia  65.52500\n",
       "1987   China      Asia  67.27400\n",
       "1992   China      Asia  68.69000\n",
       "1997   China      Asia  70.42600\n",
       "2002   China      Asia  72.02800\n",
       "2007   China      Asia  72.96100"
      ]
     },
     "execution_count": 14,
     "metadata": {},
     "output_type": "execute_result"
    }
   ],
   "source": [
    "# 示例3：获取所有行的列位置为 0、1、2 列的数据\n",
    "china_df.iloc[:, [0, 1, 2]]"
   ]
  },
  {
   "cell_type": "code",
   "execution_count": 15,
   "id": "c41014e8-e0a3-48c0-9a3e-fba33582182b",
   "metadata": {
    "tags": []
   },
   "outputs": [
    {
     "data": {
      "text/plain": [
       "country          China\n",
       "continent         Asia\n",
       "lifeExp         50.549\n",
       "pop          637408000\n",
       "gdpPercap      575.987\n",
       "Name: 1957, dtype: object"
      ]
     },
     "execution_count": 15,
     "metadata": {},
     "output_type": "execute_result"
    }
   ],
   "source": [
    "# 示例4：获取行位置为 1 行的所有列的数据\n",
    "china_df.iloc[1]"
   ]
  },
  {
   "cell_type": "code",
   "execution_count": 16,
   "id": "236c945f-623a-4177-90dd-0ebab0c14e0e",
   "metadata": {},
   "outputs": [
    {
     "data": {
      "text/html": [
       "<div>\n",
       "<style scoped>\n",
       "    .dataframe tbody tr th:only-of-type {\n",
       "        vertical-align: middle;\n",
       "    }\n",
       "\n",
       "    .dataframe tbody tr th {\n",
       "        vertical-align: top;\n",
       "    }\n",
       "\n",
       "    .dataframe thead th {\n",
       "        text-align: right;\n",
       "    }\n",
       "</style>\n",
       "<table border=\"1\" class=\"dataframe\">\n",
       "  <thead>\n",
       "    <tr style=\"text-align: right;\">\n",
       "      <th></th>\n",
       "      <th>country</th>\n",
       "      <th>continent</th>\n",
       "      <th>lifeExp</th>\n",
       "      <th>pop</th>\n",
       "      <th>gdpPercap</th>\n",
       "    </tr>\n",
       "    <tr>\n",
       "      <th>year</th>\n",
       "      <th></th>\n",
       "      <th></th>\n",
       "      <th></th>\n",
       "      <th></th>\n",
       "      <th></th>\n",
       "    </tr>\n",
       "  </thead>\n",
       "  <tbody>\n",
       "    <tr>\n",
       "      <th>1957</th>\n",
       "      <td>China</td>\n",
       "      <td>Asia</td>\n",
       "      <td>50.54896</td>\n",
       "      <td>637408000</td>\n",
       "      <td>575.987001</td>\n",
       "    </tr>\n",
       "  </tbody>\n",
       "</table>\n",
       "</div>"
      ],
      "text/plain": [
       "     country continent   lifeExp        pop   gdpPercap\n",
       "year                                                   \n",
       "1957   China      Asia  50.54896  637408000  575.987001"
      ]
     },
     "execution_count": 16,
     "metadata": {},
     "output_type": "execute_result"
    }
   ],
   "source": [
    "# 示例4：获取行位置为 1 行的所有列的数据\n",
    "china_df.iloc[[1]]"
   ]
  },
  {
   "cell_type": "code",
   "execution_count": 19,
   "id": "40ae7e73-3bd0-4c32-8144-7d1ac6f44dd6",
   "metadata": {},
   "outputs": [
    {
     "data": {
      "text/plain": [
       "50.54896"
      ]
     },
     "execution_count": 19,
     "metadata": {},
     "output_type": "execute_result"
    }
   ],
   "source": [
    "# 示例5：获取行位置为 1 行的列位置为 2 列的数据\n",
    "china_df.iloc[[1], 2]\n",
    "# 或\n",
    "china_df.iloc[1, [2]]\n",
    "# 或\n",
    "china_df.iloc[1, 2]"
   ]
  },
  {
   "cell_type": "markdown",
   "id": "be4e0152-f189-400c-8d65-036c71a2fc13",
   "metadata": {
    "tags": []
   },
   "source": [
    "### 4.3 loc和iloc的切片操作\n",
    "#### 基本格式：\n",
    "\n",
    "|语法|说明|\n",
    "|---|---|\n",
    "|df.loc[起始行标签:结束行标签, 起始列标签:结束列标签]|根据行列标签范围获对应行的对应列的数据，包含起始行列标签和结束行列标签|\n",
    "|df.iloc[起始行位置:结束行位置, 起始列位置:结束列位置]|根据行列标签位置获对应行的对应列的数据，包含起始行列位置，但不包含结束行列位置|\n",
    "\n",
    "#### 演示示例：\n",
    "\n",
    "示例1：获取 china_df 中前三行的前三列的数据，分别使用上面介绍的loc和iloc实现\n",
    "![示例1](./pic/chapter02-23.png)\n",
    "\n",
    "#### 示例实现："
   ]
  },
  {
   "cell_type": "code",
   "execution_count": 21,
   "id": "dc122b34-f1a9-4b7d-955f-60fc2dc4d835",
   "metadata": {},
   "outputs": [
    {
     "data": {
      "text/html": [
       "<div>\n",
       "<style scoped>\n",
       "    .dataframe tbody tr th:only-of-type {\n",
       "        vertical-align: middle;\n",
       "    }\n",
       "\n",
       "    .dataframe tbody tr th {\n",
       "        vertical-align: top;\n",
       "    }\n",
       "\n",
       "    .dataframe thead th {\n",
       "        text-align: right;\n",
       "    }\n",
       "</style>\n",
       "<table border=\"1\" class=\"dataframe\">\n",
       "  <thead>\n",
       "    <tr style=\"text-align: right;\">\n",
       "      <th></th>\n",
       "      <th>country</th>\n",
       "      <th>continent</th>\n",
       "      <th>lifeExp</th>\n",
       "    </tr>\n",
       "    <tr>\n",
       "      <th>year</th>\n",
       "      <th></th>\n",
       "      <th></th>\n",
       "      <th></th>\n",
       "    </tr>\n",
       "  </thead>\n",
       "  <tbody>\n",
       "    <tr>\n",
       "      <th>1952</th>\n",
       "      <td>China</td>\n",
       "      <td>Asia</td>\n",
       "      <td>44.00000</td>\n",
       "    </tr>\n",
       "    <tr>\n",
       "      <th>1957</th>\n",
       "      <td>China</td>\n",
       "      <td>Asia</td>\n",
       "      <td>50.54896</td>\n",
       "    </tr>\n",
       "    <tr>\n",
       "      <th>1962</th>\n",
       "      <td>China</td>\n",
       "      <td>Asia</td>\n",
       "      <td>44.50136</td>\n",
       "    </tr>\n",
       "  </tbody>\n",
       "</table>\n",
       "</div>"
      ],
      "text/plain": [
       "     country continent   lifeExp\n",
       "year                            \n",
       "1952   China      Asia  44.00000\n",
       "1957   China      Asia  50.54896\n",
       "1962   China      Asia  44.50136"
      ]
     },
     "execution_count": 21,
     "metadata": {},
     "output_type": "execute_result"
    }
   ],
   "source": [
    "# 示例1：获取 china_df 中前三行的前三列的数据，分别使用上面介绍的loc和iloc实现\n",
    "china_df.loc[1952:1962, 'country':'lifeExp']\n",
    "# 或\n",
    "china_df.iloc[0:3, 0:3]"
   ]
  },
  {
   "cell_type": "markdown",
   "id": "3221d6f7-a82e-4072-8c47-424306cd5226",
   "metadata": {
    "tags": []
   },
   "source": [
    "### 4.4 [] 语法获取指定行列的数据\n",
    "#### 基本格式：\n",
    "\n",
    "|语法|说明|\n",
    "|----|----|\n",
    "|df[['列标签1', '列标签2', ...]]|根据列标签获取所有行的对应列的数据，结果为：DataFrame|\n",
    "|df['列标签']|根据列标签获取所有行的对应列的数据:1）如果结果只有一列，结果为：Series，行标签作为 Series 的索引标 2）如果结果有多列，结果为：DataFrame|\n",
    "|df[['列标签']]|根据列标签获取所有行的对应列的数据，结果为：DataFrame|\n",
    "|df[起始行位置:结束行位置]|根据指定范围获取对应行的所有列的数据，不包括结束行位置|\n",
    "\n",
    "#### 演示示例：\n",
    "\n",
    "1. 示例1：获取所有行的 country、pop、gdpPercap 列的数据\n",
    "2. 示例2：获取所有行的 pop 列的数据\n",
    "3. 示例3：获取前三行的数据\n",
    "4. 示例4：从第一行开始，每隔一行获取一行数据，一共获取3行\n",
    "\n",
    "#### 示例实现："
   ]
  },
  {
   "cell_type": "code",
   "execution_count": 22,
   "id": "a21afb08-2257-4879-ba64-f74a9c600ade",
   "metadata": {},
   "outputs": [
    {
     "data": {
      "text/html": [
       "<div>\n",
       "<style scoped>\n",
       "    .dataframe tbody tr th:only-of-type {\n",
       "        vertical-align: middle;\n",
       "    }\n",
       "\n",
       "    .dataframe tbody tr th {\n",
       "        vertical-align: top;\n",
       "    }\n",
       "\n",
       "    .dataframe thead th {\n",
       "        text-align: right;\n",
       "    }\n",
       "</style>\n",
       "<table border=\"1\" class=\"dataframe\">\n",
       "  <thead>\n",
       "    <tr style=\"text-align: right;\">\n",
       "      <th></th>\n",
       "      <th>country</th>\n",
       "      <th>pop</th>\n",
       "      <th>gdpPercap</th>\n",
       "    </tr>\n",
       "    <tr>\n",
       "      <th>year</th>\n",
       "      <th></th>\n",
       "      <th></th>\n",
       "      <th></th>\n",
       "    </tr>\n",
       "  </thead>\n",
       "  <tbody>\n",
       "    <tr>\n",
       "      <th>1952</th>\n",
       "      <td>China</td>\n",
       "      <td>556263527</td>\n",
       "      <td>400.448611</td>\n",
       "    </tr>\n",
       "    <tr>\n",
       "      <th>1957</th>\n",
       "      <td>China</td>\n",
       "      <td>637408000</td>\n",
       "      <td>575.987001</td>\n",
       "    </tr>\n",
       "    <tr>\n",
       "      <th>1962</th>\n",
       "      <td>China</td>\n",
       "      <td>665770000</td>\n",
       "      <td>487.674018</td>\n",
       "    </tr>\n",
       "    <tr>\n",
       "      <th>1967</th>\n",
       "      <td>China</td>\n",
       "      <td>754550000</td>\n",
       "      <td>612.705693</td>\n",
       "    </tr>\n",
       "    <tr>\n",
       "      <th>1972</th>\n",
       "      <td>China</td>\n",
       "      <td>862030000</td>\n",
       "      <td>676.900092</td>\n",
       "    </tr>\n",
       "    <tr>\n",
       "      <th>1977</th>\n",
       "      <td>China</td>\n",
       "      <td>943455000</td>\n",
       "      <td>741.237470</td>\n",
       "    </tr>\n",
       "    <tr>\n",
       "      <th>1982</th>\n",
       "      <td>China</td>\n",
       "      <td>1000281000</td>\n",
       "      <td>962.421380</td>\n",
       "    </tr>\n",
       "    <tr>\n",
       "      <th>1987</th>\n",
       "      <td>China</td>\n",
       "      <td>1084035000</td>\n",
       "      <td>1378.904018</td>\n",
       "    </tr>\n",
       "    <tr>\n",
       "      <th>1992</th>\n",
       "      <td>China</td>\n",
       "      <td>1164970000</td>\n",
       "      <td>1655.784158</td>\n",
       "    </tr>\n",
       "    <tr>\n",
       "      <th>1997</th>\n",
       "      <td>China</td>\n",
       "      <td>1230075000</td>\n",
       "      <td>2289.234136</td>\n",
       "    </tr>\n",
       "    <tr>\n",
       "      <th>2002</th>\n",
       "      <td>China</td>\n",
       "      <td>1280400000</td>\n",
       "      <td>3119.280896</td>\n",
       "    </tr>\n",
       "    <tr>\n",
       "      <th>2007</th>\n",
       "      <td>China</td>\n",
       "      <td>1318683096</td>\n",
       "      <td>4959.114854</td>\n",
       "    </tr>\n",
       "  </tbody>\n",
       "</table>\n",
       "</div>"
      ],
      "text/plain": [
       "     country         pop    gdpPercap\n",
       "year                                 \n",
       "1952   China   556263527   400.448611\n",
       "1957   China   637408000   575.987001\n",
       "1962   China   665770000   487.674018\n",
       "1967   China   754550000   612.705693\n",
       "1972   China   862030000   676.900092\n",
       "1977   China   943455000   741.237470\n",
       "1982   China  1000281000   962.421380\n",
       "1987   China  1084035000  1378.904018\n",
       "1992   China  1164970000  1655.784158\n",
       "1997   China  1230075000  2289.234136\n",
       "2002   China  1280400000  3119.280896\n",
       "2007   China  1318683096  4959.114854"
      ]
     },
     "execution_count": 22,
     "metadata": {},
     "output_type": "execute_result"
    }
   ],
   "source": [
    "# 示例1：获取所有行的 country、pop、gdpPercap 列的数据\n",
    "china_df[['country', 'pop', 'gdpPercap']]"
   ]
  },
  {
   "cell_type": "code",
   "execution_count": 25,
   "id": "b5f97851-0a46-4e82-bca2-ee9d9b0c6daa",
   "metadata": {},
   "outputs": [
    {
     "data": {
      "text/plain": [
       "pandas.core.series.Series"
      ]
     },
     "execution_count": 25,
     "metadata": {},
     "output_type": "execute_result"
    }
   ],
   "source": [
    "# 示例2：获取所有行的 pop 列的数据\n",
    "china_df['pop']\n",
    "type(china_df['pop'])"
   ]
  },
  {
   "cell_type": "code",
   "execution_count": 27,
   "id": "ecd3287a-8857-489e-9d00-7955cf175fc6",
   "metadata": {},
   "outputs": [
    {
     "data": {
      "text/plain": [
       "pandas.core.frame.DataFrame"
      ]
     },
     "execution_count": 27,
     "metadata": {},
     "output_type": "execute_result"
    }
   ],
   "source": [
    "# 示例2：获取所有行的 pop 列的数据\n",
    "china_df[['pop']]\n",
    "type(china_df[['pop']])          "
   ]
  },
  {
   "cell_type": "code",
   "execution_count": 28,
   "id": "f7d8cda0-e369-48c3-bca1-d343f1fc87de",
   "metadata": {},
   "outputs": [
    {
     "data": {
      "text/html": [
       "<div>\n",
       "<style scoped>\n",
       "    .dataframe tbody tr th:only-of-type {\n",
       "        vertical-align: middle;\n",
       "    }\n",
       "\n",
       "    .dataframe tbody tr th {\n",
       "        vertical-align: top;\n",
       "    }\n",
       "\n",
       "    .dataframe thead th {\n",
       "        text-align: right;\n",
       "    }\n",
       "</style>\n",
       "<table border=\"1\" class=\"dataframe\">\n",
       "  <thead>\n",
       "    <tr style=\"text-align: right;\">\n",
       "      <th></th>\n",
       "      <th>country</th>\n",
       "      <th>continent</th>\n",
       "      <th>lifeExp</th>\n",
       "      <th>pop</th>\n",
       "      <th>gdpPercap</th>\n",
       "    </tr>\n",
       "    <tr>\n",
       "      <th>year</th>\n",
       "      <th></th>\n",
       "      <th></th>\n",
       "      <th></th>\n",
       "      <th></th>\n",
       "      <th></th>\n",
       "    </tr>\n",
       "  </thead>\n",
       "  <tbody>\n",
       "    <tr>\n",
       "      <th>1952</th>\n",
       "      <td>China</td>\n",
       "      <td>Asia</td>\n",
       "      <td>44.00000</td>\n",
       "      <td>556263527</td>\n",
       "      <td>400.448611</td>\n",
       "    </tr>\n",
       "    <tr>\n",
       "      <th>1957</th>\n",
       "      <td>China</td>\n",
       "      <td>Asia</td>\n",
       "      <td>50.54896</td>\n",
       "      <td>637408000</td>\n",
       "      <td>575.987001</td>\n",
       "    </tr>\n",
       "    <tr>\n",
       "      <th>1962</th>\n",
       "      <td>China</td>\n",
       "      <td>Asia</td>\n",
       "      <td>44.50136</td>\n",
       "      <td>665770000</td>\n",
       "      <td>487.674018</td>\n",
       "    </tr>\n",
       "  </tbody>\n",
       "</table>\n",
       "</div>"
      ],
      "text/plain": [
       "     country continent   lifeExp        pop   gdpPercap\n",
       "year                                                   \n",
       "1952   China      Asia  44.00000  556263527  400.448611\n",
       "1957   China      Asia  50.54896  637408000  575.987001\n",
       "1962   China      Asia  44.50136  665770000  487.674018"
      ]
     },
     "execution_count": 28,
     "metadata": {},
     "output_type": "execute_result"
    }
   ],
   "source": [
    "# 示例3：获取前三行的数据\n",
    "china_df[0:3]"
   ]
  },
  {
   "cell_type": "code",
   "execution_count": 30,
   "id": "cc376659-b981-472d-b260-b90dae66a5d9",
   "metadata": {},
   "outputs": [
    {
     "data": {
      "text/html": [
       "<div>\n",
       "<style scoped>\n",
       "    .dataframe tbody tr th:only-of-type {\n",
       "        vertical-align: middle;\n",
       "    }\n",
       "\n",
       "    .dataframe tbody tr th {\n",
       "        vertical-align: top;\n",
       "    }\n",
       "\n",
       "    .dataframe thead th {\n",
       "        text-align: right;\n",
       "    }\n",
       "</style>\n",
       "<table border=\"1\" class=\"dataframe\">\n",
       "  <thead>\n",
       "    <tr style=\"text-align: right;\">\n",
       "      <th></th>\n",
       "      <th>country</th>\n",
       "      <th>continent</th>\n",
       "      <th>lifeExp</th>\n",
       "      <th>pop</th>\n",
       "      <th>gdpPercap</th>\n",
       "    </tr>\n",
       "    <tr>\n",
       "      <th>year</th>\n",
       "      <th></th>\n",
       "      <th></th>\n",
       "      <th></th>\n",
       "      <th></th>\n",
       "      <th></th>\n",
       "    </tr>\n",
       "  </thead>\n",
       "  <tbody>\n",
       "    <tr>\n",
       "      <th>1952</th>\n",
       "      <td>China</td>\n",
       "      <td>Asia</td>\n",
       "      <td>44.00000</td>\n",
       "      <td>556263527</td>\n",
       "      <td>400.448611</td>\n",
       "    </tr>\n",
       "    <tr>\n",
       "      <th>1962</th>\n",
       "      <td>China</td>\n",
       "      <td>Asia</td>\n",
       "      <td>44.50136</td>\n",
       "      <td>665770000</td>\n",
       "      <td>487.674018</td>\n",
       "    </tr>\n",
       "    <tr>\n",
       "      <th>1972</th>\n",
       "      <td>China</td>\n",
       "      <td>Asia</td>\n",
       "      <td>63.11888</td>\n",
       "      <td>862030000</td>\n",
       "      <td>676.900092</td>\n",
       "    </tr>\n",
       "  </tbody>\n",
       "</table>\n",
       "</div>"
      ],
      "text/plain": [
       "     country continent   lifeExp        pop   gdpPercap\n",
       "year                                                   \n",
       "1952   China      Asia  44.00000  556263527  400.448611\n",
       "1962   China      Asia  44.50136  665770000  487.674018\n",
       "1972   China      Asia  63.11888  862030000  676.900092"
      ]
     },
     "execution_count": 30,
     "metadata": {},
     "output_type": "execute_result"
    }
   ],
   "source": [
    "# 示例4：从第一行开始，每隔一行获取一行数据，一共获取3行\n",
    "china_df[0:6:2]"
   ]
  },
  {
   "cell_type": "markdown",
   "id": "73c2ac1a-3cb1-43d1-8ea9-c27817f098cd",
   "metadata": {},
   "source": [
    "# 总结\n",
    "+ 能够知道 DataFrame 和 Series 数据结构\n",
    "+ 能够加载 csv 和 tsv 数据集\n",
    "+ 能够区分 DataFrame 的行列标签和行列位置编号\n",
    "+ 能够获取 DataFrame 指定行列的数据\n",
    "    + loc\n",
    "    + iloc\n",
    "    + loc和iloc的切片操作\n",
    "    + []"
   ]
  },
  {
   "cell_type": "code",
   "execution_count": null,
   "id": "17e5e2d2-e8d7-48b3-a9c2-9738b70f4523",
   "metadata": {},
   "outputs": [],
   "source": []
  }
 ],
 "metadata": {
  "kernelspec": {
   "display_name": "Python 3",
   "language": "python",
   "name": "python3"
  },
  "language_info": {
   "codemirror_mode": {
    "name": "ipython",
    "version": 3
   },
   "file_extension": ".py",
   "mimetype": "text/x-python",
   "name": "python",
   "nbconvert_exporter": "python",
   "pygments_lexer": "ipython3",
   "version": "3.6.4"
  }
 },
 "nbformat": 4,
 "nbformat_minor": 5
}
