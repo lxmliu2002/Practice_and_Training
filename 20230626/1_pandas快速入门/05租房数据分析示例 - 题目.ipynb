{
 "cells": [
  {
   "cell_type": "markdown",
   "id": "b159720a-d75d-4595-bd55-05774a50b47e",
   "metadata": {},
   "source": [
    "# 租房数据分析示例\n",
    "## 学习目标\n",
    "+ 能够完成租房数据分析的案例\n",
    "## 1. 链家租房数据分析示例\n",
    "### 1.1 数据加载和查看\n",
    "\n",
    "1. 加载 LJdata.csv 数据集"
   ]
  },
  {
   "cell_type": "code",
   "execution_count": 1,
   "id": "c38eeda9-7796-4028-bd25-f4b9115b6a89",
   "metadata": {},
   "outputs": [
    {
     "data": {
      "text/html": [
       "<div>\n",
       "<style scoped>\n",
       "    .dataframe tbody tr th:only-of-type {\n",
       "        vertical-align: middle;\n",
       "    }\n",
       "\n",
       "    .dataframe tbody tr th {\n",
       "        vertical-align: top;\n",
       "    }\n",
       "\n",
       "    .dataframe thead th {\n",
       "        text-align: right;\n",
       "    }\n",
       "</style>\n",
       "<table border=\"1\" class=\"dataframe\">\n",
       "  <thead>\n",
       "    <tr style=\"text-align: right;\">\n",
       "      <th></th>\n",
       "      <th>区域</th>\n",
       "      <th>地址</th>\n",
       "      <th>标题</th>\n",
       "      <th>户型</th>\n",
       "      <th>面积</th>\n",
       "      <th>价格</th>\n",
       "      <th>楼层</th>\n",
       "      <th>建造时间</th>\n",
       "      <th>朝向</th>\n",
       "      <th>更新时间</th>\n",
       "      <th>看房人数</th>\n",
       "      <th>备注</th>\n",
       "      <th>链接地址</th>\n",
       "    </tr>\n",
       "  </thead>\n",
       "  <tbody>\n",
       "    <tr>\n",
       "      <th>0</th>\n",
       "      <td>燕莎租房</td>\n",
       "      <td>新源街</td>\n",
       "      <td>亮马桥 新源街  精装两居 交通便利 看房方便 随时入住</td>\n",
       "      <td>2室1厅</td>\n",
       "      <td>50</td>\n",
       "      <td>5800</td>\n",
       "      <td>中楼层(共6层)</td>\n",
       "      <td>1981年建板楼</td>\n",
       "      <td>南</td>\n",
       "      <td>2017.07.21</td>\n",
       "      <td>26</td>\n",
       "      <td>随时看房 精装修 集中供暖</td>\n",
       "      <td>https://bj.lianjia.com/zufang/101101803342.html</td>\n",
       "    </tr>\n",
       "    <tr>\n",
       "      <th>1</th>\n",
       "      <td>望京租房</td>\n",
       "      <td>澳洲康都</td>\n",
       "      <td>澳洲康都东向精致两居室...........</td>\n",
       "      <td>2室1厅</td>\n",
       "      <td>79</td>\n",
       "      <td>7800</td>\n",
       "      <td>中楼层(共28层)</td>\n",
       "      <td>2005年建板塔结合</td>\n",
       "      <td>东</td>\n",
       "      <td>2017.07.23</td>\n",
       "      <td>33</td>\n",
       "      <td>距离14号线(东段)东湖渠站731米 随时看房 精装修 集中供暖</td>\n",
       "      <td>https://bj.lianjia.com/zufang/101101753126.html</td>\n",
       "    </tr>\n",
       "    <tr>\n",
       "      <th>2</th>\n",
       "      <td>广安门租房</td>\n",
       "      <td>远见名苑</td>\n",
       "      <td>远见名苑 东向两居室 独立小区环境 适合居家</td>\n",
       "      <td>2室1厅</td>\n",
       "      <td>86</td>\n",
       "      <td>8000</td>\n",
       "      <td>低楼层(共25层)</td>\n",
       "      <td>2006年建塔楼</td>\n",
       "      <td>东</td>\n",
       "      <td>2017.07.20</td>\n",
       "      <td>34</td>\n",
       "      <td>距离7号线达官营站684米 随时看房 精装修 自供暖</td>\n",
       "      <td>https://bj.lianjia.com/zufang/101101756753.html</td>\n",
       "    </tr>\n",
       "    <tr>\n",
       "      <th>3</th>\n",
       "      <td>天通苑租房</td>\n",
       "      <td>天通苑北一区</td>\n",
       "      <td>北一区简装两居，采光好，视野美，出行方便</td>\n",
       "      <td>2室1厅</td>\n",
       "      <td>103</td>\n",
       "      <td>5300</td>\n",
       "      <td>低楼层(共13层)</td>\n",
       "      <td>2004年建板楼</td>\n",
       "      <td>东南</td>\n",
       "      <td>2017.07.25</td>\n",
       "      <td>30</td>\n",
       "      <td>距离5号线天通苑站927米 随时看房 精装修 集中供暖</td>\n",
       "      <td>https://bj.lianjia.com/zufang/101101780034.html</td>\n",
       "    </tr>\n",
       "    <tr>\n",
       "      <th>4</th>\n",
       "      <td>团结湖租房</td>\n",
       "      <td>团结湖北口</td>\n",
       "      <td>团结湖北口近地铁高楼层朝南向精装修正规两居室</td>\n",
       "      <td>2室1厅</td>\n",
       "      <td>63</td>\n",
       "      <td>6400</td>\n",
       "      <td>高楼层(共16层)</td>\n",
       "      <td>1982年建塔楼</td>\n",
       "      <td>南</td>\n",
       "      <td>2017.07.26</td>\n",
       "      <td>30</td>\n",
       "      <td>距离10号线团结湖站88米 随时看房 精装修 集中供暖</td>\n",
       "      <td>https://bj.lianjia.com/zufang/101101781083.html</td>\n",
       "    </tr>\n",
       "  </tbody>\n",
       "</table>\n",
       "</div>"
      ],
      "text/plain": [
       "      区域      地址                            标题    户型   面积    价格         楼层  \\\n",
       "0   燕莎租房     新源街  亮马桥 新源街  精装两居 交通便利 看房方便 随时入住  2室1厅   50  5800   中楼层(共6层)   \n",
       "1   望京租房    澳洲康都        澳洲康都东向精致两居室...........  2室1厅   79  7800  中楼层(共28层)   \n",
       "2  广安门租房    远见名苑        远见名苑 东向两居室 独立小区环境 适合居家  2室1厅   86  8000  低楼层(共25层)   \n",
       "3  天通苑租房  天通苑北一区          北一区简装两居，采光好，视野美，出行方便  2室1厅  103  5300  低楼层(共13层)   \n",
       "4  团结湖租房   团结湖北口        团结湖北口近地铁高楼层朝南向精装修正规两居室  2室1厅   63  6400  高楼层(共16层)   \n",
       "\n",
       "         建造时间  朝向        更新时间  看房人数                                 备注  \\\n",
       "0    1981年建板楼   南  2017.07.21    26                      随时看房 精装修 集中供暖   \n",
       "1  2005年建板塔结合   东  2017.07.23    33   距离14号线(东段)东湖渠站731米 随时看房 精装修 集中供暖   \n",
       "2    2006年建塔楼   东  2017.07.20    34         距离7号线达官营站684米 随时看房 精装修 自供暖   \n",
       "3    2004年建板楼  东南  2017.07.25    30        距离5号线天通苑站927米 随时看房 精装修 集中供暖   \n",
       "4    1982年建塔楼   南  2017.07.26    30        距离10号线团结湖站88米 随时看房 精装修 集中供暖   \n",
       "\n",
       "                                              链接地址  \n",
       "0  https://bj.lianjia.com/zufang/101101803342.html  \n",
       "1  https://bj.lianjia.com/zufang/101101753126.html  \n",
       "2  https://bj.lianjia.com/zufang/101101756753.html  \n",
       "3  https://bj.lianjia.com/zufang/101101780034.html  \n",
       "4  https://bj.lianjia.com/zufang/101101781083.html  "
      ]
     },
     "execution_count": 1,
     "metadata": {},
     "output_type": "execute_result"
    }
   ],
   "source": [
    "import pandas as pd\n",
    "\n",
    "house_data = pd.read_csv('./data/LJdata.csv')\n",
    "house_data.head()"
   ]
  },
  {
   "cell_type": "markdown",
   "id": "d0816235-a807-4180-8dfe-93ae6ae81813",
   "metadata": {},
   "source": [
    "2. 查看 house_data 数据的列标签"
   ]
  },
  {
   "cell_type": "code",
   "execution_count": 2,
   "id": "f714c4b9-abca-49c1-b40b-2b365f71e8b8",
   "metadata": {},
   "outputs": [
    {
     "data": {
      "text/plain": [
       "Index(['区域', '地址', '标题', '户型', '面积', '价格', '楼层', '建造时间', '朝向', '更新时间', '看房人数',\n",
       "       '备注', '链接地址'],\n",
       "      dtype='object')"
      ]
     },
     "execution_count": 2,
     "metadata": {},
     "output_type": "execute_result"
    }
   ],
   "source": [
    "# 查看 house_data 数据的列标签\n",
    "house_data.columns"
   ]
  },
  {
   "cell_type": "markdown",
   "id": "d0c0781c-9039-4e6b-8e14-fd4f11b69474",
   "metadata": {},
   "source": [
    "3. 重新设置 house_data 数据的列标签"
   ]
  },
  {
   "cell_type": "code",
   "execution_count": 3,
   "id": "a8853107-fd8d-47fc-b306-3f66dc7d53a5",
   "metadata": {},
   "outputs": [
    {
     "data": {
      "text/html": [
       "<div>\n",
       "<style scoped>\n",
       "    .dataframe tbody tr th:only-of-type {\n",
       "        vertical-align: middle;\n",
       "    }\n",
       "\n",
       "    .dataframe tbody tr th {\n",
       "        vertical-align: top;\n",
       "    }\n",
       "\n",
       "    .dataframe thead th {\n",
       "        text-align: right;\n",
       "    }\n",
       "</style>\n",
       "<table border=\"1\" class=\"dataframe\">\n",
       "  <thead>\n",
       "    <tr style=\"text-align: right;\">\n",
       "      <th></th>\n",
       "      <th>district</th>\n",
       "      <th>address</th>\n",
       "      <th>title</th>\n",
       "      <th>house_type</th>\n",
       "      <th>area</th>\n",
       "      <th>price</th>\n",
       "      <th>floor</th>\n",
       "      <th>build_time</th>\n",
       "      <th>direction</th>\n",
       "      <th>update_time</th>\n",
       "      <th>view_num</th>\n",
       "      <th>extra_info</th>\n",
       "      <th>link</th>\n",
       "    </tr>\n",
       "  </thead>\n",
       "  <tbody>\n",
       "    <tr>\n",
       "      <th>0</th>\n",
       "      <td>燕莎租房</td>\n",
       "      <td>新源街</td>\n",
       "      <td>亮马桥 新源街  精装两居 交通便利 看房方便 随时入住</td>\n",
       "      <td>2室1厅</td>\n",
       "      <td>50</td>\n",
       "      <td>5800</td>\n",
       "      <td>中楼层(共6层)</td>\n",
       "      <td>1981年建板楼</td>\n",
       "      <td>南</td>\n",
       "      <td>2017.07.21</td>\n",
       "      <td>26</td>\n",
       "      <td>随时看房 精装修 集中供暖</td>\n",
       "      <td>https://bj.lianjia.com/zufang/101101803342.html</td>\n",
       "    </tr>\n",
       "    <tr>\n",
       "      <th>1</th>\n",
       "      <td>望京租房</td>\n",
       "      <td>澳洲康都</td>\n",
       "      <td>澳洲康都东向精致两居室...........</td>\n",
       "      <td>2室1厅</td>\n",
       "      <td>79</td>\n",
       "      <td>7800</td>\n",
       "      <td>中楼层(共28层)</td>\n",
       "      <td>2005年建板塔结合</td>\n",
       "      <td>东</td>\n",
       "      <td>2017.07.23</td>\n",
       "      <td>33</td>\n",
       "      <td>距离14号线(东段)东湖渠站731米 随时看房 精装修 集中供暖</td>\n",
       "      <td>https://bj.lianjia.com/zufang/101101753126.html</td>\n",
       "    </tr>\n",
       "    <tr>\n",
       "      <th>2</th>\n",
       "      <td>广安门租房</td>\n",
       "      <td>远见名苑</td>\n",
       "      <td>远见名苑 东向两居室 独立小区环境 适合居家</td>\n",
       "      <td>2室1厅</td>\n",
       "      <td>86</td>\n",
       "      <td>8000</td>\n",
       "      <td>低楼层(共25层)</td>\n",
       "      <td>2006年建塔楼</td>\n",
       "      <td>东</td>\n",
       "      <td>2017.07.20</td>\n",
       "      <td>34</td>\n",
       "      <td>距离7号线达官营站684米 随时看房 精装修 自供暖</td>\n",
       "      <td>https://bj.lianjia.com/zufang/101101756753.html</td>\n",
       "    </tr>\n",
       "    <tr>\n",
       "      <th>3</th>\n",
       "      <td>天通苑租房</td>\n",
       "      <td>天通苑北一区</td>\n",
       "      <td>北一区简装两居，采光好，视野美，出行方便</td>\n",
       "      <td>2室1厅</td>\n",
       "      <td>103</td>\n",
       "      <td>5300</td>\n",
       "      <td>低楼层(共13层)</td>\n",
       "      <td>2004年建板楼</td>\n",
       "      <td>东南</td>\n",
       "      <td>2017.07.25</td>\n",
       "      <td>30</td>\n",
       "      <td>距离5号线天通苑站927米 随时看房 精装修 集中供暖</td>\n",
       "      <td>https://bj.lianjia.com/zufang/101101780034.html</td>\n",
       "    </tr>\n",
       "    <tr>\n",
       "      <th>4</th>\n",
       "      <td>团结湖租房</td>\n",
       "      <td>团结湖北口</td>\n",
       "      <td>团结湖北口近地铁高楼层朝南向精装修正规两居室</td>\n",
       "      <td>2室1厅</td>\n",
       "      <td>63</td>\n",
       "      <td>6400</td>\n",
       "      <td>高楼层(共16层)</td>\n",
       "      <td>1982年建塔楼</td>\n",
       "      <td>南</td>\n",
       "      <td>2017.07.26</td>\n",
       "      <td>30</td>\n",
       "      <td>距离10号线团结湖站88米 随时看房 精装修 集中供暖</td>\n",
       "      <td>https://bj.lianjia.com/zufang/101101781083.html</td>\n",
       "    </tr>\n",
       "  </tbody>\n",
       "</table>\n",
       "</div>"
      ],
      "text/plain": [
       "  district address                         title house_type  area  price  \\\n",
       "0     燕莎租房     新源街  亮马桥 新源街  精装两居 交通便利 看房方便 随时入住       2室1厅    50   5800   \n",
       "1     望京租房    澳洲康都        澳洲康都东向精致两居室...........       2室1厅    79   7800   \n",
       "2    广安门租房    远见名苑        远见名苑 东向两居室 独立小区环境 适合居家       2室1厅    86   8000   \n",
       "3    天通苑租房  天通苑北一区          北一区简装两居，采光好，视野美，出行方便       2室1厅   103   5300   \n",
       "4    团结湖租房   团结湖北口        团结湖北口近地铁高楼层朝南向精装修正规两居室       2室1厅    63   6400   \n",
       "\n",
       "       floor  build_time direction update_time  view_num  \\\n",
       "0   中楼层(共6层)    1981年建板楼         南  2017.07.21        26   \n",
       "1  中楼层(共28层)  2005年建板塔结合         东  2017.07.23        33   \n",
       "2  低楼层(共25层)    2006年建塔楼         东  2017.07.20        34   \n",
       "3  低楼层(共13层)    2004年建板楼        东南  2017.07.25        30   \n",
       "4  高楼层(共16层)    1982年建塔楼         南  2017.07.26        30   \n",
       "\n",
       "                          extra_info  \\\n",
       "0                      随时看房 精装修 集中供暖   \n",
       "1   距离14号线(东段)东湖渠站731米 随时看房 精装修 集中供暖   \n",
       "2         距离7号线达官营站684米 随时看房 精装修 自供暖   \n",
       "3        距离5号线天通苑站927米 随时看房 精装修 集中供暖   \n",
       "4        距离10号线团结湖站88米 随时看房 精装修 集中供暖   \n",
       "\n",
       "                                              link  \n",
       "0  https://bj.lianjia.com/zufang/101101803342.html  \n",
       "1  https://bj.lianjia.com/zufang/101101753126.html  \n",
       "2  https://bj.lianjia.com/zufang/101101756753.html  \n",
       "3  https://bj.lianjia.com/zufang/101101780034.html  \n",
       "4  https://bj.lianjia.com/zufang/101101781083.html  "
      ]
     },
     "execution_count": 3,
     "metadata": {},
     "output_type": "execute_result"
    }
   ],
   "source": [
    "house_data.columns = ['district', 'address', 'title', 'house_type', 'area', \n",
    "                      'price', 'floor', 'build_time', 'direction', 'update_time', \n",
    "                      'view_num', 'extra_info', 'link']\n",
    "house_data.head()"
   ]
  },
  {
   "cell_type": "markdown",
   "id": "8d2e4c7b-0db5-4455-b3c7-4decf0ea39d5",
   "metadata": {},
   "source": [
    "4. 查看 house_data 数据的行列数量"
   ]
  },
  {
   "cell_type": "code",
   "execution_count": 4,
   "id": "f07ea131-689d-42fd-8d31-fe25dadb4de3",
   "metadata": {},
   "outputs": [
    {
     "data": {
      "text/plain": [
       "(2760, 13)"
      ]
     },
     "execution_count": 4,
     "metadata": {},
     "output_type": "execute_result"
    }
   ],
   "source": [
    "house_data.shape"
   ]
  },
  {
   "cell_type": "markdown",
   "id": "ab7cfc46-aefd-4839-8171-000f23d3f24e",
   "metadata": {},
   "source": [
    "5. 查看数据集基本信息：每个字段值的数量、是否非空值，以及该字段的数据类型"
   ]
  },
  {
   "cell_type": "code",
   "execution_count": 5,
   "id": "79bfaa5f-51a1-4eb1-9131-6a79afae235a",
   "metadata": {},
   "outputs": [
    {
     "name": "stdout",
     "output_type": "stream",
     "text": [
      "<class 'pandas.core.frame.DataFrame'>\n",
      "RangeIndex: 2760 entries, 0 to 2759\n",
      "Data columns (total 13 columns):\n",
      " #   Column       Non-Null Count  Dtype \n",
      "---  ------       --------------  ----- \n",
      " 0   district     2760 non-null   object\n",
      " 1   address      2760 non-null   object\n",
      " 2   title        2760 non-null   object\n",
      " 3   house_type   2760 non-null   object\n",
      " 4   area         2760 non-null   int64 \n",
      " 5   price        2760 non-null   int64 \n",
      " 6   floor        2760 non-null   object\n",
      " 7   build_time   2758 non-null   object\n",
      " 8   direction    2760 non-null   object\n",
      " 9   update_time  2760 non-null   object\n",
      " 10  view_num     2760 non-null   int64 \n",
      " 11  extra_info   2760 non-null   object\n",
      " 12  link         2760 non-null   object\n",
      "dtypes: int64(3), object(10)\n",
      "memory usage: 280.4+ KB\n"
     ]
    }
   ],
   "source": [
    "house_data.info()"
   ]
  },
  {
   "cell_type": "markdown",
   "id": "ec83329a-4c0e-46d0-bcfe-8c434bd2cd30",
   "metadata": {},
   "source": [
    "6. 查看数据集中，所有数值型字段的基本统计信息"
   ]
  },
  {
   "cell_type": "code",
   "execution_count": 6,
   "id": "83e49477-a52b-41fc-bcb9-a5494d750f0e",
   "metadata": {},
   "outputs": [
    {
     "data": {
      "text/html": [
       "<div>\n",
       "<style scoped>\n",
       "    .dataframe tbody tr th:only-of-type {\n",
       "        vertical-align: middle;\n",
       "    }\n",
       "\n",
       "    .dataframe tbody tr th {\n",
       "        vertical-align: top;\n",
       "    }\n",
       "\n",
       "    .dataframe thead th {\n",
       "        text-align: right;\n",
       "    }\n",
       "</style>\n",
       "<table border=\"1\" class=\"dataframe\">\n",
       "  <thead>\n",
       "    <tr style=\"text-align: right;\">\n",
       "      <th></th>\n",
       "      <th>area</th>\n",
       "      <th>price</th>\n",
       "      <th>view_num</th>\n",
       "    </tr>\n",
       "  </thead>\n",
       "  <tbody>\n",
       "    <tr>\n",
       "      <th>count</th>\n",
       "      <td>2760.000000</td>\n",
       "      <td>2760.000000</td>\n",
       "      <td>2760.000000</td>\n",
       "    </tr>\n",
       "    <tr>\n",
       "      <th>mean</th>\n",
       "      <td>87.658696</td>\n",
       "      <td>7570.800725</td>\n",
       "      <td>13.448913</td>\n",
       "    </tr>\n",
       "    <tr>\n",
       "      <th>std</th>\n",
       "      <td>41.862928</td>\n",
       "      <td>6316.204986</td>\n",
       "      <td>12.746202</td>\n",
       "    </tr>\n",
       "    <tr>\n",
       "      <th>min</th>\n",
       "      <td>19.000000</td>\n",
       "      <td>1300.000000</td>\n",
       "      <td>0.000000</td>\n",
       "    </tr>\n",
       "    <tr>\n",
       "      <th>25%</th>\n",
       "      <td>58.000000</td>\n",
       "      <td>4500.000000</td>\n",
       "      <td>4.000000</td>\n",
       "    </tr>\n",
       "    <tr>\n",
       "      <th>50%</th>\n",
       "      <td>80.000000</td>\n",
       "      <td>6000.000000</td>\n",
       "      <td>10.000000</td>\n",
       "    </tr>\n",
       "    <tr>\n",
       "      <th>75%</th>\n",
       "      <td>103.000000</td>\n",
       "      <td>8500.000000</td>\n",
       "      <td>19.000000</td>\n",
       "    </tr>\n",
       "    <tr>\n",
       "      <th>max</th>\n",
       "      <td>720.000000</td>\n",
       "      <td>210000.000000</td>\n",
       "      <td>122.000000</td>\n",
       "    </tr>\n",
       "  </tbody>\n",
       "</table>\n",
       "</div>"
      ],
      "text/plain": [
       "              area          price     view_num\n",
       "count  2760.000000    2760.000000  2760.000000\n",
       "mean     87.658696    7570.800725    13.448913\n",
       "std      41.862928    6316.204986    12.746202\n",
       "min      19.000000    1300.000000     0.000000\n",
       "25%      58.000000    4500.000000     4.000000\n",
       "50%      80.000000    6000.000000    10.000000\n",
       "75%     103.000000    8500.000000    19.000000\n",
       "max     720.000000  210000.000000   122.000000"
      ]
     },
     "execution_count": 6,
     "metadata": {},
     "output_type": "execute_result"
    }
   ],
   "source": [
    "house_data.describe()"
   ]
  },
  {
   "cell_type": "markdown",
   "id": "dce09320-9d1d-4742-a24e-e9787480b0a6",
   "metadata": {},
   "source": [
    "7. 查看数据集中，所有非数值型字段的基本统计信息"
   ]
  },
  {
   "cell_type": "code",
   "execution_count": 7,
   "id": "1b8ace5a-96f6-41a2-91f4-76e08e0b5250",
   "metadata": {},
   "outputs": [
    {
     "data": {
      "text/html": [
       "<div>\n",
       "<style scoped>\n",
       "    .dataframe tbody tr th:only-of-type {\n",
       "        vertical-align: middle;\n",
       "    }\n",
       "\n",
       "    .dataframe tbody tr th {\n",
       "        vertical-align: top;\n",
       "    }\n",
       "\n",
       "    .dataframe thead th {\n",
       "        text-align: right;\n",
       "    }\n",
       "</style>\n",
       "<table border=\"1\" class=\"dataframe\">\n",
       "  <thead>\n",
       "    <tr style=\"text-align: right;\">\n",
       "      <th></th>\n",
       "      <th>district</th>\n",
       "      <th>address</th>\n",
       "      <th>title</th>\n",
       "      <th>house_type</th>\n",
       "      <th>floor</th>\n",
       "      <th>build_time</th>\n",
       "      <th>direction</th>\n",
       "      <th>update_time</th>\n",
       "      <th>extra_info</th>\n",
       "      <th>link</th>\n",
       "    </tr>\n",
       "  </thead>\n",
       "  <tbody>\n",
       "    <tr>\n",
       "      <th>count</th>\n",
       "      <td>2760</td>\n",
       "      <td>2760</td>\n",
       "      <td>2760</td>\n",
       "      <td>2760</td>\n",
       "      <td>2760</td>\n",
       "      <td>2758</td>\n",
       "      <td>2760</td>\n",
       "      <td>2760</td>\n",
       "      <td>2760</td>\n",
       "      <td>2760</td>\n",
       "    </tr>\n",
       "    <tr>\n",
       "      <th>unique</th>\n",
       "      <td>208</td>\n",
       "      <td>1473</td>\n",
       "      <td>2369</td>\n",
       "      <td>24</td>\n",
       "      <td>105</td>\n",
       "      <td>138</td>\n",
       "      <td>35</td>\n",
       "      <td>14</td>\n",
       "      <td>1343</td>\n",
       "      <td>2381</td>\n",
       "    </tr>\n",
       "    <tr>\n",
       "      <th>top</th>\n",
       "      <td>望京租房</td>\n",
       "      <td>远洋山水</td>\n",
       "      <td>禾乔丽致公寓 诚意出租 看房随时 有钥匙</td>\n",
       "      <td>2室1厅</td>\n",
       "      <td>高楼层(共6层)</td>\n",
       "      <td>2004年建塔楼</td>\n",
       "      <td>南 北</td>\n",
       "      <td>2017.07.26</td>\n",
       "      <td>随时看房 精装修 集中供暖</td>\n",
       "      <td>https://bj.lianjia.com/zufang/101101660289.html</td>\n",
       "    </tr>\n",
       "    <tr>\n",
       "      <th>freq</th>\n",
       "      <td>109</td>\n",
       "      <td>19</td>\n",
       "      <td>4</td>\n",
       "      <td>1284</td>\n",
       "      <td>323</td>\n",
       "      <td>78</td>\n",
       "      <td>1009</td>\n",
       "      <td>634</td>\n",
       "      <td>469</td>\n",
       "      <td>3</td>\n",
       "    </tr>\n",
       "  </tbody>\n",
       "</table>\n",
       "</div>"
      ],
      "text/plain": [
       "       district address                 title house_type     floor build_time  \\\n",
       "count      2760    2760                  2760       2760      2760       2758   \n",
       "unique      208    1473                  2369         24       105        138   \n",
       "top        望京租房    远洋山水  禾乔丽致公寓 诚意出租 看房随时 有钥匙       2室1厅  高楼层(共6层)   2004年建塔楼   \n",
       "freq        109      19                     4       1284       323         78   \n",
       "\n",
       "       direction update_time      extra_info  \\\n",
       "count       2760        2760            2760   \n",
       "unique        35          14            1343   \n",
       "top          南 北  2017.07.26   随时看房 精装修 集中供暖   \n",
       "freq        1009         634             469   \n",
       "\n",
       "                                                   link  \n",
       "count                                              2760  \n",
       "unique                                             2381  \n",
       "top     https://bj.lianjia.com/zufang/101101660289.html  \n",
       "freq                                                  3  "
      ]
     },
     "execution_count": 7,
     "metadata": {},
     "output_type": "execute_result"
    }
   ],
   "source": [
    "import numpy as np\n",
    "house_data.describe(include=[np.object_, pd.Categorical])"
   ]
  },
  {
   "cell_type": "code",
   "execution_count": 8,
   "id": "d0fab92d-d894-4962-9cde-6de94a510006",
   "metadata": {},
   "outputs": [
    {
     "data": {
      "text/html": [
       "<div>\n",
       "<style scoped>\n",
       "    .dataframe tbody tr th:only-of-type {\n",
       "        vertical-align: middle;\n",
       "    }\n",
       "\n",
       "    .dataframe tbody tr th {\n",
       "        vertical-align: top;\n",
       "    }\n",
       "\n",
       "    .dataframe thead th {\n",
       "        text-align: right;\n",
       "    }\n",
       "</style>\n",
       "<table border=\"1\" class=\"dataframe\">\n",
       "  <thead>\n",
       "    <tr style=\"text-align: right;\">\n",
       "      <th></th>\n",
       "      <th>count</th>\n",
       "      <th>unique</th>\n",
       "      <th>top</th>\n",
       "      <th>freq</th>\n",
       "    </tr>\n",
       "  </thead>\n",
       "  <tbody>\n",
       "    <tr>\n",
       "      <th>district</th>\n",
       "      <td>2760</td>\n",
       "      <td>208</td>\n",
       "      <td>望京租房</td>\n",
       "      <td>109</td>\n",
       "    </tr>\n",
       "    <tr>\n",
       "      <th>address</th>\n",
       "      <td>2760</td>\n",
       "      <td>1473</td>\n",
       "      <td>远洋山水</td>\n",
       "      <td>19</td>\n",
       "    </tr>\n",
       "    <tr>\n",
       "      <th>title</th>\n",
       "      <td>2760</td>\n",
       "      <td>2369</td>\n",
       "      <td>禾乔丽致公寓 诚意出租 看房随时 有钥匙</td>\n",
       "      <td>4</td>\n",
       "    </tr>\n",
       "    <tr>\n",
       "      <th>house_type</th>\n",
       "      <td>2760</td>\n",
       "      <td>24</td>\n",
       "      <td>2室1厅</td>\n",
       "      <td>1284</td>\n",
       "    </tr>\n",
       "    <tr>\n",
       "      <th>floor</th>\n",
       "      <td>2760</td>\n",
       "      <td>105</td>\n",
       "      <td>高楼层(共6层)</td>\n",
       "      <td>323</td>\n",
       "    </tr>\n",
       "    <tr>\n",
       "      <th>build_time</th>\n",
       "      <td>2758</td>\n",
       "      <td>138</td>\n",
       "      <td>2004年建塔楼</td>\n",
       "      <td>78</td>\n",
       "    </tr>\n",
       "    <tr>\n",
       "      <th>direction</th>\n",
       "      <td>2760</td>\n",
       "      <td>35</td>\n",
       "      <td>南 北</td>\n",
       "      <td>1009</td>\n",
       "    </tr>\n",
       "    <tr>\n",
       "      <th>update_time</th>\n",
       "      <td>2760</td>\n",
       "      <td>14</td>\n",
       "      <td>2017.07.26</td>\n",
       "      <td>634</td>\n",
       "    </tr>\n",
       "    <tr>\n",
       "      <th>extra_info</th>\n",
       "      <td>2760</td>\n",
       "      <td>1343</td>\n",
       "      <td>随时看房 精装修 集中供暖</td>\n",
       "      <td>469</td>\n",
       "    </tr>\n",
       "    <tr>\n",
       "      <th>link</th>\n",
       "      <td>2760</td>\n",
       "      <td>2381</td>\n",
       "      <td>https://bj.lianjia.com/zufang/101101660289.html</td>\n",
       "      <td>3</td>\n",
       "    </tr>\n",
       "  </tbody>\n",
       "</table>\n",
       "</div>"
      ],
      "text/plain": [
       "            count unique                                              top  \\\n",
       "district     2760    208                                             望京租房   \n",
       "address      2760   1473                                             远洋山水   \n",
       "title        2760   2369                             禾乔丽致公寓 诚意出租 看房随时 有钥匙   \n",
       "house_type   2760     24                                             2室1厅   \n",
       "floor        2760    105                                         高楼层(共6层)   \n",
       "build_time   2758    138                                         2004年建塔楼   \n",
       "direction    2760     35                                              南 北   \n",
       "update_time  2760     14                                       2017.07.26   \n",
       "extra_info   2760   1343                                    随时看房 精装修 集中供暖   \n",
       "link         2760   2381  https://bj.lianjia.com/zufang/101101660289.html   \n",
       "\n",
       "             freq  \n",
       "district      109  \n",
       "address        19  \n",
       "title           4  \n",
       "house_type   1284  \n",
       "floor         323  \n",
       "build_time     78  \n",
       "direction    1009  \n",
       "update_time   634  \n",
       "extra_info    469  \n",
       "link            3  "
      ]
     },
     "execution_count": 8,
     "metadata": {},
     "output_type": "execute_result"
    }
   ],
   "source": [
    "# 将 DataFrame 进行转置操作(行列互换)\n",
    "house_data.describe(include=[np.object_, pd.Categorical]).T"
   ]
  },
  {
   "cell_type": "markdown",
   "id": "ef1cc305-a806-4fb7-a6a6-cd55cc575026",
   "metadata": {
    "tags": []
   },
   "source": [
    "### 1.2 租房数据简单分析\n",
    "#### 分析需求：\n",
    "\n",
    "1. 示例1：查看房屋租金的最高价格、最低价格、平均值和中位数\n",
    "2. 示例2：找到租金最低和最高的房子的全部信息\n",
    "3. 示例3：统计看房人数最多的前 20 的区域\n",
    "4. 示例4：查看看房人数最多的房屋朝向\n",
    "5. 示例5：查看出租房屋的户型分布情况\n",
    "6. 示例6：查看热门小区(即：看房人数 TOP5 的小区)\n",
    "7. 示例7：查看出租房源最多的小区\n",
    "8. 示例8：查看望京租房价格在2000以下的房屋信息\n",
    "9. 示例9：查看租房价格在2000以下的房屋信息，并按照价格从低到高排序"
   ]
  },
  {
   "cell_type": "code",
   "execution_count": null,
   "id": "f2c066bf-a7f1-48d6-a37d-999e923e91ee",
   "metadata": {},
   "outputs": [],
   "source": [
    "# 示例1：查看房屋租金的最高价格、最低价格、平均值和中位数\n"
   ]
  },
  {
   "cell_type": "code",
   "execution_count": null,
   "id": "63b52dba-5da6-49b1-8e4e-acbdbc7c9bbd",
   "metadata": {},
   "outputs": [],
   "source": [
    "# 示例2：找到租金最低和最高的房子的全部信息\n",
    "# 获取租金最低的房子信息\n"
   ]
  },
  {
   "cell_type": "code",
   "execution_count": null,
   "id": "a7128618-feb4-42b6-84ce-e4598815764f",
   "metadata": {},
   "outputs": [],
   "source": [
    "# 获取租金最高的房子信息\n"
   ]
  },
  {
   "cell_type": "code",
   "execution_count": null,
   "id": "88629652-2f11-4d9c-9337-645c0f79b29e",
   "metadata": {},
   "outputs": [],
   "source": [
    "# 示例3：统计看房人数最多的前 20 的区域\n"
   ]
  },
  {
   "cell_type": "code",
   "execution_count": null,
   "id": "95ef73d8-178a-40b2-9ec5-a89f3ca09825",
   "metadata": {},
   "outputs": [],
   "source": []
  },
  {
   "cell_type": "markdown",
   "id": "4e749a8a-dd97-4a50-a185-3951ea015551",
   "metadata": {},
   "source": [
    "![图形结果](./pic/chapter03-03.png)"
   ]
  },
  {
   "cell_type": "code",
   "execution_count": null,
   "id": "64d2b402-3aaa-48f9-a53a-2868bd185fdb",
   "metadata": {},
   "outputs": [],
   "source": [
    "# 示例4：查看看房人数最多的房屋朝向\n"
   ]
  },
  {
   "cell_type": "code",
   "execution_count": null,
   "id": "9a8a1f46-0421-4c15-9f46-6dc6c7e7e1fc",
   "metadata": {},
   "outputs": [],
   "source": [
    "# 示例5：查看出租房屋的户型分布情况\n"
   ]
  },
  {
   "cell_type": "markdown",
   "id": "5e2a70e6-c37a-46c0-8ea1-8dfef9b3ccf8",
   "metadata": {},
   "source": [
    "![图形结果](./pic/chapter03-04.png)"
   ]
  },
  {
   "cell_type": "code",
   "execution_count": null,
   "id": "71293f97-f7df-44c6-8972-22cb935e2bf3",
   "metadata": {},
   "outputs": [],
   "source": [
    "# 示例6：查看热门小区(即：看房人数 TOP5 的小区)\n"
   ]
  },
  {
   "cell_type": "markdown",
   "id": "839cf358-0329-4229-892b-7022c428ea3f",
   "metadata": {},
   "source": [
    "![图形结果](./pic/chapter03-04.png)"
   ]
  },
  {
   "cell_type": "code",
   "execution_count": null,
   "id": "ba7edd32-555d-41d9-ab55-ceb41493b831",
   "metadata": {},
   "outputs": [],
   "source": [
    "# 示例7：查看出租房源最多的小区\n"
   ]
  },
  {
   "cell_type": "code",
   "execution_count": null,
   "id": "e4933cd0-aa2d-4c0a-a762-e7fdf4c3add2",
   "metadata": {},
   "outputs": [],
   "source": [
    "# 示例8：查看望京租房价格在2000以下的房屋信息\n"
   ]
  },
  {
   "cell_type": "code",
   "execution_count": null,
   "id": "cb0b0f19-96db-44dc-b74e-55b768f14383",
   "metadata": {},
   "outputs": [],
   "source": [
    "# 示例9：查看租房价格在2000以下的房屋信息，并按照价格从低到高排序\n"
   ]
  },
  {
   "cell_type": "markdown",
   "id": "9b920b45-f06e-401e-9b11-ee078bf0ec7e",
   "metadata": {},
   "source": [
    "# 总结\n",
    "+ 能够完成租房数据分析的案例"
   ]
  },
  {
   "cell_type": "code",
   "execution_count": null,
   "id": "12dbaecc-4d86-4262-af51-3e0fd0b154fe",
   "metadata": {},
   "outputs": [],
   "source": []
  }
 ],
 "metadata": {
  "kernelspec": {
   "display_name": "Python 3",
   "language": "python",
   "name": "python3"
  },
  "language_info": {
   "codemirror_mode": {
    "name": "ipython",
    "version": 3
   },
   "file_extension": ".py",
   "mimetype": "text/x-python",
   "name": "python",
   "nbconvert_exporter": "python",
   "pygments_lexer": "ipython3",
   "version": "3.6.4"
  }
 },
 "nbformat": 4,
 "nbformat_minor": 5
}
